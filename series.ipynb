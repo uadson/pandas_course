{
 "cells": [
  {
   "cell_type": "markdown",
   "metadata": {},
   "source": [
    "### Imports"
   ]
  },
  {
   "cell_type": "code",
   "execution_count": 37,
   "metadata": {},
   "outputs": [],
   "source": [
    "import pandas as pd\n",
    "import numpy as np\n",
    "import random\n",
    "from string import ascii_uppercase"
   ]
  },
  {
   "cell_type": "markdown",
   "metadata": {},
   "source": [
    "### Series creation"
   ]
  },
  {
   "cell_type": "code",
   "execution_count": 30,
   "metadata": {},
   "outputs": [
    {
     "name": "stdout",
     "output_type": "stream",
     "text": [
      "[10, 20, 30, 40, 50, 60, 70, 80, 90, 100]\n"
     ]
    }
   ],
   "source": [
    "data = [num for num in range(10, 110, 10)]\n",
    "print(data)"
   ]
  },
  {
   "cell_type": "code",
   "execution_count": 31,
   "metadata": {},
   "outputs": [
    {
     "name": "stdout",
     "output_type": "stream",
     "text": [
      "0     10\n",
      "1     20\n",
      "2     30\n",
      "3     40\n",
      "4     50\n",
      "5     60\n",
      "6     70\n",
      "7     80\n",
      "8     90\n",
      "9    100\n",
      "dtype: int64\n"
     ]
    }
   ],
   "source": [
    "data_serie = pd.Series(data)\n",
    "print(data_serie)"
   ]
  },
  {
   "cell_type": "code",
   "execution_count": 32,
   "metadata": {},
   "outputs": [
    {
     "name": "stdout",
     "output_type": "stream",
     "text": [
      "<class 'pandas.core.series.Series'>\n"
     ]
    }
   ],
   "source": [
    "print(type(data_serie))"
   ]
  },
  {
   "cell_type": "code",
   "execution_count": 33,
   "metadata": {},
   "outputs": [
    {
     "name": "stdout",
     "output_type": "stream",
     "text": [
      "<class 'list'>\n",
      "A    10\n",
      "B    20\n",
      "C    30\n",
      "D    40\n",
      "E    50\n",
      "dtype: int64\n"
     ]
    }
   ],
   "source": [
    "int_array = [num for num in range(10, 60, 10)]\n",
    "print(type(int_array))\n",
    "indexes = ['A B C D E'.split(' ')]\n",
    "data_series = pd.Series(int_array, indexes)\n",
    "print(data_series)"
   ]
  },
  {
   "cell_type": "code",
   "execution_count": 34,
   "metadata": {},
   "outputs": [
    {
     "name": "stdout",
     "output_type": "stream",
     "text": [
      "[10 20 30 40 50]\n",
      "<class 'numpy.ndarray'>\n"
     ]
    }
   ],
   "source": [
    "np_array = np.array(int_array)\n",
    "print(np_array)\n",
    "print(type(np_array))"
   ]
  },
  {
   "cell_type": "code",
   "execution_count": 35,
   "metadata": {},
   "outputs": [
    {
     "name": "stdout",
     "output_type": "stream",
     "text": [
      "0    10\n",
      "1    20\n",
      "2    30\n",
      "3    40\n",
      "4    50\n",
      "dtype: int64\n"
     ]
    }
   ],
   "source": [
    "data_series = pd.Series(np_array)\n",
    "print(data_series)"
   ]
  },
  {
   "cell_type": "code",
   "execution_count": 47,
   "metadata": {},
   "outputs": [
    {
     "name": "stdout",
     "output_type": "stream",
     "text": [
      "Lines: (5,)\n",
      "Dimension: 1\n",
      "Size: 5\n"
     ]
    }
   ],
   "source": [
    "print(f\"Lines: {data_series.shape}\")\n",
    "print(f'Dimension: {data_series.ndim}')\n",
    "print(f'Size: {data_series.size}')"
   ]
  },
  {
   "cell_type": "code",
   "execution_count": 48,
   "metadata": {},
   "outputs": [
    {
     "name": "stdout",
     "output_type": "stream",
     "text": [
      "X    10\n",
      "W    20\n",
      "R    30\n",
      "W    40\n",
      "M    50\n",
      "dtype: int64\n"
     ]
    }
   ],
   "source": [
    "data_series.index = [random.choice(ascii_uppercase) for _ in range(5)]\n",
    "print(data_series)"
   ]
  },
  {
   "cell_type": "code",
   "execution_count": 51,
   "metadata": {},
   "outputs": [
    {
     "name": "stdout",
     "output_type": "stream",
     "text": [
      "Values: [0.81865679 0.34789288 0.76486364 0.72624804 0.3241971  0.86851545\n",
      " 0.37830818 0.3439698  0.69106987 0.03418109]\n",
      "Indexes: [0 1 2 3 4 5 6 7 8 9]\n",
      "0    0.818657\n",
      "1    0.347893\n",
      "2    0.764864\n",
      "3    0.726248\n",
      "4    0.324197\n",
      "5    0.868515\n",
      "6    0.378308\n",
      "7    0.343970\n",
      "8    0.691070\n",
      "9    0.034181\n",
      "dtype: float64\n"
     ]
    }
   ],
   "source": [
    "values = np.random.random(10)\n",
    "indexes = np.arange(0, 10)\n",
    "\n",
    "print(f'Values: {values}')\n",
    "print(f'Indexes: {indexes}')\n",
    "\n",
    "data_series = pd.Series(values, indexes)\n",
    "\n",
    "print(data_series)"
   ]
  },
  {
   "cell_type": "code",
   "execution_count": 53,
   "metadata": {},
   "outputs": [
    {
     "name": "stdout",
     "output_type": "stream",
     "text": [
      "{'O': 6, 'Y': 1, 'X': 4, 'L': 3, 'R': 4}\n",
      "O    6\n",
      "Y    1\n",
      "X    4\n",
      "L    3\n",
      "R    4\n",
      "dtype: int64\n"
     ]
    }
   ],
   "source": [
    "dict_data = {random.choice(ascii_uppercase):random.randint(1, 10) for _ in range(5)}\n",
    "\n",
    "print(dict_data)\n",
    "\n",
    "data_series = pd.Series(dict_data)\n",
    "\n",
    "print(data_series)"
   ]
  },
  {
   "cell_type": "markdown",
   "metadata": {},
   "source": [
    "### Slicing"
   ]
  },
  {
   "cell_type": "markdown",
   "metadata": {},
   "source": [
    "### Copying, converting and concatenating"
   ]
  }
 ],
 "metadata": {
  "kernelspec": {
   "display_name": "pandas-course-vco9zKZl-py3.12",
   "language": "python",
   "name": "python3"
  },
  "language_info": {
   "codemirror_mode": {
    "name": "ipython",
    "version": 3
   },
   "file_extension": ".py",
   "mimetype": "text/x-python",
   "name": "python",
   "nbconvert_exporter": "python",
   "pygments_lexer": "ipython3",
   "version": "3.12.3"
  }
 },
 "nbformat": 4,
 "nbformat_minor": 2
}
