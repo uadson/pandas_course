{
 "cells": [
  {
   "cell_type": "markdown",
   "metadata": {},
   "source": [
    "### Imports"
   ]
  },
  {
   "cell_type": "code",
   "execution_count": 2,
   "metadata": {},
   "outputs": [],
   "source": [
    "import pandas as pd\n",
    "import numpy as np\n",
    "import random\n",
    "from string import ascii_uppercase"
   ]
  },
  {
   "cell_type": "markdown",
   "metadata": {},
   "source": [
    "### Series creation"
   ]
  },
  {
   "cell_type": "code",
   "execution_count": 3,
   "metadata": {},
   "outputs": [
    {
     "name": "stdout",
     "output_type": "stream",
     "text": [
      "[10, 20, 30, 40, 50, 60, 70, 80, 90, 100]\n"
     ]
    }
   ],
   "source": [
    "data = [num for num in range(10, 110, 10)]\n",
    "print(data)"
   ]
  },
  {
   "cell_type": "code",
   "execution_count": 4,
   "metadata": {},
   "outputs": [
    {
     "name": "stdout",
     "output_type": "stream",
     "text": [
      "0     10\n",
      "1     20\n",
      "2     30\n",
      "3     40\n",
      "4     50\n",
      "5     60\n",
      "6     70\n",
      "7     80\n",
      "8     90\n",
      "9    100\n",
      "dtype: int64\n"
     ]
    }
   ],
   "source": [
    "data_serie = pd.Series(data)\n",
    "print(data_serie)"
   ]
  },
  {
   "cell_type": "code",
   "execution_count": 5,
   "metadata": {},
   "outputs": [
    {
     "name": "stdout",
     "output_type": "stream",
     "text": [
      "<class 'pandas.core.series.Series'>\n"
     ]
    }
   ],
   "source": [
    "print(type(data_serie))"
   ]
  },
  {
   "cell_type": "code",
   "execution_count": 6,
   "metadata": {},
   "outputs": [
    {
     "name": "stdout",
     "output_type": "stream",
     "text": [
      "<class 'list'>\n",
      "A    10\n",
      "B    20\n",
      "C    30\n",
      "D    40\n",
      "E    50\n",
      "dtype: int64\n"
     ]
    }
   ],
   "source": [
    "int_array = [num for num in range(10, 60, 10)]\n",
    "print(type(int_array))\n",
    "indexes = ['A B C D E'.split(' ')]\n",
    "data_series = pd.Series(int_array, indexes)\n",
    "print(data_series)"
   ]
  },
  {
   "cell_type": "code",
   "execution_count": 7,
   "metadata": {},
   "outputs": [
    {
     "name": "stdout",
     "output_type": "stream",
     "text": [
      "[10 20 30 40 50]\n",
      "<class 'numpy.ndarray'>\n"
     ]
    }
   ],
   "source": [
    "np_array = np.array(int_array)\n",
    "print(np_array)\n",
    "print(type(np_array))"
   ]
  },
  {
   "cell_type": "code",
   "execution_count": 8,
   "metadata": {},
   "outputs": [
    {
     "name": "stdout",
     "output_type": "stream",
     "text": [
      "0    10\n",
      "1    20\n",
      "2    30\n",
      "3    40\n",
      "4    50\n",
      "dtype: int64\n"
     ]
    }
   ],
   "source": [
    "data_series = pd.Series(np_array)\n",
    "print(data_series)"
   ]
  },
  {
   "cell_type": "code",
   "execution_count": 9,
   "metadata": {},
   "outputs": [
    {
     "name": "stdout",
     "output_type": "stream",
     "text": [
      "Lines: (5,)\n",
      "Dimension: 1\n",
      "Size: 5\n"
     ]
    }
   ],
   "source": [
    "print(f\"Lines: {data_series.shape}\")\n",
    "print(f'Dimension: {data_series.ndim}')\n",
    "print(f'Size: {data_series.size}')"
   ]
  },
  {
   "cell_type": "code",
   "execution_count": 10,
   "metadata": {},
   "outputs": [
    {
     "name": "stdout",
     "output_type": "stream",
     "text": [
      "A    10\n",
      "O    20\n",
      "N    30\n",
      "N    40\n",
      "M    50\n",
      "dtype: int64\n"
     ]
    }
   ],
   "source": [
    "data_series.index = [random.choice(ascii_uppercase) for _ in range(5)]\n",
    "print(data_series)"
   ]
  },
  {
   "cell_type": "code",
   "execution_count": 11,
   "metadata": {},
   "outputs": [
    {
     "name": "stdout",
     "output_type": "stream",
     "text": [
      "Values: [0.48721234 0.98804716 0.89636113 0.63058278 0.26618392 0.05429332\n",
      " 0.79708793 0.57079022 0.1775655  0.75752916]\n",
      "Indexes: [0 1 2 3 4 5 6 7 8 9]\n",
      "0    0.487212\n",
      "1    0.988047\n",
      "2    0.896361\n",
      "3    0.630583\n",
      "4    0.266184\n",
      "5    0.054293\n",
      "6    0.797088\n",
      "7    0.570790\n",
      "8    0.177566\n",
      "9    0.757529\n",
      "dtype: float64\n"
     ]
    }
   ],
   "source": [
    "values = np.random.random(10)\n",
    "indexes = np.arange(0, 10)\n",
    "\n",
    "print(f'Values: {values}')\n",
    "print(f'Indexes: {indexes}')\n",
    "\n",
    "data_series = pd.Series(values, indexes)\n",
    "\n",
    "print(data_series)"
   ]
  },
  {
   "cell_type": "code",
   "execution_count": 12,
   "metadata": {},
   "outputs": [
    {
     "name": "stdout",
     "output_type": "stream",
     "text": [
      "{'D': 7, 'I': 2, 'P': 6, 'Z': 1, 'K': 5}\n",
      "D    7\n",
      "I    2\n",
      "P    6\n",
      "Z    1\n",
      "K    5\n",
      "dtype: int64\n"
     ]
    }
   ],
   "source": [
    "dict_data = {random.choice(ascii_uppercase):random.randint(1, 10) for _ in range(5)}\n",
    "\n",
    "print(dict_data)\n",
    "\n",
    "data_series = pd.Series(dict_data)\n",
    "\n",
    "print(data_series)"
   ]
  },
  {
   "cell_type": "markdown",
   "metadata": {},
   "source": [
    "### Slicing"
   ]
  },
  {
   "cell_type": "code",
   "execution_count": 13,
   "metadata": {},
   "outputs": [
    {
     "name": "stdout",
     "output_type": "stream",
     "text": [
      "0    0.514076\n",
      "1    0.199535\n",
      "2    0.419371\n",
      "3    0.215757\n",
      "4    0.193507\n",
      "5    0.291959\n",
      "6    0.983489\n",
      "7    0.837883\n",
      "8    0.534283\n",
      "9    0.783606\n",
      "dtype: float64\n"
     ]
    }
   ],
   "source": [
    "data_serie = pd.Series(data=np.random.random(10))\n",
    "\n",
    "print(data_serie)"
   ]
  },
  {
   "cell_type": "code",
   "execution_count": 14,
   "metadata": {},
   "outputs": [
    {
     "data": {
      "text/plain": [
       "0    0.514076\n",
       "1    0.199535\n",
       "2    0.419371\n",
       "3    0.215757\n",
       "4    0.193507\n",
       "5    0.291959\n",
       "6    0.983489\n",
       "7    0.837883\n",
       "8    0.534283\n",
       "9    0.783606\n",
       "dtype: float64"
      ]
     },
     "execution_count": 14,
     "metadata": {},
     "output_type": "execute_result"
    }
   ],
   "source": [
    "data_serie[:]"
   ]
  },
  {
   "cell_type": "code",
   "execution_count": 21,
   "metadata": {},
   "outputs": [
    {
     "data": {
      "text/plain": [
       "9    0.783606\n",
       "dtype: float64"
      ]
     },
     "execution_count": 21,
     "metadata": {},
     "output_type": "execute_result"
    }
   ],
   "source": [
    "data_serie[-1::]"
   ]
  },
  {
   "cell_type": "code",
   "execution_count": null,
   "metadata": {},
   "outputs": [],
   "source": []
  },
  {
   "cell_type": "markdown",
   "metadata": {},
   "source": [
    "### Copying, converting and concatenating"
   ]
  },
  {
   "cell_type": "code",
   "execution_count": 22,
   "metadata": {},
   "outputs": [],
   "source": [
    "# Copy\n",
    "data_serie2 = data_serie.copy()"
   ]
  },
  {
   "cell_type": "code",
   "execution_count": 23,
   "metadata": {},
   "outputs": [
    {
     "data": {
      "text/plain": [
       "0    0.514076\n",
       "1    0.199535\n",
       "2    0.419371\n",
       "3    0.215757\n",
       "4    0.193507\n",
       "5    0.291959\n",
       "6    0.983489\n",
       "7    0.837883\n",
       "8    0.534283\n",
       "9    0.783606\n",
       "dtype: float64"
      ]
     },
     "execution_count": 23,
     "metadata": {},
     "output_type": "execute_result"
    }
   ],
   "source": [
    "data_serie2"
   ]
  },
  {
   "cell_type": "code",
   "execution_count": 25,
   "metadata": {},
   "outputs": [
    {
     "data": {
      "text/plain": [
       "dtype('float64')"
      ]
     },
     "execution_count": 25,
     "metadata": {},
     "output_type": "execute_result"
    }
   ],
   "source": [
    "# Convert from float\n",
    "data_serie2.dtype"
   ]
  },
  {
   "cell_type": "code",
   "execution_count": 27,
   "metadata": {},
   "outputs": [
    {
     "data": {
      "text/plain": [
       "0    0\n",
       "1    0\n",
       "2    0\n",
       "3    0\n",
       "4    0\n",
       "5    0\n",
       "6    0\n",
       "7    0\n",
       "8    0\n",
       "9    0\n",
       "dtype: int64"
      ]
     },
     "execution_count": 27,
     "metadata": {},
     "output_type": "execute_result"
    }
   ],
   "source": [
    "# To int\n",
    "data_serie3 = data_serie2.astype(int)\n",
    "data_serie3"
   ]
  },
  {
   "cell_type": "code",
   "execution_count": 36,
   "metadata": {},
   "outputs": [],
   "source": [
    "# Concat\n",
    "\n",
    "# Two dicts\n",
    "dic1 = {'João': 22, 'Alice': 34, 'Gustavo': 29, 'Pedro': 21}\n",
    "dic2 = {'Gustavo': 17, 'Alana': 30}\n",
    "\n",
    "# for to Series\n",
    "data_serie4 = pd.Series(data=dic1)\n",
    "data_serie5 = pd.Series(data=dic2)\n"
   ]
  },
  {
   "cell_type": "code",
   "execution_count": 38,
   "metadata": {},
   "outputs": [
    {
     "data": {
      "text/plain": [
       "João       22\n",
       "Alice      34\n",
       "Gustavo    29\n",
       "Pedro      21\n",
       "Gustavo    17\n",
       "Alana      30\n",
       "dtype: int64"
      ]
     },
     "execution_count": 38,
     "metadata": {},
     "output_type": "execute_result"
    }
   ],
   "source": [
    "# Concat two series\n",
    "data_serie6 = pd.concat([data_serie4, data_serie5])\n",
    "data_serie6"
   ]
  },
  {
   "cell_type": "code",
   "execution_count": null,
   "metadata": {},
   "outputs": [],
   "source": []
  }
 ],
 "metadata": {
  "kernelspec": {
   "display_name": "pandas-course-vco9zKZl-py3.12",
   "language": "python",
   "name": "python3"
  },
  "language_info": {
   "codemirror_mode": {
    "name": "ipython",
    "version": 3
   },
   "file_extension": ".py",
   "mimetype": "text/x-python",
   "name": "python",
   "nbconvert_exporter": "python",
   "pygments_lexer": "ipython3",
   "version": "3.12.3"
  }
 },
 "nbformat": 4,
 "nbformat_minor": 2
}
