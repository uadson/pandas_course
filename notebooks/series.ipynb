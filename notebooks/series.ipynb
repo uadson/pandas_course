{
 "cells": [
  {
   "cell_type": "markdown",
   "metadata": {},
   "source": [
    "### Imports"
   ]
  },
  {
   "cell_type": "code",
   "execution_count": 1,
   "metadata": {},
   "outputs": [],
   "source": [
    "import pandas as pd\n",
    "import numpy as np\n",
    "import random\n",
    "from string import ascii_uppercase\n",
    "import os\n",
    "from faker import Faker"
   ]
  },
  {
   "cell_type": "markdown",
   "metadata": {},
   "source": [
    "### Series creation"
   ]
  },
  {
   "cell_type": "code",
   "execution_count": 2,
   "metadata": {},
   "outputs": [
    {
     "name": "stdout",
     "output_type": "stream",
     "text": [
      "[10, 20, 30, 40, 50, 60, 70, 80, 90, 100]\n"
     ]
    }
   ],
   "source": [
    "data = [num for num in range(10, 110, 10)]\n",
    "print(data)"
   ]
  },
  {
   "cell_type": "code",
   "execution_count": 3,
   "metadata": {},
   "outputs": [
    {
     "name": "stdout",
     "output_type": "stream",
     "text": [
      "0     10\n",
      "1     20\n",
      "2     30\n",
      "3     40\n",
      "4     50\n",
      "5     60\n",
      "6     70\n",
      "7     80\n",
      "8     90\n",
      "9    100\n",
      "dtype: int64\n"
     ]
    }
   ],
   "source": [
    "data_serie = pd.Series(data)\n",
    "print(data_serie)"
   ]
  },
  {
   "cell_type": "code",
   "execution_count": 4,
   "metadata": {},
   "outputs": [
    {
     "name": "stdout",
     "output_type": "stream",
     "text": [
      "<class 'pandas.core.series.Series'>\n"
     ]
    }
   ],
   "source": [
    "print(type(data_serie))"
   ]
  },
  {
   "cell_type": "code",
   "execution_count": 5,
   "metadata": {},
   "outputs": [
    {
     "name": "stdout",
     "output_type": "stream",
     "text": [
      "<class 'list'>\n",
      "A    10\n",
      "B    20\n",
      "C    30\n",
      "D    40\n",
      "E    50\n",
      "dtype: int64\n"
     ]
    }
   ],
   "source": [
    "int_array = [num for num in range(10, 60, 10)]\n",
    "print(type(int_array))\n",
    "indexes = ['A B C D E'.split(' ')]\n",
    "data_series = pd.Series(int_array, indexes)\n",
    "print(data_series)"
   ]
  },
  {
   "cell_type": "code",
   "execution_count": 6,
   "metadata": {},
   "outputs": [
    {
     "name": "stdout",
     "output_type": "stream",
     "text": [
      "[10 20 30 40 50]\n",
      "<class 'numpy.ndarray'>\n"
     ]
    }
   ],
   "source": [
    "np_array = np.array(int_array)\n",
    "print(np_array)\n",
    "print(type(np_array))"
   ]
  },
  {
   "cell_type": "code",
   "execution_count": 7,
   "metadata": {},
   "outputs": [
    {
     "name": "stdout",
     "output_type": "stream",
     "text": [
      "0    10\n",
      "1    20\n",
      "2    30\n",
      "3    40\n",
      "4    50\n",
      "dtype: int64\n"
     ]
    }
   ],
   "source": [
    "data_series = pd.Series(np_array)\n",
    "print(data_series)"
   ]
  },
  {
   "cell_type": "code",
   "execution_count": 8,
   "metadata": {},
   "outputs": [
    {
     "name": "stdout",
     "output_type": "stream",
     "text": [
      "Lines: (5,)\n",
      "Dimension: 1\n",
      "Size: 5\n"
     ]
    }
   ],
   "source": [
    "print(f\"Lines: {data_series.shape}\")\n",
    "print(f'Dimension: {data_series.ndim}')\n",
    "print(f'Size: {data_series.size}')"
   ]
  },
  {
   "cell_type": "code",
   "execution_count": 9,
   "metadata": {},
   "outputs": [
    {
     "name": "stdout",
     "output_type": "stream",
     "text": [
      "C    10\n",
      "Y    20\n",
      "B    30\n",
      "N    40\n",
      "Y    50\n",
      "dtype: int64\n"
     ]
    }
   ],
   "source": [
    "data_series.index = [random.choice(ascii_uppercase) for _ in range(5)]\n",
    "print(data_series)"
   ]
  },
  {
   "cell_type": "code",
   "execution_count": 10,
   "metadata": {},
   "outputs": [
    {
     "name": "stdout",
     "output_type": "stream",
     "text": [
      "Values: [0.25708262 0.2518731  0.45178466 0.15847449 0.65512416 0.15880467\n",
      " 0.28567035 0.52601151 0.79699179 0.34535002]\n",
      "Indexes: [0 1 2 3 4 5 6 7 8 9]\n",
      "0    0.257083\n",
      "1    0.251873\n",
      "2    0.451785\n",
      "3    0.158474\n",
      "4    0.655124\n",
      "5    0.158805\n",
      "6    0.285670\n",
      "7    0.526012\n",
      "8    0.796992\n",
      "9    0.345350\n",
      "dtype: float64\n"
     ]
    }
   ],
   "source": [
    "values = np.random.random(10)\n",
    "indexes = np.arange(0, 10)\n",
    "\n",
    "print(f'Values: {values}')\n",
    "print(f'Indexes: {indexes}')\n",
    "\n",
    "data_series = pd.Series(values, indexes)\n",
    "\n",
    "print(data_series)"
   ]
  },
  {
   "cell_type": "code",
   "execution_count": 11,
   "metadata": {},
   "outputs": [
    {
     "name": "stdout",
     "output_type": "stream",
     "text": [
      "{'P': 10, 'Q': 4, 'I': 7, 'M': 10, 'X': 3}\n",
      "P    10\n",
      "Q     4\n",
      "I     7\n",
      "M    10\n",
      "X     3\n",
      "dtype: int64\n"
     ]
    }
   ],
   "source": [
    "dict_data = {random.choice(ascii_uppercase):random.randint(1, 10) for _ in range(5)}\n",
    "\n",
    "print(dict_data)\n",
    "\n",
    "data_series = pd.Series(dict_data)\n",
    "\n",
    "print(data_series)"
   ]
  },
  {
   "cell_type": "markdown",
   "metadata": {},
   "source": [
    "### Slicing"
   ]
  },
  {
   "cell_type": "code",
   "execution_count": 12,
   "metadata": {},
   "outputs": [
    {
     "name": "stdout",
     "output_type": "stream",
     "text": [
      "0    0.188593\n",
      "1    0.863766\n",
      "2    0.622692\n",
      "3    0.341958\n",
      "4    0.652123\n",
      "5    0.232080\n",
      "6    0.115872\n",
      "7    0.634369\n",
      "8    0.016837\n",
      "9    0.132717\n",
      "dtype: float64\n"
     ]
    }
   ],
   "source": [
    "data_serie = pd.Series(data=np.random.random(10))\n",
    "\n",
    "print(data_serie)"
   ]
  },
  {
   "cell_type": "code",
   "execution_count": 13,
   "metadata": {},
   "outputs": [
    {
     "data": {
      "text/plain": [
       "0    0.188593\n",
       "1    0.863766\n",
       "2    0.622692\n",
       "3    0.341958\n",
       "4    0.652123\n",
       "5    0.232080\n",
       "6    0.115872\n",
       "7    0.634369\n",
       "8    0.016837\n",
       "9    0.132717\n",
       "dtype: float64"
      ]
     },
     "execution_count": 13,
     "metadata": {},
     "output_type": "execute_result"
    }
   ],
   "source": [
    "data_serie[:]"
   ]
  },
  {
   "cell_type": "code",
   "execution_count": 14,
   "metadata": {},
   "outputs": [
    {
     "data": {
      "text/plain": [
       "9    0.132717\n",
       "dtype: float64"
      ]
     },
     "execution_count": 14,
     "metadata": {},
     "output_type": "execute_result"
    }
   ],
   "source": [
    "data_serie[-1::]"
   ]
  },
  {
   "cell_type": "code",
   "execution_count": 15,
   "metadata": {},
   "outputs": [
    {
     "data": {
      "text/plain": [
       "9    0.132717\n",
       "dtype: float64"
      ]
     },
     "execution_count": 15,
     "metadata": {},
     "output_type": "execute_result"
    }
   ],
   "source": [
    "data_serie[-1:]"
   ]
  },
  {
   "cell_type": "markdown",
   "metadata": {},
   "source": [
    "### Copying, converting and concatenating"
   ]
  },
  {
   "cell_type": "code",
   "execution_count": 16,
   "metadata": {},
   "outputs": [],
   "source": [
    "# Copy\n",
    "data_serie2 = data_serie.copy()"
   ]
  },
  {
   "cell_type": "code",
   "execution_count": 17,
   "metadata": {},
   "outputs": [
    {
     "data": {
      "text/plain": [
       "0    0.188593\n",
       "1    0.863766\n",
       "2    0.622692\n",
       "3    0.341958\n",
       "4    0.652123\n",
       "5    0.232080\n",
       "6    0.115872\n",
       "7    0.634369\n",
       "8    0.016837\n",
       "9    0.132717\n",
       "dtype: float64"
      ]
     },
     "execution_count": 17,
     "metadata": {},
     "output_type": "execute_result"
    }
   ],
   "source": [
    "data_serie2"
   ]
  },
  {
   "cell_type": "code",
   "execution_count": 18,
   "metadata": {},
   "outputs": [
    {
     "data": {
      "text/plain": [
       "dtype('float64')"
      ]
     },
     "execution_count": 18,
     "metadata": {},
     "output_type": "execute_result"
    }
   ],
   "source": [
    "# Convert from float\n",
    "data_serie2.dtype"
   ]
  },
  {
   "cell_type": "code",
   "execution_count": 19,
   "metadata": {},
   "outputs": [
    {
     "data": {
      "text/plain": [
       "0    0\n",
       "1    0\n",
       "2    0\n",
       "3    0\n",
       "4    0\n",
       "5    0\n",
       "6    0\n",
       "7    0\n",
       "8    0\n",
       "9    0\n",
       "dtype: int64"
      ]
     },
     "execution_count": 19,
     "metadata": {},
     "output_type": "execute_result"
    }
   ],
   "source": [
    "# To int\n",
    "data_serie3 = data_serie2.astype(int)\n",
    "data_serie3"
   ]
  },
  {
   "cell_type": "code",
   "execution_count": 20,
   "metadata": {},
   "outputs": [],
   "source": [
    "# Concat\n",
    "\n",
    "# Two dicts\n",
    "dic1 = {'João': 22, 'Alice': 34, 'Gustavo': 29, 'Pedro': 21}\n",
    "dic2 = {'Gustavo': 17, 'Alana': 30}\n",
    "\n",
    "# for to Series\n",
    "data_serie4 = pd.Series(data=dic1)\n",
    "data_serie5 = pd.Series(data=dic2)\n"
   ]
  },
  {
   "cell_type": "code",
   "execution_count": 21,
   "metadata": {},
   "outputs": [
    {
     "data": {
      "text/plain": [
       "João       22\n",
       "Alice      34\n",
       "Gustavo    29\n",
       "Pedro      21\n",
       "Gustavo    17\n",
       "Alana      30\n",
       "dtype: int64"
      ]
     },
     "execution_count": 21,
     "metadata": {},
     "output_type": "execute_result"
    }
   ],
   "source": [
    "# Concat two series\n",
    "data_serie6 = pd.concat([data_serie4, data_serie5])\n",
    "data_serie6"
   ]
  },
  {
   "cell_type": "markdown",
   "metadata": {},
   "source": [
    "### Acesso aos dados com iLoc\n",
    " - Acessar elementos pelo índice"
   ]
  },
  {
   "cell_type": "code",
   "execution_count": 22,
   "metadata": {},
   "outputs": [],
   "source": [
    "filename = 'census.csv'\n",
    "dataset = pd.read_csv(f\"{os.path.join(os.path.dirname(os.getcwd()), 'data', filename)}\")"
   ]
  },
  {
   "cell_type": "code",
   "execution_count": 23,
   "metadata": {},
   "outputs": [
    {
     "name": "stdout",
     "output_type": "stream",
     "text": [
      "<class 'pandas.core.frame.DataFrame'>\n"
     ]
    }
   ],
   "source": [
    "print(type(dataset))"
   ]
  },
  {
   "cell_type": "code",
   "execution_count": 24,
   "metadata": {},
   "outputs": [
    {
     "data": {
      "text/html": [
       "<div>\n",
       "<style scoped>\n",
       "    .dataframe tbody tr th:only-of-type {\n",
       "        vertical-align: middle;\n",
       "    }\n",
       "\n",
       "    .dataframe tbody tr th {\n",
       "        vertical-align: top;\n",
       "    }\n",
       "\n",
       "    .dataframe thead th {\n",
       "        text-align: right;\n",
       "    }\n",
       "</style>\n",
       "<table border=\"1\" class=\"dataframe\">\n",
       "  <thead>\n",
       "    <tr style=\"text-align: right;\">\n",
       "      <th></th>\n",
       "      <th>age</th>\n",
       "      <th>workclass</th>\n",
       "      <th>final-weight</th>\n",
       "      <th>education</th>\n",
       "      <th>education-num</th>\n",
       "      <th>marital-status</th>\n",
       "      <th>occupation</th>\n",
       "      <th>relationship</th>\n",
       "      <th>race</th>\n",
       "      <th>sex</th>\n",
       "      <th>capital-gain</th>\n",
       "      <th>capital-loos</th>\n",
       "      <th>hour-per-week</th>\n",
       "      <th>native-country</th>\n",
       "      <th>income</th>\n",
       "    </tr>\n",
       "  </thead>\n",
       "  <tbody>\n",
       "    <tr>\n",
       "      <th>0</th>\n",
       "      <td>39</td>\n",
       "      <td>State-gov</td>\n",
       "      <td>77516</td>\n",
       "      <td>Bachelors</td>\n",
       "      <td>13</td>\n",
       "      <td>Never-married</td>\n",
       "      <td>Adm-clerical</td>\n",
       "      <td>Not-in-family</td>\n",
       "      <td>White</td>\n",
       "      <td>Male</td>\n",
       "      <td>2174</td>\n",
       "      <td>0</td>\n",
       "      <td>40</td>\n",
       "      <td>United-States</td>\n",
       "      <td>&lt;=50K</td>\n",
       "    </tr>\n",
       "    <tr>\n",
       "      <th>1</th>\n",
       "      <td>50</td>\n",
       "      <td>Self-emp-not-inc</td>\n",
       "      <td>83311</td>\n",
       "      <td>Bachelors</td>\n",
       "      <td>13</td>\n",
       "      <td>Married-civ-spouse</td>\n",
       "      <td>Exec-managerial</td>\n",
       "      <td>Husband</td>\n",
       "      <td>White</td>\n",
       "      <td>Male</td>\n",
       "      <td>0</td>\n",
       "      <td>0</td>\n",
       "      <td>13</td>\n",
       "      <td>United-States</td>\n",
       "      <td>&lt;=50K</td>\n",
       "    </tr>\n",
       "    <tr>\n",
       "      <th>2</th>\n",
       "      <td>38</td>\n",
       "      <td>Private</td>\n",
       "      <td>215646</td>\n",
       "      <td>HS-grad</td>\n",
       "      <td>9</td>\n",
       "      <td>Divorced</td>\n",
       "      <td>Handlers-cleaners</td>\n",
       "      <td>Not-in-family</td>\n",
       "      <td>White</td>\n",
       "      <td>Male</td>\n",
       "      <td>0</td>\n",
       "      <td>0</td>\n",
       "      <td>40</td>\n",
       "      <td>United-States</td>\n",
       "      <td>&lt;=50K</td>\n",
       "    </tr>\n",
       "    <tr>\n",
       "      <th>3</th>\n",
       "      <td>53</td>\n",
       "      <td>Private</td>\n",
       "      <td>234721</td>\n",
       "      <td>11th</td>\n",
       "      <td>7</td>\n",
       "      <td>Married-civ-spouse</td>\n",
       "      <td>Handlers-cleaners</td>\n",
       "      <td>Husband</td>\n",
       "      <td>Black</td>\n",
       "      <td>Male</td>\n",
       "      <td>0</td>\n",
       "      <td>0</td>\n",
       "      <td>40</td>\n",
       "      <td>United-States</td>\n",
       "      <td>&lt;=50K</td>\n",
       "    </tr>\n",
       "    <tr>\n",
       "      <th>4</th>\n",
       "      <td>28</td>\n",
       "      <td>Private</td>\n",
       "      <td>338409</td>\n",
       "      <td>Bachelors</td>\n",
       "      <td>13</td>\n",
       "      <td>Married-civ-spouse</td>\n",
       "      <td>Prof-specialty</td>\n",
       "      <td>Wife</td>\n",
       "      <td>Black</td>\n",
       "      <td>Female</td>\n",
       "      <td>0</td>\n",
       "      <td>0</td>\n",
       "      <td>40</td>\n",
       "      <td>Cuba</td>\n",
       "      <td>&lt;=50K</td>\n",
       "    </tr>\n",
       "  </tbody>\n",
       "</table>\n",
       "</div>"
      ],
      "text/plain": [
       "   age          workclass  final-weight   education  education-num  \\\n",
       "0   39          State-gov         77516   Bachelors             13   \n",
       "1   50   Self-emp-not-inc         83311   Bachelors             13   \n",
       "2   38            Private        215646     HS-grad              9   \n",
       "3   53            Private        234721        11th              7   \n",
       "4   28            Private        338409   Bachelors             13   \n",
       "\n",
       "        marital-status          occupation    relationship    race      sex  \\\n",
       "0        Never-married        Adm-clerical   Not-in-family   White     Male   \n",
       "1   Married-civ-spouse     Exec-managerial         Husband   White     Male   \n",
       "2             Divorced   Handlers-cleaners   Not-in-family   White     Male   \n",
       "3   Married-civ-spouse   Handlers-cleaners         Husband   Black     Male   \n",
       "4   Married-civ-spouse      Prof-specialty            Wife   Black   Female   \n",
       "\n",
       "   capital-gain  capital-loos  hour-per-week  native-country  income  \n",
       "0          2174             0             40   United-States   <=50K  \n",
       "1             0             0             13   United-States   <=50K  \n",
       "2             0             0             40   United-States   <=50K  \n",
       "3             0             0             40   United-States   <=50K  \n",
       "4             0             0             40            Cuba   <=50K  "
      ]
     },
     "execution_count": 24,
     "metadata": {},
     "output_type": "execute_result"
    }
   ],
   "source": [
    "dataset.head()"
   ]
  },
  {
   "cell_type": "code",
   "execution_count": 25,
   "metadata": {},
   "outputs": [
    {
     "name": "stdout",
     "output_type": "stream",
     "text": [
      "0        39\n",
      "1        50\n",
      "2        38\n",
      "3        53\n",
      "4        28\n",
      "         ..\n",
      "32556    27\n",
      "32557    40\n",
      "32558    58\n",
      "32559    22\n",
      "32560    52\n",
      "Name: age, Length: 32561, dtype: int64\n",
      "<class 'pandas.core.series.Series'>\n",
      "[39 50 38 ... 58 22 52] <class 'numpy.ndarray'>\n"
     ]
    }
   ],
   "source": [
    "serie_age = dataset['age']\n",
    "print(serie_age)\n",
    "print(type(serie_age))\n",
    "print(serie_age.values, type(serie_age.values))"
   ]
  },
  {
   "cell_type": "markdown",
   "metadata": {},
   "source": []
  },
  {
   "cell_type": "code",
   "execution_count": 26,
   "metadata": {},
   "outputs": [
    {
     "name": "stdout",
     "output_type": "stream",
     "text": [
      "39\n",
      "45\n",
      "52\n"
     ]
    }
   ],
   "source": [
    "print(serie_age.iloc[0])\n",
    "print(serie_age.iloc[32])\n",
    "print(serie_age.iloc[-1])"
   ]
  },
  {
   "cell_type": "code",
   "execution_count": 27,
   "metadata": {},
   "outputs": [
    {
     "name": "stdout",
     "output_type": "stream",
     "text": [
      "2    38\n",
      "3    53\n",
      "4    28\n",
      "5    37\n",
      "6    49\n",
      "7    52\n",
      "8    31\n",
      "9    42\n",
      "Name: age, dtype: int64\n"
     ]
    }
   ],
   "source": [
    "print(serie_age.iloc[2:10])"
   ]
  },
  {
   "cell_type": "code",
   "execution_count": 28,
   "metadata": {},
   "outputs": [
    {
     "name": "stdout",
     "output_type": "stream",
     "text": [
      "38\n",
      "53\n",
      "28\n",
      "37\n",
      "49\n",
      "52\n",
      "31\n",
      "42\n"
     ]
    }
   ],
   "source": [
    "for i in serie_age.iloc[2:10]:\n",
    "    print(i)"
   ]
  },
  {
   "cell_type": "code",
   "execution_count": 29,
   "metadata": {},
   "outputs": [
    {
     "data": {
      "text/plain": [
       "[False, False, True, False, False, False, False, False]"
      ]
     },
     "execution_count": 29,
     "metadata": {},
     "output_type": "execute_result"
    }
   ],
   "source": [
    "menor_que_30 = list(map(lambda value: value < 30, serie_age.iloc[2:10]))\n",
    "menor_que_30"
   ]
  },
  {
   "cell_type": "code",
   "execution_count": 30,
   "metadata": {},
   "outputs": [
    {
     "data": {
      "text/plain": [
       "2     38\n",
       "10    37\n",
       "18    38\n",
       "Name: age, dtype: int64"
      ]
     },
     "execution_count": 30,
     "metadata": {},
     "output_type": "execute_result"
    }
   ],
   "source": [
    "# Pesquisando por índices\n",
    "serie_age.iloc[[2,10,18]]"
   ]
  },
  {
   "cell_type": "code",
   "execution_count": 31,
   "metadata": {},
   "outputs": [],
   "source": [
    "ages_list = []\n",
    "\n",
    "for age in serie_age.items():\n",
    "    # print(age)\n",
    "    # print(f\"Indice: {age[0]} - Idade: {age[1]}\")\n",
    "    if age[1] < 30:\n",
    "        # salvando as idades\n",
    "        # ages_list.append(age[1])\n",
    "        # salvando os índices\n",
    "        ages_list.append(age[0])"
   ]
  },
  {
   "cell_type": "code",
   "execution_count": 32,
   "metadata": {},
   "outputs": [
    {
     "name": "stdout",
     "output_type": "stream",
     "text": [
      "9711\n"
     ]
    },
    {
     "data": {
      "text/plain": [
       "4        28\n",
       "12       23\n",
       "16       25\n",
       "26       19\n",
       "30       23\n",
       "         ..\n",
       "32529    29\n",
       "32535    22\n",
       "32555    22\n",
       "32556    27\n",
       "32559    22\n",
       "Name: age, Length: 9711, dtype: int64"
      ]
     },
     "execution_count": 32,
     "metadata": {},
     "output_type": "execute_result"
    }
   ],
   "source": [
    "print(len(ages_list))\n",
    "\n",
    "serie_age.iloc[ages_list]"
   ]
  },
  {
   "cell_type": "markdown",
   "metadata": {},
   "source": [
    "### Acessando os dados com Loc\n",
    "- Acessar elementos com \"string\""
   ]
  },
  {
   "cell_type": "code",
   "execution_count": 33,
   "metadata": {},
   "outputs": [
    {
     "name": "stdout",
     "output_type": "stream",
     "text": [
      "['Srta. Milena Moreira', 'Lorena Aparecida', 'Kevin Ribeiro', 'Sofia Moreira', 'Rafaela da Paz', 'Sr. Otávio Cavalcante', 'Lorenzo Souza', 'Maria Vitória da Mota', 'Maria Liz da Rosa', 'José Pedro Pires', 'Eduardo Jesus']\n"
     ]
    }
   ],
   "source": [
    "fake = Faker('pt-BR')\n",
    "\n",
    "indexes_name = []\n",
    "\n",
    "for _ in range(len(serie_age)):\n",
    "    indexes_name.append(fake.name())\n",
    "    \n",
    "print(indexes_name[0:11])"
   ]
  },
  {
   "cell_type": "code",
   "execution_count": 34,
   "metadata": {},
   "outputs": [
    {
     "data": {
      "text/plain": [
       "Srta. Milena Moreira     39\n",
       "Lorena Aparecida         50\n",
       "Kevin Ribeiro            38\n",
       "Sofia Moreira            53\n",
       "Rafaela da Paz           28\n",
       "Sr. Otávio Cavalcante    37\n",
       "Lorenzo Souza            49\n",
       "Maria Vitória da Mota    52\n",
       "Maria Liz da Rosa        31\n",
       "José Pedro Pires         42\n",
       "Eduardo Jesus            37\n",
       "dtype: int64"
      ]
     },
     "execution_count": 34,
     "metadata": {},
     "output_type": "execute_result"
    }
   ],
   "source": [
    "serie_name_age = pd.Series(serie_age.values, index=indexes_name)\n",
    "serie_name_age[0:11]"
   ]
  },
  {
   "cell_type": "code",
   "execution_count": 35,
   "metadata": {},
   "outputs": [
    {
     "data": {
      "text/plain": [
       "Antony Costa    39\n",
       "Antony Costa    33\n",
       "Antony Costa    45\n",
       "Antony Costa    65\n",
       "dtype: int64"
      ]
     },
     "execution_count": 35,
     "metadata": {},
     "output_type": "execute_result"
    }
   ],
   "source": [
    "serie_name_age[\"Antony Costa\"]"
   ]
  },
  {
   "cell_type": "code",
   "execution_count": 36,
   "metadata": {},
   "outputs": [
    {
     "data": {
      "text/plain": [
       "73"
      ]
     },
     "execution_count": 36,
     "metadata": {},
     "output_type": "execute_result"
    }
   ],
   "source": [
    "serie_name_age_filter = serie_name_age.drop_duplicates()\n",
    "serie_name_age_filter.size"
   ]
  },
  {
   "cell_type": "code",
   "execution_count": 37,
   "metadata": {},
   "outputs": [
    {
     "data": {
      "text/plain": [
       "Srta. Milena Moreira    39\n",
       "Lorena Aparecida        50\n",
       "Kevin Ribeiro           38\n",
       "Sofia Moreira           53\n",
       "Rafaela da Paz          28\n",
       "                        ..\n",
       "Maria Júlia Rezende     83\n",
       "Ana Laura Souza         84\n",
       "Henrique Duarte         85\n",
       "Dra. Aylla Marques      86\n",
       "Sofia Ribeiro           87\n",
       "Length: 73, dtype: int64"
      ]
     },
     "execution_count": 37,
     "metadata": {},
     "output_type": "execute_result"
    }
   ],
   "source": [
    "serie_name_age_filter"
   ]
  },
  {
   "cell_type": "code",
   "execution_count": 38,
   "metadata": {},
   "outputs": [
    {
     "data": {
      "text/plain": [
       "'Srta. Milena Moreira'"
      ]
     },
     "execution_count": 38,
     "metadata": {},
     "output_type": "execute_result"
    }
   ],
   "source": [
    "serie_name_age_filter.index[0]"
   ]
  },
  {
   "cell_type": "code",
   "execution_count": 39,
   "metadata": {},
   "outputs": [
    {
     "name": "stdout",
     "output_type": "stream",
     "text": [
      "Sem LOC\n",
      "Lorena Aparecida    50\n",
      "Kevin Ribeiro       38\n",
      "dtype: int64\n",
      "\n",
      "Com LOC\n",
      "Srta. Milena Moreira    39\n",
      "Lorena Aparecida        50\n",
      "Kevin Ribeiro           38\n",
      "Sofia Moreira           53\n",
      "Rafaela da Paz          28\n",
      "dtype: int64\n",
      "\n",
      "Lista\n",
      "Srta. Milena Moreira    39\n",
      "Lorena Aparecida        50\n",
      "Kevin Ribeiro           38\n",
      "Sofia Moreira           53\n",
      "Rafaela da Paz          28\n",
      "dtype: int64\n",
      "\n",
      "Tamanho\n",
      "2\n"
     ]
    }
   ],
   "source": [
    "print(\"Sem LOC\")\n",
    "print(serie_name_age_filter[1:3])\n",
    "print()\n",
    "print(\"Com LOC\")\n",
    "print(serie_name_age_filter.loc[serie_name_age_filter.index[0]:serie_name_age_filter.index[4]])\n",
    "print()\n",
    "print(\"Lista\")\n",
    "print(serie_name_age_filter.loc[serie_name_age_filter.index[0]:serie_name_age_filter.index[4]])\n",
    "print()\n",
    "print(\"Tamanho\")\n",
    "print(len(serie_name_age_filter[1:3]))"
   ]
  },
  {
   "cell_type": "code",
   "execution_count": 40,
   "metadata": {},
   "outputs": [
    {
     "data": {
      "text/plain": [
       "0     39\n",
       "1     50\n",
       "2     38\n",
       "3     53\n",
       "4     28\n",
       "      ..\n",
       "68    83\n",
       "69    84\n",
       "70    85\n",
       "71    86\n",
       "72    87\n",
       "Length: 73, dtype: int64"
      ]
     },
     "execution_count": 40,
     "metadata": {},
     "output_type": "execute_result"
    }
   ],
   "source": [
    "reset_index = serie_name_age_filter.copy()\n",
    "reset_index.reset_index(drop=True, inplace=True)\n",
    "reset_index"
   ]
  },
  {
   "cell_type": "code",
   "execution_count": 41,
   "metadata": {},
   "outputs": [
    {
     "data": {
      "text/plain": [
       "RangeIndex(start=0, stop=73, step=1)"
      ]
     },
     "execution_count": 41,
     "metadata": {},
     "output_type": "execute_result"
    }
   ],
   "source": [
    "reset_index.index"
   ]
  },
  {
   "cell_type": "markdown",
   "metadata": {},
   "source": [
    "### Ordenação"
   ]
  },
  {
   "cell_type": "code",
   "execution_count": 42,
   "metadata": {},
   "outputs": [
    {
     "data": {
      "text/plain": [
       "Olívia Gonçalves        17\n",
       "Dante Sá                17\n",
       "João Felipe da Cunha    17\n",
       "Maria Júlia Santos      17\n",
       "André Barros            17\n",
       "                        ..\n",
       "José Pedro Souza        90\n",
       "Benicio Freitas         90\n",
       "Eloah Vasconcelos       90\n",
       "Vicente Ribeiro         90\n",
       "Anthony Nogueira        90\n",
       "Length: 32561, dtype: int64"
      ]
     },
     "execution_count": 42,
     "metadata": {},
     "output_type": "execute_result"
    }
   ],
   "source": [
    "# Ordenando idades em ordem crescente\n",
    "serie_name_age.sort_values()"
   ]
  },
  {
   "cell_type": "code",
   "execution_count": 43,
   "metadata": {},
   "outputs": [
    {
     "data": {
      "text/plain": [
       "Camila Alves                  90\n",
       "João Felipe Moreira           90\n",
       "Sr. Luigi Borges              90\n",
       "Emilly Viana                  90\n",
       "Luiza Novaes                  90\n",
       "                              ..\n",
       "Luiz Henrique da Conceição    17\n",
       "Evelyn da Paz                 17\n",
       "Sr. Erick Borges              17\n",
       "Ana Vitória Fonseca           17\n",
       "Srta. Isadora Borges          17\n",
       "Length: 32561, dtype: int64"
      ]
     },
     "execution_count": 43,
     "metadata": {},
     "output_type": "execute_result"
    }
   ],
   "source": [
    "# Ordenando idades em ordem decrescente\n",
    "serie_name_age.sort_values(ascending=False)"
   ]
  },
  {
   "cell_type": "code",
   "execution_count": 44,
   "metadata": {},
   "outputs": [
    {
     "data": {
      "text/plain": [
       "Agatha Almeida    19\n",
       "Agatha Alves      36\n",
       "Agatha Andrade    43\n",
       "Agatha Aragão     31\n",
       "Agatha Araújo     51\n",
       "                  ..\n",
       "Ísis da Mata      42\n",
       "Ísis da Mota      30\n",
       "Ísis da Paz       48\n",
       "Ísis da Rosa      46\n",
       "Ísis das Neves    38\n",
       "Length: 32561, dtype: int64"
      ]
     },
     "execution_count": 44,
     "metadata": {},
     "output_type": "execute_result"
    }
   ],
   "source": [
    "# Ordenando os índices em ordem crescente\n",
    "serie_name_age.sort_index()"
   ]
  },
  {
   "cell_type": "code",
   "execution_count": 45,
   "metadata": {},
   "outputs": [
    {
     "data": {
      "text/plain": [
       "Ísis das Neves    38\n",
       "Ísis da Rosa      46\n",
       "Ísis da Paz       48\n",
       "Ísis da Mota      30\n",
       "Ísis da Mata      17\n",
       "                  ..\n",
       "Agatha Araújo     51\n",
       "Agatha Aragão     31\n",
       "Agatha Andrade    43\n",
       "Agatha Alves      36\n",
       "Agatha Almeida    19\n",
       "Length: 32561, dtype: int64"
      ]
     },
     "execution_count": 45,
     "metadata": {},
     "output_type": "execute_result"
    }
   ],
   "source": [
    "# Ordenando os índices em ordem decrescente\n",
    "serie_name_age.sort_index(ascending=False)"
   ]
  },
  {
   "cell_type": "code",
   "execution_count": 46,
   "metadata": {},
   "outputs": [
    {
     "data": {
      "text/plain": [
       "Camila Alves            90\n",
       "João Felipe Moreira     90\n",
       "Sr. Luigi Borges        90\n",
       "Emilly Viana            90\n",
       "Luiza Novaes            90\n",
       "Hadassa da Conceição    90\n",
       "Apollo Cavalcante       90\n",
       "Dr. Felipe Porto        90\n",
       "Fernanda Garcia         90\n",
       "José Pedro Souza        90\n",
       "Luigi Albuquerque       90\n",
       "dtype: int64"
      ]
     },
     "execution_count": 46,
     "metadata": {},
     "output_type": "execute_result"
    }
   ],
   "source": [
    "# Retornando as dez pessoas com a maior idade da série\n",
    "serie_name_age.sort_values(ascending=False).iloc[0:11]"
   ]
  },
  {
   "cell_type": "markdown",
   "metadata": {},
   "source": [
    "### Contagem"
   ]
  },
  {
   "cell_type": "code",
   "execution_count": 47,
   "metadata": {},
   "outputs": [
    {
     "data": {
      "text/plain": [
       "32561"
      ]
     },
     "execution_count": 47,
     "metadata": {},
     "output_type": "execute_result"
    }
   ],
   "source": [
    "serie_name_age.size"
   ]
  },
  {
   "cell_type": "code",
   "execution_count": 48,
   "metadata": {},
   "outputs": [
    {
     "data": {
      "text/plain": [
       "36    898\n",
       "31    888\n",
       "34    886\n",
       "23    877\n",
       "35    876\n",
       "     ... \n",
       "83      6\n",
       "88      3\n",
       "85      3\n",
       "86      1\n",
       "87      1\n",
       "Name: count, Length: 73, dtype: int64"
      ]
     },
     "execution_count": 48,
     "metadata": {},
     "output_type": "execute_result"
    }
   ],
   "source": [
    "serie_name_age.value_counts()"
   ]
  },
  {
   "cell_type": "code",
   "execution_count": 49,
   "metadata": {},
   "outputs": [
    {
     "data": {
      "text/plain": [
       "36    0.027579\n",
       "31    0.027272\n",
       "34    0.027210\n",
       "23    0.026934\n",
       "35    0.026903\n",
       "        ...   \n",
       "83    0.000184\n",
       "88    0.000092\n",
       "85    0.000092\n",
       "86    0.000031\n",
       "87    0.000031\n",
       "Name: proportion, Length: 73, dtype: float64"
      ]
     },
     "execution_count": 49,
     "metadata": {},
     "output_type": "execute_result"
    }
   ],
   "source": [
    "# Porcentagem\n",
    "serie_name_age.value_counts(normalize=True, sort = True) # ordenando"
   ]
  },
  {
   "cell_type": "code",
   "execution_count": 50,
   "metadata": {},
   "outputs": [
    {
     "data": {
      "text/plain": [
       "(38.9, 46.2]      6163\n",
       "(31.6, 38.9]      6048\n",
       "(24.3, 31.6]      5890\n",
       "(16.926, 24.3]    5570\n",
       "(46.2, 53.5]      3967\n",
       "(53.5, 60.8]      2591\n",
       "(60.8, 68.1]      1595\n",
       "(68.1, 75.4]       496\n",
       "(75.4, 82.7]       174\n",
       "(82.7, 90.0]        67\n",
       "Name: count, dtype: int64"
      ]
     },
     "execution_count": 50,
     "metadata": {},
     "output_type": "execute_result"
    }
   ],
   "source": [
    "# Dividindo por faixas\n",
    "serie_name_age.value_counts(bins=10)"
   ]
  },
  {
   "cell_type": "markdown",
   "metadata": {},
   "source": [
    "### Filtragem"
   ]
  },
  {
   "cell_type": "code",
   "execution_count": 51,
   "metadata": {},
   "outputs": [
    {
     "data": {
      "text/plain": [
       "['Honduras',\n",
       " 'Salvador',\n",
       " 'Monserrate',\n",
       " 'Uganda',\n",
       " 'Antártica',\n",
       " 'Gabão',\n",
       " 'Quirguizistão',\n",
       " 'Polônia',\n",
       " 'Filipinas',\n",
       " 'São Pedro e Miquelon',\n",
       " 'Marrocos']"
      ]
     },
     "execution_count": 51,
     "metadata": {},
     "output_type": "execute_result"
    }
   ],
   "source": [
    "indices_paises = []\n",
    "for _ in range(len(serie_age)):\n",
    "    indices_paises.append(fake.country())\n",
    "\n",
    "indices_paises[0:11]"
   ]
  },
  {
   "cell_type": "code",
   "execution_count": 52,
   "metadata": {},
   "outputs": [
    {
     "data": {
      "text/plain": [
       "Honduras      39\n",
       "Salvador      50\n",
       "Monserrate    38\n",
       "Uganda        53\n",
       "Antártica     28\n",
       "dtype: int64"
      ]
     },
     "execution_count": 52,
     "metadata": {},
     "output_type": "execute_result"
    }
   ],
   "source": [
    "serie_pais = pd.Series(serie_age.values, index=indices_paises)\n",
    "serie_pais.head()"
   ]
  },
  {
   "cell_type": "code",
   "execution_count": 53,
   "metadata": {},
   "outputs": [
    {
     "data": {
      "text/plain": [
       "Uganda                       53\n",
       "Polônia                      52\n",
       "Malásia                      54\n",
       "República Centro-Africana    59\n",
       "Uruguai                      56\n",
       "                             ..\n",
       "Guiné-Bissau                 72\n",
       "Brasil                       65\n",
       "Ilha Wake                    53\n",
       "Reino Unido                  58\n",
       "Niue                         52\n",
       "Length: 6460, dtype: int64"
      ]
     },
     "execution_count": 53,
     "metadata": {},
     "output_type": "execute_result"
    }
   ],
   "source": [
    "serie_pais.loc[serie_pais > 50]"
   ]
  },
  {
   "cell_type": "code",
   "execution_count": 54,
   "metadata": {},
   "outputs": [
    {
     "name": "stdout",
     "output_type": "stream",
     "text": [
      "Brasil    51\n",
      "Brasil    54\n",
      "Brasil    51\n",
      "Brasil    74\n",
      "Brasil    51\n",
      "Brasil    53\n",
      "Brasil    63\n",
      "Brasil    72\n",
      "Brasil    65\n",
      "Brasil    63\n",
      "Brasil    58\n",
      "Brasil    53\n",
      "Brasil    52\n",
      "Brasil    52\n",
      "Brasil    66\n",
      "Brasil    58\n",
      "Brasil    60\n",
      "Brasil    54\n",
      "Brasil    63\n",
      "Brasil    61\n",
      "Brasil    65\n",
      "dtype: int64\n",
      "21\n"
     ]
    }
   ],
   "source": [
    "print(serie_pais.loc[(serie_pais > 50) & (serie_pais.index == 'Brasil')])\n",
    "print(len(serie_pais.loc[(serie_pais > 50) & (serie_pais.index == 'Brasil')]))"
   ]
  },
  {
   "cell_type": "code",
   "execution_count": 55,
   "metadata": {},
   "outputs": [
    {
     "data": {
      "text/plain": [
       "array([False, False, False, ..., False, False, False], shape=(32561,))"
      ]
     },
     "execution_count": 55,
     "metadata": {},
     "output_type": "execute_result"
    }
   ],
   "source": [
    "serie_pais.index.isin([\"India\", \"Brasil\"])"
   ]
  },
  {
   "cell_type": "markdown",
   "metadata": {},
   "source": [
    "### Operações matemáticas"
   ]
  },
  {
   "cell_type": "code",
   "execution_count": 56,
   "metadata": {},
   "outputs": [
    {
     "data": {
      "text/plain": [
       "Honduras                    39\n",
       "Salvador                    50\n",
       "Monserrate                  38\n",
       "Uganda                      53\n",
       "Antártica                   28\n",
       "                            ..\n",
       "Gâmbia                      27\n",
       "Ilhas Virgens Britânicas    40\n",
       "Reino Unido                 58\n",
       "Tokelau                     22\n",
       "Niue                        52\n",
       "Length: 32561, dtype: int64"
      ]
     },
     "execution_count": 56,
     "metadata": {},
     "output_type": "execute_result"
    }
   ],
   "source": [
    "serie_pais"
   ]
  },
  {
   "cell_type": "code",
   "execution_count": 57,
   "metadata": {},
   "outputs": [
    {
     "data": {
      "text/plain": [
       "Honduras                    41\n",
       "Salvador                    52\n",
       "Monserrate                  40\n",
       "Uganda                      55\n",
       "Antártica                   30\n",
       "                            ..\n",
       "Gâmbia                      29\n",
       "Ilhas Virgens Britânicas    42\n",
       "Reino Unido                 60\n",
       "Tokelau                     24\n",
       "Niue                        54\n",
       "Length: 32561, dtype: int64"
      ]
     },
     "execution_count": 57,
     "metadata": {},
     "output_type": "execute_result"
    }
   ],
   "source": [
    "### Comando python\n",
    "serie_pais + 2"
   ]
  },
  {
   "cell_type": "code",
   "execution_count": 58,
   "metadata": {},
   "outputs": [
    {
     "data": {
      "text/plain": [
       "Honduras                    41\n",
       "Salvador                    52\n",
       "Monserrate                  40\n",
       "Uganda                      55\n",
       "Antártica                   30\n",
       "                            ..\n",
       "Gâmbia                      29\n",
       "Ilhas Virgens Britânicas    42\n",
       "Reino Unido                 60\n",
       "Tokelau                     24\n",
       "Niue                        54\n",
       "Length: 32561, dtype: int64"
      ]
     },
     "execution_count": 58,
     "metadata": {},
     "output_type": "execute_result"
    }
   ],
   "source": [
    "### Comando pandas\n",
    "serie_pais.add(2)"
   ]
  },
  {
   "cell_type": "code",
   "execution_count": 59,
   "metadata": {},
   "outputs": [
    {
     "data": {
      "text/plain": [
       "Honduras                    37\n",
       "Salvador                    48\n",
       "Monserrate                  36\n",
       "Uganda                      51\n",
       "Antártica                   26\n",
       "                            ..\n",
       "Gâmbia                      25\n",
       "Ilhas Virgens Britânicas    38\n",
       "Reino Unido                 56\n",
       "Tokelau                     20\n",
       "Niue                        50\n",
       "Length: 32561, dtype: int64"
      ]
     },
     "execution_count": 59,
     "metadata": {},
     "output_type": "execute_result"
    }
   ],
   "source": [
    "serie_pais.sub(2)"
   ]
  },
  {
   "cell_type": "code",
   "execution_count": 60,
   "metadata": {},
   "outputs": [
    {
     "data": {
      "text/plain": [
       "Honduras                     78\n",
       "Salvador                    100\n",
       "Monserrate                   76\n",
       "Uganda                      106\n",
       "Antártica                    56\n",
       "                           ... \n",
       "Gâmbia                       54\n",
       "Ilhas Virgens Britânicas     80\n",
       "Reino Unido                 116\n",
       "Tokelau                      44\n",
       "Niue                        104\n",
       "Length: 32561, dtype: int64"
      ]
     },
     "execution_count": 60,
     "metadata": {},
     "output_type": "execute_result"
    }
   ],
   "source": [
    "serie_pais.mul(2)"
   ]
  },
  {
   "cell_type": "code",
   "execution_count": 61,
   "metadata": {},
   "outputs": [
    {
     "data": {
      "text/plain": [
       "Honduras                    19.5\n",
       "Salvador                    25.0\n",
       "Monserrate                  19.0\n",
       "Uganda                      26.5\n",
       "Antártica                   14.0\n",
       "                            ... \n",
       "Gâmbia                      13.5\n",
       "Ilhas Virgens Britânicas    20.0\n",
       "Reino Unido                 29.0\n",
       "Tokelau                     11.0\n",
       "Niue                        26.0\n",
       "Length: 32561, dtype: float64"
      ]
     },
     "execution_count": 61,
     "metadata": {},
     "output_type": "execute_result"
    }
   ],
   "source": [
    "serie_pais.div(2)"
   ]
  },
  {
   "cell_type": "code",
   "execution_count": 62,
   "metadata": {},
   "outputs": [
    {
     "data": {
      "text/plain": [
       "(0    10\n",
       " 1    20\n",
       " 2    30\n",
       " dtype: int64,\n",
       " 0    1\n",
       " 1    2\n",
       " 2    3\n",
       " dtype: int64)"
      ]
     },
     "execution_count": 62,
     "metadata": {},
     "output_type": "execute_result"
    }
   ],
   "source": [
    "s1 = pd.Series([10, 20, 30])\n",
    "s2 = pd.Series([1, 2, 3])\n",
    "s1, s2"
   ]
  },
  {
   "cell_type": "code",
   "execution_count": 63,
   "metadata": {},
   "outputs": [
    {
     "data": {
      "text/plain": [
       "0    11\n",
       "1    22\n",
       "2    33\n",
       "dtype: int64"
      ]
     },
     "execution_count": 63,
     "metadata": {},
     "output_type": "execute_result"
    }
   ],
   "source": [
    "s1.add(s2)"
   ]
  },
  {
   "cell_type": "code",
   "execution_count": 64,
   "metadata": {},
   "outputs": [
    {
     "data": {
      "text/plain": [
       "0     9\n",
       "1    18\n",
       "2    27\n",
       "dtype: int64"
      ]
     },
     "execution_count": 64,
     "metadata": {},
     "output_type": "execute_result"
    }
   ],
   "source": [
    "s1.sub(s2)"
   ]
  },
  {
   "cell_type": "code",
   "execution_count": 65,
   "metadata": {},
   "outputs": [
    {
     "data": {
      "text/plain": [
       "0    20\n",
       "1    40\n",
       "2    60\n",
       "dtype: int64"
      ]
     },
     "execution_count": 65,
     "metadata": {},
     "output_type": "execute_result"
    }
   ],
   "source": [
    "s1.mul(2)"
   ]
  },
  {
   "cell_type": "code",
   "execution_count": 66,
   "metadata": {},
   "outputs": [
    {
     "data": {
      "text/plain": [
       "0     5.0\n",
       "1    10.0\n",
       "2    15.0\n",
       "dtype: float64"
      ]
     },
     "execution_count": 66,
     "metadata": {},
     "output_type": "execute_result"
    }
   ],
   "source": [
    "s1.div(2)"
   ]
  },
  {
   "cell_type": "markdown",
   "metadata": {},
   "source": [
    "### Operações com String"
   ]
  },
  {
   "cell_type": "code",
   "execution_count": 69,
   "metadata": {},
   "outputs": [
    {
     "data": {
      "text/plain": [
       "0                        Honduras\n",
       "1                        Salvador\n",
       "2                      Monserrate\n",
       "3                          Uganda\n",
       "4                       Antártica\n",
       "                   ...           \n",
       "32556                      Gâmbia\n",
       "32557    Ilhas Virgens Britânicas\n",
       "32558                 Reino Unido\n",
       "32559                     Tokelau\n",
       "32560                        Niue\n",
       "Length: 32561, dtype: object"
      ]
     },
     "execution_count": 69,
     "metadata": {},
     "output_type": "execute_result"
    }
   ],
   "source": [
    "serie_pais_index = serie_pais.index.to_series()\n",
    "serie_pais_index.reset_index(drop = True, inplace=True)\n",
    "serie_pais_index"
   ]
  },
  {
   "cell_type": "code",
   "execution_count": 74,
   "metadata": {},
   "outputs": [
    {
     "data": {
      "text/plain": [
       "0        False\n",
       "1        False\n",
       "2        False\n",
       "3        False\n",
       "4        False\n",
       "         ...  \n",
       "32556    False\n",
       "32557    False\n",
       "32558     True\n",
       "32559    False\n",
       "32560    False\n",
       "Length: 32561, dtype: bool"
      ]
     },
     "execution_count": 74,
     "metadata": {},
     "output_type": "execute_result"
    }
   ],
   "source": [
    "serie_pais_index.str.contains(\"ido\")"
   ]
  },
  {
   "cell_type": "code",
   "execution_count": 71,
   "metadata": {},
   "outputs": [
    {
     "data": {
      "text/plain": [
       "0                        HONDURAS\n",
       "1                        SALVADOR\n",
       "2                      MONSERRATE\n",
       "3                          UGANDA\n",
       "4                       ANTÁRTICA\n",
       "                   ...           \n",
       "32556                      GÂMBIA\n",
       "32557    ILHAS VIRGENS BRITÂNICAS\n",
       "32558                 REINO UNIDO\n",
       "32559                     TOKELAU\n",
       "32560                        NIUE\n",
       "Length: 32561, dtype: object"
      ]
     },
     "execution_count": 71,
     "metadata": {},
     "output_type": "execute_result"
    }
   ],
   "source": [
    "serie_pais_index.str.upper()"
   ]
  },
  {
   "cell_type": "code",
   "execution_count": 72,
   "metadata": {},
   "outputs": [
    {
     "data": {
      "text/plain": [
       "0                        honduras\n",
       "1                        salvador\n",
       "2                      monserrate\n",
       "3                          uganda\n",
       "4                       antártica\n",
       "                   ...           \n",
       "32556                      gâmbia\n",
       "32557    ilhas virgens britânicas\n",
       "32558                 reino unido\n",
       "32559                     tokelau\n",
       "32560                        niue\n",
       "Length: 32561, dtype: object"
      ]
     },
     "execution_count": 72,
     "metadata": {},
     "output_type": "execute_result"
    }
   ],
   "source": [
    "serie_pais_index.str.lower()"
   ]
  },
  {
   "cell_type": "code",
   "execution_count": 77,
   "metadata": {},
   "outputs": [
    {
     "data": {
      "text/plain": [
       "0                   Hondur\n",
       "1                 Salvador\n",
       "2               Monserrate\n",
       "3                    Ugand\n",
       "4                 Antártic\n",
       "               ...        \n",
       "32556                Gâmbi\n",
       "32557     Virgens Britânic\n",
       "32558          Reino Unido\n",
       "32559              Tokelau\n",
       "32560                 Niue\n",
       "Length: 32561, dtype: object"
      ]
     },
     "execution_count": 77,
     "metadata": {},
     "output_type": "execute_result"
    }
   ],
   "source": [
    "serie_pais_index.str.strip(\"Ilhas\")"
   ]
  },
  {
   "cell_type": "code",
   "execution_count": 78,
   "metadata": {},
   "outputs": [
    {
     "data": {
      "text/html": [
       "<div>\n",
       "<style scoped>\n",
       "    .dataframe tbody tr th:only-of-type {\n",
       "        vertical-align: middle;\n",
       "    }\n",
       "\n",
       "    .dataframe tbody tr th {\n",
       "        vertical-align: top;\n",
       "    }\n",
       "\n",
       "    .dataframe thead th {\n",
       "        text-align: right;\n",
       "    }\n",
       "</style>\n",
       "<table border=\"1\" class=\"dataframe\">\n",
       "  <thead>\n",
       "    <tr style=\"text-align: right;\">\n",
       "      <th></th>\n",
       "      <th>0</th>\n",
       "      <th>1</th>\n",
       "      <th>2</th>\n",
       "      <th>3</th>\n",
       "      <th>4</th>\n",
       "      <th>5</th>\n",
       "      <th>6</th>\n",
       "    </tr>\n",
       "  </thead>\n",
       "  <tbody>\n",
       "    <tr>\n",
       "      <th>0</th>\n",
       "      <td>Honduras</td>\n",
       "      <td>None</td>\n",
       "      <td>None</td>\n",
       "      <td>None</td>\n",
       "      <td>None</td>\n",
       "      <td>None</td>\n",
       "      <td>None</td>\n",
       "    </tr>\n",
       "    <tr>\n",
       "      <th>1</th>\n",
       "      <td>Salvador</td>\n",
       "      <td>None</td>\n",
       "      <td>None</td>\n",
       "      <td>None</td>\n",
       "      <td>None</td>\n",
       "      <td>None</td>\n",
       "      <td>None</td>\n",
       "    </tr>\n",
       "    <tr>\n",
       "      <th>2</th>\n",
       "      <td>Monserrate</td>\n",
       "      <td>None</td>\n",
       "      <td>None</td>\n",
       "      <td>None</td>\n",
       "      <td>None</td>\n",
       "      <td>None</td>\n",
       "      <td>None</td>\n",
       "    </tr>\n",
       "    <tr>\n",
       "      <th>3</th>\n",
       "      <td>Uganda</td>\n",
       "      <td>None</td>\n",
       "      <td>None</td>\n",
       "      <td>None</td>\n",
       "      <td>None</td>\n",
       "      <td>None</td>\n",
       "      <td>None</td>\n",
       "    </tr>\n",
       "    <tr>\n",
       "      <th>4</th>\n",
       "      <td>Antártica</td>\n",
       "      <td>None</td>\n",
       "      <td>None</td>\n",
       "      <td>None</td>\n",
       "      <td>None</td>\n",
       "      <td>None</td>\n",
       "      <td>None</td>\n",
       "    </tr>\n",
       "    <tr>\n",
       "      <th>...</th>\n",
       "      <td>...</td>\n",
       "      <td>...</td>\n",
       "      <td>...</td>\n",
       "      <td>...</td>\n",
       "      <td>...</td>\n",
       "      <td>...</td>\n",
       "      <td>...</td>\n",
       "    </tr>\n",
       "    <tr>\n",
       "      <th>32556</th>\n",
       "      <td>Gâmbia</td>\n",
       "      <td>None</td>\n",
       "      <td>None</td>\n",
       "      <td>None</td>\n",
       "      <td>None</td>\n",
       "      <td>None</td>\n",
       "      <td>None</td>\n",
       "    </tr>\n",
       "    <tr>\n",
       "      <th>32557</th>\n",
       "      <td>Ilhas</td>\n",
       "      <td>Virgens</td>\n",
       "      <td>Britânicas</td>\n",
       "      <td>None</td>\n",
       "      <td>None</td>\n",
       "      <td>None</td>\n",
       "      <td>None</td>\n",
       "    </tr>\n",
       "    <tr>\n",
       "      <th>32558</th>\n",
       "      <td>Reino</td>\n",
       "      <td>Unido</td>\n",
       "      <td>None</td>\n",
       "      <td>None</td>\n",
       "      <td>None</td>\n",
       "      <td>None</td>\n",
       "      <td>None</td>\n",
       "    </tr>\n",
       "    <tr>\n",
       "      <th>32559</th>\n",
       "      <td>Tokelau</td>\n",
       "      <td>None</td>\n",
       "      <td>None</td>\n",
       "      <td>None</td>\n",
       "      <td>None</td>\n",
       "      <td>None</td>\n",
       "      <td>None</td>\n",
       "    </tr>\n",
       "    <tr>\n",
       "      <th>32560</th>\n",
       "      <td>Niue</td>\n",
       "      <td>None</td>\n",
       "      <td>None</td>\n",
       "      <td>None</td>\n",
       "      <td>None</td>\n",
       "      <td>None</td>\n",
       "      <td>None</td>\n",
       "    </tr>\n",
       "  </tbody>\n",
       "</table>\n",
       "<p>32561 rows × 7 columns</p>\n",
       "</div>"
      ],
      "text/plain": [
       "                0        1           2     3     4     5     6\n",
       "0        Honduras     None        None  None  None  None  None\n",
       "1        Salvador     None        None  None  None  None  None\n",
       "2      Monserrate     None        None  None  None  None  None\n",
       "3          Uganda     None        None  None  None  None  None\n",
       "4       Antártica     None        None  None  None  None  None\n",
       "...           ...      ...         ...   ...   ...   ...   ...\n",
       "32556      Gâmbia     None        None  None  None  None  None\n",
       "32557       Ilhas  Virgens  Britânicas  None  None  None  None\n",
       "32558       Reino    Unido        None  None  None  None  None\n",
       "32559     Tokelau     None        None  None  None  None  None\n",
       "32560        Niue     None        None  None  None  None  None\n",
       "\n",
       "[32561 rows x 7 columns]"
      ]
     },
     "execution_count": 78,
     "metadata": {},
     "output_type": "execute_result"
    }
   ],
   "source": [
    "serie_pais_index.str.split(' ', expand=True)"
   ]
  },
  {
   "cell_type": "code",
   "execution_count": 79,
   "metadata": {},
   "outputs": [
    {
     "data": {
      "text/plain": [
       "0        Hondu\n",
       "1        Salva\n",
       "2        Monse\n",
       "3        Ugand\n",
       "4        Antár\n",
       "         ...  \n",
       "32556    Gâmbi\n",
       "32557    Ilhas\n",
       "32558    Reino\n",
       "32559    Tokel\n",
       "32560     Niue\n",
       "Length: 32561, dtype: object"
      ]
     },
     "execution_count": 79,
     "metadata": {},
     "output_type": "execute_result"
    }
   ],
   "source": [
    "serie_pais_index.str[0:5]"
   ]
  },
  {
   "cell_type": "markdown",
   "metadata": {},
   "source": [
    "### Agrupamento Numérico"
   ]
  },
  {
   "cell_type": "code",
   "execution_count": 80,
   "metadata": {},
   "outputs": [
    {
     "data": {
      "text/plain": [
       "Honduras                    39\n",
       "Salvador                    50\n",
       "Monserrate                  38\n",
       "Uganda                      53\n",
       "Antártica                   28\n",
       "                            ..\n",
       "Gâmbia                      27\n",
       "Ilhas Virgens Britânicas    40\n",
       "Reino Unido                 58\n",
       "Tokelau                     22\n",
       "Niue                        52\n",
       "Length: 32561, dtype: int64"
      ]
     },
     "execution_count": 80,
     "metadata": {},
     "output_type": "execute_result"
    }
   ],
   "source": [
    "serie_pais"
   ]
  },
  {
   "cell_type": "code",
   "execution_count": 81,
   "metadata": {},
   "outputs": [
    {
     "data": {
      "text/plain": [
       "np.int64(1256257)"
      ]
     },
     "execution_count": 81,
     "metadata": {},
     "output_type": "execute_result"
    }
   ],
   "source": [
    "serie_pais.sum()"
   ]
  },
  {
   "cell_type": "code",
   "execution_count": 82,
   "metadata": {},
   "outputs": [
    {
     "data": {
      "text/plain": [
       "np.float64(38.58164675532078)"
      ]
     },
     "execution_count": 82,
     "metadata": {},
     "output_type": "execute_result"
    }
   ],
   "source": [
    "serie_pais.mean()"
   ]
  },
  {
   "cell_type": "code",
   "execution_count": 83,
   "metadata": {},
   "outputs": [
    {
     "data": {
      "text/plain": [
       "np.float64(37.0)"
      ]
     },
     "execution_count": 83,
     "metadata": {},
     "output_type": "execute_result"
    }
   ],
   "source": [
    "serie_pais.median()"
   ]
  },
  {
   "cell_type": "code",
   "execution_count": 84,
   "metadata": {},
   "outputs": [
    {
     "data": {
      "text/plain": [
       "np.int64(32561)"
      ]
     },
     "execution_count": 84,
     "metadata": {},
     "output_type": "execute_result"
    }
   ],
   "source": [
    "serie_pais.count()"
   ]
  },
  {
   "cell_type": "code",
   "execution_count": 85,
   "metadata": {},
   "outputs": [
    {
     "data": {
      "text/plain": [
       "np.float64(13.640432553581341)"
      ]
     },
     "execution_count": 85,
     "metadata": {},
     "output_type": "execute_result"
    }
   ],
   "source": [
    "serie_pais.std()"
   ]
  },
  {
   "cell_type": "code",
   "execution_count": 86,
   "metadata": {},
   "outputs": [
    {
     "data": {
      "text/plain": [
       "np.float64(186.0614002488016)"
      ]
     },
     "execution_count": 86,
     "metadata": {},
     "output_type": "execute_result"
    }
   ],
   "source": [
    "serie_pais.var()"
   ]
  },
  {
   "cell_type": "code",
   "execution_count": 87,
   "metadata": {},
   "outputs": [
    {
     "data": {
      "text/plain": [
       "np.float64(37.70676691729323)"
      ]
     },
     "execution_count": 87,
     "metadata": {},
     "output_type": "execute_result"
    }
   ],
   "source": [
    "serie_pais.loc[\"Brasil\"].mean()"
   ]
  },
  {
   "cell_type": "code",
   "execution_count": 88,
   "metadata": {},
   "outputs": [
    {
     "data": {
      "text/plain": [
       "np.float64(38.481751824817515)"
      ]
     },
     "execution_count": 88,
     "metadata": {},
     "output_type": "execute_result"
    }
   ],
   "source": [
    "serie_pais.loc[\"Índia\"].mean()"
   ]
  },
  {
   "cell_type": "code",
   "execution_count": 89,
   "metadata": {},
   "outputs": [
    {
     "data": {
      "text/plain": [
       "0.25    28.0\n",
       "0.50    37.0\n",
       "0.75    48.0\n",
       "1.00    90.0\n",
       "dtype: float64"
      ]
     },
     "execution_count": 89,
     "metadata": {},
     "output_type": "execute_result"
    }
   ],
   "source": [
    "serie_pais.quantile([0.25, 0.50, 0.75, 1])"
   ]
  },
  {
   "cell_type": "markdown",
   "metadata": {},
   "source": [
    "### Agrupamento Categórico"
   ]
  },
  {
   "cell_type": "code",
   "execution_count": 90,
   "metadata": {},
   "outputs": [
    {
     "data": {
      "text/plain": [
       "0                        Honduras\n",
       "1                        Salvador\n",
       "2                      Monserrate\n",
       "3                          Uganda\n",
       "4                       Antártica\n",
       "                   ...           \n",
       "32556                      Gâmbia\n",
       "32557    Ilhas Virgens Britânicas\n",
       "32558                 Reino Unido\n",
       "32559                     Tokelau\n",
       "32560                        Niue\n",
       "Length: 32561, dtype: object"
      ]
     },
     "execution_count": 90,
     "metadata": {},
     "output_type": "execute_result"
    }
   ],
   "source": [
    "serie_pais_index"
   ]
  },
  {
   "cell_type": "code",
   "execution_count": 91,
   "metadata": {},
   "outputs": [
    {
     "data": {
      "text/plain": [
       "Dinamarca                    279\n",
       "Dhekelia                     273\n",
       "Costa Rica                   250\n",
       "Egito                        246\n",
       "Cuba                         240\n",
       "                            ... \n",
       "Jersey                       104\n",
       "Bósnia e Herzegovina         104\n",
       "República Centro-Africana    102\n",
       "Lesoto                       101\n",
       "Venezuela                     99\n",
       "Name: count, Length: 247, dtype: int64"
      ]
     },
     "execution_count": 91,
     "metadata": {},
     "output_type": "execute_result"
    }
   ],
   "source": [
    "serie_pais_index.value_counts()"
   ]
  },
  {
   "cell_type": "code",
   "execution_count": 92,
   "metadata": {},
   "outputs": [
    {
     "data": {
      "text/plain": [
       "Dinamarca                    0.008569\n",
       "Dhekelia                     0.008384\n",
       "Costa Rica                   0.007678\n",
       "Egito                        0.007555\n",
       "Cuba                         0.007371\n",
       "                               ...   \n",
       "Jersey                       0.003194\n",
       "Bósnia e Herzegovina         0.003194\n",
       "República Centro-Africana    0.003133\n",
       "Lesoto                       0.003102\n",
       "Venezuela                    0.003040\n",
       "Name: proportion, Length: 247, dtype: float64"
      ]
     },
     "execution_count": 92,
     "metadata": {},
     "output_type": "execute_result"
    }
   ],
   "source": [
    "serie_pais_index.value_counts(normalize=True)"
   ]
  },
  {
   "cell_type": "code",
   "execution_count": 93,
   "metadata": {},
   "outputs": [
    {
     "data": {
      "text/plain": [
       "array(['Honduras', 'Salvador', 'Monserrate', 'Uganda', 'Antártica',\n",
       "       'Gabão', 'Quirguizistão', 'Polônia', 'Filipinas',\n",
       "       'São Pedro e Miquelon', 'Marrocos', 'México', 'Butão',\n",
       "       'Montenegro', 'Bulgária', 'Aruba', 'Somália', 'Dhekelia',\n",
       "       'Pitcairn', 'Cuba', 'Malásia', 'Guiné', 'Turquemenistão',\n",
       "       'República Centro-Africana', 'Uruguai', 'Brasil',\n",
       "       'Congo-Brazzaville', 'Brunei', 'São Marinho', 'Antígua e Barbuda',\n",
       "       'Suécia', 'Roménia', 'Granada', 'Clipperton Island', 'Angola',\n",
       "       'Guiana', 'Macedônia do Norte', 'Ilhas Caiman', 'Nicarágua',\n",
       "       'Ruanda', 'Mayotte', 'Guiné-Bissau', 'Letônia', 'Macau',\n",
       "       'Portugal', 'Geórgia', 'Bahamas', 'Zimbábue', 'Vietnam',\n",
       "       'Geórgia do Sul e Sandwich do Sul', 'Estônia', 'China', 'Eritreia',\n",
       "       'Nova Caledónia', 'Ilha Wake', 'Zâmbia', 'Lesoto',\n",
       "       'República Checa', 'Kuwait', 'Palau', 'Barein', 'Bielorrússia',\n",
       "       'Coreia do Sul', 'Maldivas', 'Birmânia', 'Coreia do Norte',\n",
       "       'Paquistão', 'Território Britânico do Oceano Índico',\n",
       "       'Arábia Saudita', 'Singapura', 'Svalbard e Jan Mayen',\n",
       "       'Ilhas Virgens Britânicas', 'Sri Lanka', 'São Tomé e Príncipe',\n",
       "       'Estados Unidos', 'Ucrânia', 'Sara Ocidental',\n",
       "       'Antilhas Holandesas', 'França', 'Laos', 'Guiné Equatorial',\n",
       "       'Domínica', 'Nepal', 'Jan Mayen', 'Ilhas Heard e McDonald',\n",
       "       'Ilha Bouvet', 'Canadá', 'Vaticano', 'Vanuatu', 'Ilhas Cook',\n",
       "       'Libéria', 'Maurícia', 'Camboja', 'Bélgica', 'Gana', 'Porto Rico',\n",
       "       'Finlândia', 'Chile', 'Eslovênia', 'Catar',\n",
       "       'Emirados Árabes Unidos', 'Groenlândia', 'Guam', 'Costa do Marfim',\n",
       "       'Líbano', 'Peru', 'Usbequistão', 'Anguila', 'Colômbia',\n",
       "       'Ilha do Natal', 'Tajiquistão', 'Ilha de Man', 'Guernsey',\n",
       "       'Rússia', 'Reino Unido', 'Omã', 'Jamaica', 'Mali', 'Paraguai',\n",
       "       'Iraque', 'Paracel Islands', 'Territórios Austrais Franceses',\n",
       "       'Grécia', 'Tuvalu', 'Serra Leoa', 'República Dominicana',\n",
       "       'Áustria', 'Armênia', 'Burquina Faso', 'Tanzânia', 'Mongólia',\n",
       "       'Cazaquistão', 'Tunísia', 'Burundi', 'Hong Kong', 'Azerbaijão',\n",
       "       'Iran', 'Espanha', 'Jersey', 'Wallis e Futuna',\n",
       "       'São Cristóvão e Neves', 'Niue', 'Ilha Norfolk',\n",
       "       'Ilhas Turcas e Caicos', 'Trindade e Tobago', 'Taiwan', 'Egito',\n",
       "       'Chade', 'Guatemala', 'Polinésia Francesa', 'Timor Leste', 'Haiti',\n",
       "       'Botsuana', 'Venezuela', 'Bermudas', 'Togo', 'Itália',\n",
       "       'Eslováquia', 'Moçambique', 'Costa Rica', 'Fiji', 'Suriname',\n",
       "       'Tokelau', 'Bolívia', 'Dinamarca', 'Ashmore and Cartier Islands',\n",
       "       'Afeganistão', 'Austrália', 'Mônaco', 'Argentina', 'Japão',\n",
       "       'Quiribáti', 'Luxemburgo', 'Panamá', 'Malávi', 'Papua-Nova Guiné',\n",
       "       'Suíça', 'Ilhas Marshall', 'Quênia', 'Nauru', 'Benim', 'Nigéria',\n",
       "       'Suazilândia', 'Países Baixos', 'Iêmen', 'Argélia', 'Croácia',\n",
       "       'Equador', 'Senegal', 'Irlanda', 'Etiópia', 'Congo-Kinshasa',\n",
       "       'Comores', 'Cabo Verde', 'Micronésia', 'Camarões', 'Liechtenstein',\n",
       "       'Navassa Island', 'Belize', 'Coral Sea Islands', 'Faroé',\n",
       "       'Tailândia', 'Akrotiri', 'Ilhas dos Cocos', 'Bósnia e Herzegovina',\n",
       "       'Turquia', 'Samoa Americana', 'Ilhas Salomão', 'Líbia',\n",
       "       'União Europeia', 'Alemanha', 'Sérvia', 'Islândia',\n",
       "       'São Vicente e Granadinas', 'Ilhas Falkland', 'Sudão',\n",
       "       'Marianas do Norte', 'Jibuti', 'Andorra', 'Madagascar',\n",
       "       'Santa Lúcia', 'Samoa', 'Barbados', 'Hungria', 'Moldávia',\n",
       "       'Albânia', 'Seicheles', 'Israel', 'Bangladesh', 'África do Sul',\n",
       "       'Namíbia', 'Gibraltar', 'Noruega', 'Lituânia', 'Malta',\n",
       "       'Ilhas Virgens Americanas', 'Chipre', 'Níger', 'Santa Helena',\n",
       "       'Síria', 'Jordânia', 'Tonga', 'Índia', 'Indonésia', 'Gâmbia',\n",
       "       'Nova Zelândia', 'Mauritânia'], dtype=object)"
      ]
     },
     "execution_count": 93,
     "metadata": {},
     "output_type": "execute_result"
    }
   ],
   "source": [
    "serie_pais_index.unique()"
   ]
  },
  {
   "cell_type": "code",
   "execution_count": 94,
   "metadata": {},
   "outputs": [
    {
     "data": {
      "text/plain": [
       "247"
      ]
     },
     "execution_count": 94,
     "metadata": {},
     "output_type": "execute_result"
    }
   ],
   "source": [
    "serie_pais_index.nunique()"
   ]
  },
  {
   "cell_type": "code",
   "execution_count": null,
   "metadata": {},
   "outputs": [],
   "source": []
  }
 ],
 "metadata": {
  "kernelspec": {
   "display_name": ".venv",
   "language": "python",
   "name": "python3"
  },
  "language_info": {
   "codemirror_mode": {
    "name": "ipython",
    "version": 3
   },
   "file_extension": ".py",
   "mimetype": "text/x-python",
   "name": "python",
   "nbconvert_exporter": "python",
   "pygments_lexer": "ipython3",
   "version": "3.13.0"
  }
 },
 "nbformat": 4,
 "nbformat_minor": 2
}
