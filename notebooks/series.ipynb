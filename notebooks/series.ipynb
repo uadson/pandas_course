{
 "cells": [
  {
   "cell_type": "markdown",
   "metadata": {},
   "source": [
    "### Imports"
   ]
  },
  {
   "cell_type": "code",
   "execution_count": 43,
   "metadata": {},
   "outputs": [],
   "source": [
    "import pandas as pd\n",
    "import numpy as np\n",
    "import random\n",
    "from string import ascii_uppercase\n",
    "import os\n",
    "from faker import Faker"
   ]
  },
  {
   "cell_type": "markdown",
   "metadata": {},
   "source": [
    "### Series creation"
   ]
  },
  {
   "cell_type": "code",
   "execution_count": 44,
   "metadata": {},
   "outputs": [
    {
     "name": "stdout",
     "output_type": "stream",
     "text": [
      "[10, 20, 30, 40, 50, 60, 70, 80, 90, 100]\n"
     ]
    }
   ],
   "source": [
    "data = [num for num in range(10, 110, 10)]\n",
    "print(data)"
   ]
  },
  {
   "cell_type": "code",
   "execution_count": 45,
   "metadata": {},
   "outputs": [
    {
     "name": "stdout",
     "output_type": "stream",
     "text": [
      "0     10\n",
      "1     20\n",
      "2     30\n",
      "3     40\n",
      "4     50\n",
      "5     60\n",
      "6     70\n",
      "7     80\n",
      "8     90\n",
      "9    100\n",
      "dtype: int64\n"
     ]
    }
   ],
   "source": [
    "data_serie = pd.Series(data)\n",
    "print(data_serie)"
   ]
  },
  {
   "cell_type": "code",
   "execution_count": 46,
   "metadata": {},
   "outputs": [
    {
     "name": "stdout",
     "output_type": "stream",
     "text": [
      "<class 'pandas.core.series.Series'>\n"
     ]
    }
   ],
   "source": [
    "print(type(data_serie))"
   ]
  },
  {
   "cell_type": "code",
   "execution_count": 47,
   "metadata": {},
   "outputs": [
    {
     "name": "stdout",
     "output_type": "stream",
     "text": [
      "<class 'list'>\n",
      "A    10\n",
      "B    20\n",
      "C    30\n",
      "D    40\n",
      "E    50\n",
      "dtype: int64\n"
     ]
    }
   ],
   "source": [
    "int_array = [num for num in range(10, 60, 10)]\n",
    "print(type(int_array))\n",
    "indexes = ['A B C D E'.split(' ')]\n",
    "data_series = pd.Series(int_array, indexes)\n",
    "print(data_series)"
   ]
  },
  {
   "cell_type": "code",
   "execution_count": 48,
   "metadata": {},
   "outputs": [
    {
     "name": "stdout",
     "output_type": "stream",
     "text": [
      "[10 20 30 40 50]\n",
      "<class 'numpy.ndarray'>\n"
     ]
    }
   ],
   "source": [
    "np_array = np.array(int_array)\n",
    "print(np_array)\n",
    "print(type(np_array))"
   ]
  },
  {
   "cell_type": "code",
   "execution_count": 49,
   "metadata": {},
   "outputs": [
    {
     "name": "stdout",
     "output_type": "stream",
     "text": [
      "0    10\n",
      "1    20\n",
      "2    30\n",
      "3    40\n",
      "4    50\n",
      "dtype: int64\n"
     ]
    }
   ],
   "source": [
    "data_series = pd.Series(np_array)\n",
    "print(data_series)"
   ]
  },
  {
   "cell_type": "code",
   "execution_count": 50,
   "metadata": {},
   "outputs": [
    {
     "name": "stdout",
     "output_type": "stream",
     "text": [
      "Lines: (5,)\n",
      "Dimension: 1\n",
      "Size: 5\n"
     ]
    }
   ],
   "source": [
    "print(f\"Lines: {data_series.shape}\")\n",
    "print(f'Dimension: {data_series.ndim}')\n",
    "print(f'Size: {data_series.size}')"
   ]
  },
  {
   "cell_type": "code",
   "execution_count": 51,
   "metadata": {},
   "outputs": [
    {
     "name": "stdout",
     "output_type": "stream",
     "text": [
      "R    10\n",
      "M    20\n",
      "K    30\n",
      "U    40\n",
      "I    50\n",
      "dtype: int64\n"
     ]
    }
   ],
   "source": [
    "data_series.index = [random.choice(ascii_uppercase) for _ in range(5)]\n",
    "print(data_series)"
   ]
  },
  {
   "cell_type": "code",
   "execution_count": 52,
   "metadata": {},
   "outputs": [
    {
     "name": "stdout",
     "output_type": "stream",
     "text": [
      "Values: [0.51951398 0.9826249  0.35442075 0.17006225 0.01819155 0.20724628\n",
      " 0.67313204 0.92779672 0.46798119 0.32155718]\n",
      "Indexes: [0 1 2 3 4 5 6 7 8 9]\n",
      "0    0.519514\n",
      "1    0.982625\n",
      "2    0.354421\n",
      "3    0.170062\n",
      "4    0.018192\n",
      "5    0.207246\n",
      "6    0.673132\n",
      "7    0.927797\n",
      "8    0.467981\n",
      "9    0.321557\n",
      "dtype: float64\n"
     ]
    }
   ],
   "source": [
    "values = np.random.random(10)\n",
    "indexes = np.arange(0, 10)\n",
    "\n",
    "print(f'Values: {values}')\n",
    "print(f'Indexes: {indexes}')\n",
    "\n",
    "data_series = pd.Series(values, indexes)\n",
    "\n",
    "print(data_series)"
   ]
  },
  {
   "cell_type": "code",
   "execution_count": 53,
   "metadata": {},
   "outputs": [
    {
     "name": "stdout",
     "output_type": "stream",
     "text": [
      "{'P': 3, 'N': 1, 'B': 1, 'J': 6, 'H': 4}\n",
      "P    3\n",
      "N    1\n",
      "B    1\n",
      "J    6\n",
      "H    4\n",
      "dtype: int64\n"
     ]
    }
   ],
   "source": [
    "dict_data = {random.choice(ascii_uppercase):random.randint(1, 10) for _ in range(5)}\n",
    "\n",
    "print(dict_data)\n",
    "\n",
    "data_series = pd.Series(dict_data)\n",
    "\n",
    "print(data_series)"
   ]
  },
  {
   "cell_type": "markdown",
   "metadata": {},
   "source": [
    "### Slicing"
   ]
  },
  {
   "cell_type": "code",
   "execution_count": 54,
   "metadata": {},
   "outputs": [
    {
     "name": "stdout",
     "output_type": "stream",
     "text": [
      "0    0.854650\n",
      "1    0.223496\n",
      "2    0.599356\n",
      "3    0.038017\n",
      "4    0.902643\n",
      "5    0.916263\n",
      "6    0.305195\n",
      "7    0.697807\n",
      "8    0.097400\n",
      "9    0.740242\n",
      "dtype: float64\n"
     ]
    }
   ],
   "source": [
    "data_serie = pd.Series(data=np.random.random(10))\n",
    "\n",
    "print(data_serie)"
   ]
  },
  {
   "cell_type": "code",
   "execution_count": 55,
   "metadata": {},
   "outputs": [
    {
     "data": {
      "text/plain": [
       "0    0.854650\n",
       "1    0.223496\n",
       "2    0.599356\n",
       "3    0.038017\n",
       "4    0.902643\n",
       "5    0.916263\n",
       "6    0.305195\n",
       "7    0.697807\n",
       "8    0.097400\n",
       "9    0.740242\n",
       "dtype: float64"
      ]
     },
     "execution_count": 55,
     "metadata": {},
     "output_type": "execute_result"
    }
   ],
   "source": [
    "data_serie[:]"
   ]
  },
  {
   "cell_type": "code",
   "execution_count": 56,
   "metadata": {},
   "outputs": [
    {
     "data": {
      "text/plain": [
       "9    0.740242\n",
       "dtype: float64"
      ]
     },
     "execution_count": 56,
     "metadata": {},
     "output_type": "execute_result"
    }
   ],
   "source": [
    "data_serie[-1::]"
   ]
  },
  {
   "cell_type": "code",
   "execution_count": 57,
   "metadata": {},
   "outputs": [
    {
     "data": {
      "text/plain": [
       "9    0.740242\n",
       "dtype: float64"
      ]
     },
     "execution_count": 57,
     "metadata": {},
     "output_type": "execute_result"
    }
   ],
   "source": [
    "data_serie[-1:]"
   ]
  },
  {
   "cell_type": "markdown",
   "metadata": {},
   "source": [
    "### Copying, converting and concatenating"
   ]
  },
  {
   "cell_type": "code",
   "execution_count": 58,
   "metadata": {},
   "outputs": [],
   "source": [
    "# Copy\n",
    "data_serie2 = data_serie.copy()"
   ]
  },
  {
   "cell_type": "code",
   "execution_count": 59,
   "metadata": {},
   "outputs": [
    {
     "data": {
      "text/plain": [
       "0    0.854650\n",
       "1    0.223496\n",
       "2    0.599356\n",
       "3    0.038017\n",
       "4    0.902643\n",
       "5    0.916263\n",
       "6    0.305195\n",
       "7    0.697807\n",
       "8    0.097400\n",
       "9    0.740242\n",
       "dtype: float64"
      ]
     },
     "execution_count": 59,
     "metadata": {},
     "output_type": "execute_result"
    }
   ],
   "source": [
    "data_serie2"
   ]
  },
  {
   "cell_type": "code",
   "execution_count": 60,
   "metadata": {},
   "outputs": [
    {
     "data": {
      "text/plain": [
       "dtype('float64')"
      ]
     },
     "execution_count": 60,
     "metadata": {},
     "output_type": "execute_result"
    }
   ],
   "source": [
    "# Convert from float\n",
    "data_serie2.dtype"
   ]
  },
  {
   "cell_type": "code",
   "execution_count": 61,
   "metadata": {},
   "outputs": [
    {
     "data": {
      "text/plain": [
       "0    0\n",
       "1    0\n",
       "2    0\n",
       "3    0\n",
       "4    0\n",
       "5    0\n",
       "6    0\n",
       "7    0\n",
       "8    0\n",
       "9    0\n",
       "dtype: int64"
      ]
     },
     "execution_count": 61,
     "metadata": {},
     "output_type": "execute_result"
    }
   ],
   "source": [
    "# To int\n",
    "data_serie3 = data_serie2.astype(int)\n",
    "data_serie3"
   ]
  },
  {
   "cell_type": "code",
   "execution_count": 62,
   "metadata": {},
   "outputs": [],
   "source": [
    "# Concat\n",
    "\n",
    "# Two dicts\n",
    "dic1 = {'João': 22, 'Alice': 34, 'Gustavo': 29, 'Pedro': 21}\n",
    "dic2 = {'Gustavo': 17, 'Alana': 30}\n",
    "\n",
    "# for to Series\n",
    "data_serie4 = pd.Series(data=dic1)\n",
    "data_serie5 = pd.Series(data=dic2)\n"
   ]
  },
  {
   "cell_type": "code",
   "execution_count": 63,
   "metadata": {},
   "outputs": [
    {
     "data": {
      "text/plain": [
       "João       22\n",
       "Alice      34\n",
       "Gustavo    29\n",
       "Pedro      21\n",
       "Gustavo    17\n",
       "Alana      30\n",
       "dtype: int64"
      ]
     },
     "execution_count": 63,
     "metadata": {},
     "output_type": "execute_result"
    }
   ],
   "source": [
    "# Concat two series\n",
    "data_serie6 = pd.concat([data_serie4, data_serie5])\n",
    "data_serie6"
   ]
  },
  {
   "cell_type": "markdown",
   "metadata": {},
   "source": [
    "### Acesso aos dados com iLoc\n",
    " - Acessar elementos pelo índice"
   ]
  },
  {
   "cell_type": "code",
   "execution_count": 64,
   "metadata": {},
   "outputs": [],
   "source": [
    "filename = 'census.csv'\n",
    "dataset = pd.read_csv(f\"{os.path.join(os.path.dirname(os.getcwd()), 'data', filename)}\")"
   ]
  },
  {
   "cell_type": "code",
   "execution_count": 65,
   "metadata": {},
   "outputs": [
    {
     "name": "stdout",
     "output_type": "stream",
     "text": [
      "<class 'pandas.core.frame.DataFrame'>\n"
     ]
    }
   ],
   "source": [
    "print(type(dataset))"
   ]
  },
  {
   "cell_type": "code",
   "execution_count": 66,
   "metadata": {},
   "outputs": [
    {
     "data": {
      "text/html": [
       "<div>\n",
       "<style scoped>\n",
       "    .dataframe tbody tr th:only-of-type {\n",
       "        vertical-align: middle;\n",
       "    }\n",
       "\n",
       "    .dataframe tbody tr th {\n",
       "        vertical-align: top;\n",
       "    }\n",
       "\n",
       "    .dataframe thead th {\n",
       "        text-align: right;\n",
       "    }\n",
       "</style>\n",
       "<table border=\"1\" class=\"dataframe\">\n",
       "  <thead>\n",
       "    <tr style=\"text-align: right;\">\n",
       "      <th></th>\n",
       "      <th>age</th>\n",
       "      <th>workclass</th>\n",
       "      <th>final-weight</th>\n",
       "      <th>education</th>\n",
       "      <th>education-num</th>\n",
       "      <th>marital-status</th>\n",
       "      <th>occupation</th>\n",
       "      <th>relationship</th>\n",
       "      <th>race</th>\n",
       "      <th>sex</th>\n",
       "      <th>capital-gain</th>\n",
       "      <th>capital-loos</th>\n",
       "      <th>hour-per-week</th>\n",
       "      <th>native-country</th>\n",
       "      <th>income</th>\n",
       "    </tr>\n",
       "  </thead>\n",
       "  <tbody>\n",
       "    <tr>\n",
       "      <th>0</th>\n",
       "      <td>39</td>\n",
       "      <td>State-gov</td>\n",
       "      <td>77516</td>\n",
       "      <td>Bachelors</td>\n",
       "      <td>13</td>\n",
       "      <td>Never-married</td>\n",
       "      <td>Adm-clerical</td>\n",
       "      <td>Not-in-family</td>\n",
       "      <td>White</td>\n",
       "      <td>Male</td>\n",
       "      <td>2174</td>\n",
       "      <td>0</td>\n",
       "      <td>40</td>\n",
       "      <td>United-States</td>\n",
       "      <td>&lt;=50K</td>\n",
       "    </tr>\n",
       "    <tr>\n",
       "      <th>1</th>\n",
       "      <td>50</td>\n",
       "      <td>Self-emp-not-inc</td>\n",
       "      <td>83311</td>\n",
       "      <td>Bachelors</td>\n",
       "      <td>13</td>\n",
       "      <td>Married-civ-spouse</td>\n",
       "      <td>Exec-managerial</td>\n",
       "      <td>Husband</td>\n",
       "      <td>White</td>\n",
       "      <td>Male</td>\n",
       "      <td>0</td>\n",
       "      <td>0</td>\n",
       "      <td>13</td>\n",
       "      <td>United-States</td>\n",
       "      <td>&lt;=50K</td>\n",
       "    </tr>\n",
       "    <tr>\n",
       "      <th>2</th>\n",
       "      <td>38</td>\n",
       "      <td>Private</td>\n",
       "      <td>215646</td>\n",
       "      <td>HS-grad</td>\n",
       "      <td>9</td>\n",
       "      <td>Divorced</td>\n",
       "      <td>Handlers-cleaners</td>\n",
       "      <td>Not-in-family</td>\n",
       "      <td>White</td>\n",
       "      <td>Male</td>\n",
       "      <td>0</td>\n",
       "      <td>0</td>\n",
       "      <td>40</td>\n",
       "      <td>United-States</td>\n",
       "      <td>&lt;=50K</td>\n",
       "    </tr>\n",
       "    <tr>\n",
       "      <th>3</th>\n",
       "      <td>53</td>\n",
       "      <td>Private</td>\n",
       "      <td>234721</td>\n",
       "      <td>11th</td>\n",
       "      <td>7</td>\n",
       "      <td>Married-civ-spouse</td>\n",
       "      <td>Handlers-cleaners</td>\n",
       "      <td>Husband</td>\n",
       "      <td>Black</td>\n",
       "      <td>Male</td>\n",
       "      <td>0</td>\n",
       "      <td>0</td>\n",
       "      <td>40</td>\n",
       "      <td>United-States</td>\n",
       "      <td>&lt;=50K</td>\n",
       "    </tr>\n",
       "    <tr>\n",
       "      <th>4</th>\n",
       "      <td>28</td>\n",
       "      <td>Private</td>\n",
       "      <td>338409</td>\n",
       "      <td>Bachelors</td>\n",
       "      <td>13</td>\n",
       "      <td>Married-civ-spouse</td>\n",
       "      <td>Prof-specialty</td>\n",
       "      <td>Wife</td>\n",
       "      <td>Black</td>\n",
       "      <td>Female</td>\n",
       "      <td>0</td>\n",
       "      <td>0</td>\n",
       "      <td>40</td>\n",
       "      <td>Cuba</td>\n",
       "      <td>&lt;=50K</td>\n",
       "    </tr>\n",
       "  </tbody>\n",
       "</table>\n",
       "</div>"
      ],
      "text/plain": [
       "   age          workclass  final-weight   education  education-num  \\\n",
       "0   39          State-gov         77516   Bachelors             13   \n",
       "1   50   Self-emp-not-inc         83311   Bachelors             13   \n",
       "2   38            Private        215646     HS-grad              9   \n",
       "3   53            Private        234721        11th              7   \n",
       "4   28            Private        338409   Bachelors             13   \n",
       "\n",
       "        marital-status          occupation    relationship    race      sex  \\\n",
       "0        Never-married        Adm-clerical   Not-in-family   White     Male   \n",
       "1   Married-civ-spouse     Exec-managerial         Husband   White     Male   \n",
       "2             Divorced   Handlers-cleaners   Not-in-family   White     Male   \n",
       "3   Married-civ-spouse   Handlers-cleaners         Husband   Black     Male   \n",
       "4   Married-civ-spouse      Prof-specialty            Wife   Black   Female   \n",
       "\n",
       "   capital-gain  capital-loos  hour-per-week  native-country  income  \n",
       "0          2174             0             40   United-States   <=50K  \n",
       "1             0             0             13   United-States   <=50K  \n",
       "2             0             0             40   United-States   <=50K  \n",
       "3             0             0             40   United-States   <=50K  \n",
       "4             0             0             40            Cuba   <=50K  "
      ]
     },
     "execution_count": 66,
     "metadata": {},
     "output_type": "execute_result"
    }
   ],
   "source": [
    "dataset.head()"
   ]
  },
  {
   "cell_type": "code",
   "execution_count": 67,
   "metadata": {},
   "outputs": [
    {
     "name": "stdout",
     "output_type": "stream",
     "text": [
      "0        39\n",
      "1        50\n",
      "2        38\n",
      "3        53\n",
      "4        28\n",
      "         ..\n",
      "32556    27\n",
      "32557    40\n",
      "32558    58\n",
      "32559    22\n",
      "32560    52\n",
      "Name: age, Length: 32561, dtype: int64\n",
      "<class 'pandas.core.series.Series'>\n",
      "[39 50 38 ... 58 22 52] <class 'numpy.ndarray'>\n"
     ]
    }
   ],
   "source": [
    "serie_age = dataset['age']\n",
    "print(serie_age)\n",
    "print(type(serie_age))\n",
    "print(serie_age.values, type(serie_age.values))"
   ]
  },
  {
   "cell_type": "markdown",
   "metadata": {},
   "source": []
  },
  {
   "cell_type": "code",
   "execution_count": 68,
   "metadata": {},
   "outputs": [
    {
     "name": "stdout",
     "output_type": "stream",
     "text": [
      "39\n",
      "45\n",
      "52\n"
     ]
    }
   ],
   "source": [
    "print(serie_age.iloc[0])\n",
    "print(serie_age.iloc[32])\n",
    "print(serie_age.iloc[-1])"
   ]
  },
  {
   "cell_type": "code",
   "execution_count": 69,
   "metadata": {},
   "outputs": [
    {
     "name": "stdout",
     "output_type": "stream",
     "text": [
      "2    38\n",
      "3    53\n",
      "4    28\n",
      "5    37\n",
      "6    49\n",
      "7    52\n",
      "8    31\n",
      "9    42\n",
      "Name: age, dtype: int64\n"
     ]
    }
   ],
   "source": [
    "print(serie_age.iloc[2:10])"
   ]
  },
  {
   "cell_type": "code",
   "execution_count": 70,
   "metadata": {},
   "outputs": [
    {
     "name": "stdout",
     "output_type": "stream",
     "text": [
      "38\n",
      "53\n",
      "28\n",
      "37\n",
      "49\n",
      "52\n",
      "31\n",
      "42\n"
     ]
    }
   ],
   "source": [
    "for i in serie_age.iloc[2:10]:\n",
    "    print(i)"
   ]
  },
  {
   "cell_type": "code",
   "execution_count": 71,
   "metadata": {},
   "outputs": [
    {
     "data": {
      "text/plain": [
       "[False, False, True, False, False, False, False, False]"
      ]
     },
     "execution_count": 71,
     "metadata": {},
     "output_type": "execute_result"
    }
   ],
   "source": [
    "menor_que_30 = list(map(lambda value: value < 30, serie_age.iloc[2:10]))\n",
    "menor_que_30"
   ]
  },
  {
   "cell_type": "code",
   "execution_count": 72,
   "metadata": {},
   "outputs": [
    {
     "data": {
      "text/plain": [
       "2     38\n",
       "10    37\n",
       "18    38\n",
       "Name: age, dtype: int64"
      ]
     },
     "execution_count": 72,
     "metadata": {},
     "output_type": "execute_result"
    }
   ],
   "source": [
    "# Pesquisando por índices\n",
    "serie_age.iloc[[2,10,18]]"
   ]
  },
  {
   "cell_type": "code",
   "execution_count": 73,
   "metadata": {},
   "outputs": [],
   "source": [
    "ages_list = []\n",
    "\n",
    "for age in serie_age.items():\n",
    "    # print(age)\n",
    "    # print(f\"Indice: {age[0]} - Idade: {age[1]}\")\n",
    "    if age[1] < 30:\n",
    "        # salvando as idades\n",
    "        # ages_list.append(age[1])\n",
    "        # salvando os índices\n",
    "        ages_list.append(age[0])"
   ]
  },
  {
   "cell_type": "code",
   "execution_count": 74,
   "metadata": {},
   "outputs": [
    {
     "name": "stdout",
     "output_type": "stream",
     "text": [
      "9711\n"
     ]
    },
    {
     "data": {
      "text/plain": [
       "4        28\n",
       "12       23\n",
       "16       25\n",
       "26       19\n",
       "30       23\n",
       "         ..\n",
       "32529    29\n",
       "32535    22\n",
       "32555    22\n",
       "32556    27\n",
       "32559    22\n",
       "Name: age, Length: 9711, dtype: int64"
      ]
     },
     "execution_count": 74,
     "metadata": {},
     "output_type": "execute_result"
    }
   ],
   "source": [
    "print(len(ages_list))\n",
    "\n",
    "serie_age.iloc[ages_list]"
   ]
  },
  {
   "cell_type": "markdown",
   "metadata": {},
   "source": [
    "### Acessando os dados com Loc\n",
    "- Acessar elementos com \"string\""
   ]
  },
  {
   "cell_type": "code",
   "execution_count": 75,
   "metadata": {},
   "outputs": [
    {
     "name": "stdout",
     "output_type": "stream",
     "text": [
      "['Ana Júlia Oliveira', 'Vitor Jesus', 'Benício Freitas', 'Dra. Ana Sophia Almeida', 'Marcos Vinicius Casa Grande', 'Kamilly Ferreira', 'Renan Oliveira', 'Ravy Nascimento', 'Ana Luiza Martins', 'Lorenzo da Mota', 'Luiz Miguel Nunes']\n"
     ]
    }
   ],
   "source": [
    "fake = Faker('pt-BR')\n",
    "\n",
    "indexes_name = []\n",
    "\n",
    "for _ in range(len(serie_age)):\n",
    "    indexes_name.append(fake.name())\n",
    "    \n",
    "print(indexes_name[0:11])"
   ]
  },
  {
   "cell_type": "code",
   "execution_count": 76,
   "metadata": {},
   "outputs": [
    {
     "data": {
      "text/plain": [
       "Ana Júlia Oliveira             39\n",
       "Vitor Jesus                    50\n",
       "Benício Freitas                38\n",
       "Dra. Ana Sophia Almeida        53\n",
       "Marcos Vinicius Casa Grande    28\n",
       "Kamilly Ferreira               37\n",
       "Renan Oliveira                 49\n",
       "Ravy Nascimento                52\n",
       "Ana Luiza Martins              31\n",
       "Lorenzo da Mota                42\n",
       "Luiz Miguel Nunes              37\n",
       "dtype: int64"
      ]
     },
     "execution_count": 76,
     "metadata": {},
     "output_type": "execute_result"
    }
   ],
   "source": [
    "serie_name_age = pd.Series(serie_age.values, index=indexes_name)\n",
    "serie_name_age[0:11]"
   ]
  },
  {
   "cell_type": "code",
   "execution_count": 77,
   "metadata": {},
   "outputs": [
    {
     "data": {
      "text/plain": [
       "np.int64(45)"
      ]
     },
     "execution_count": 77,
     "metadata": {},
     "output_type": "execute_result"
    }
   ],
   "source": [
    "serie_name_age[\"Antony Costa\"]"
   ]
  },
  {
   "cell_type": "code",
   "execution_count": 78,
   "metadata": {},
   "outputs": [
    {
     "data": {
      "text/plain": [
       "73"
      ]
     },
     "execution_count": 78,
     "metadata": {},
     "output_type": "execute_result"
    }
   ],
   "source": [
    "serie_name_age_filter = serie_name_age.drop_duplicates()\n",
    "serie_name_age_filter.size"
   ]
  },
  {
   "cell_type": "code",
   "execution_count": 79,
   "metadata": {},
   "outputs": [
    {
     "data": {
      "text/plain": [
       "Ana Júlia Oliveira             39\n",
       "Vitor Jesus                    50\n",
       "Benício Freitas                38\n",
       "Dra. Ana Sophia Almeida        53\n",
       "Marcos Vinicius Casa Grande    28\n",
       "                               ..\n",
       "Danilo Duarte                  83\n",
       "Levi Mendes                    84\n",
       "Emanuella Machado              85\n",
       "Ana Luiza da Mata              86\n",
       "Agatha Cassiano                87\n",
       "Length: 73, dtype: int64"
      ]
     },
     "execution_count": 79,
     "metadata": {},
     "output_type": "execute_result"
    }
   ],
   "source": [
    "serie_name_age_filter"
   ]
  },
  {
   "cell_type": "code",
   "execution_count": 81,
   "metadata": {},
   "outputs": [
    {
     "name": "stdout",
     "output_type": "stream",
     "text": [
      "Sem LOC\n",
      "Vitor Jesus        50\n",
      "Benício Freitas    38\n",
      "dtype: int64\n",
      "Com LOC\n",
      "Ana Júlia Oliveira             39\n",
      "Vitor Jesus                    50\n",
      "Benício Freitas                38\n",
      "Dra. Ana Sophia Almeida        53\n",
      "Marcos Vinicius Casa Grande    28\n",
      "                               ..\n",
      "Daniel Melo                    88\n",
      "Enzo Gabriel Garcia            82\n",
      "Danilo Duarte                  83\n",
      "Levi Mendes                    84\n",
      "Emanuella Machado              85\n",
      "Length: 71, dtype: int64\n",
      "Lista\n",
      "Ana Júlia Oliveira             39\n",
      "Vitor Jesus                    50\n",
      "Benício Freitas                38\n",
      "Dra. Ana Sophia Almeida        53\n",
      "Marcos Vinicius Casa Grande    28\n",
      "                               ..\n",
      "Daniel Melo                    88\n",
      "Enzo Gabriel Garcia            82\n",
      "Danilo Duarte                  83\n",
      "Levi Mendes                    84\n",
      "Emanuella Machado              85\n",
      "Length: 71, dtype: int64\n",
      "Tamanho\n",
      "2\n"
     ]
    }
   ],
   "source": [
    "print(\"Sem LOC\")\n",
    "print(serie_name_age_filter[1:3])\n",
    "print(\"Com LOC\")\n",
    "print(serie_name_age_filter.loc[\"Ana Júlia Oliveira\":\"Emanuella Machado\"])\n",
    "print(\"Lista\")\n",
    "print(serie_name_age_filter.loc[\"Ana Júlia Oliveira\":\"Emanuella Machado\"])\n",
    "print(\"Tamanho\")\n",
    "print(len(serie_name_age_filter[1:3]))"
   ]
  },
  {
   "cell_type": "code",
   "execution_count": 82,
   "metadata": {},
   "outputs": [
    {
     "data": {
      "text/plain": [
       "0     39\n",
       "1     50\n",
       "2     38\n",
       "3     53\n",
       "4     28\n",
       "      ..\n",
       "68    83\n",
       "69    84\n",
       "70    85\n",
       "71    86\n",
       "72    87\n",
       "Length: 73, dtype: int64"
      ]
     },
     "execution_count": 82,
     "metadata": {},
     "output_type": "execute_result"
    }
   ],
   "source": [
    "reset_index = serie_name_age_filter.copy()\n",
    "reset_index.reset_index(drop=True, inplace=True)\n",
    "reset_index"
   ]
  },
  {
   "cell_type": "code",
   "execution_count": 83,
   "metadata": {},
   "outputs": [
    {
     "data": {
      "text/plain": [
       "RangeIndex(start=0, stop=73, step=1)"
      ]
     },
     "execution_count": 83,
     "metadata": {},
     "output_type": "execute_result"
    }
   ],
   "source": [
    "reset_index.index"
   ]
  },
  {
   "cell_type": "markdown",
   "metadata": {},
   "source": [
    "### Ordenação"
   ]
  },
  {
   "cell_type": "code",
   "execution_count": 84,
   "metadata": {},
   "outputs": [
    {
     "data": {
      "text/plain": [
       "Cauã Caldeira           17\n",
       "Nicolas Ramos           17\n",
       "Nathan Vasconcelos      17\n",
       "Ana Beatriz Andrade     17\n",
       "Maria Laura Gomes       17\n",
       "                        ..\n",
       "Luna Marques            90\n",
       "Sr. Augusto Teixeira    90\n",
       "Esther Sales            90\n",
       "Dra. Isabelly Abreu     90\n",
       "Luiz Gustavo Costa      90\n",
       "Length: 32561, dtype: int64"
      ]
     },
     "execution_count": 84,
     "metadata": {},
     "output_type": "execute_result"
    }
   ],
   "source": [
    "# Ordenando idades em ordem crescente\n",
    "serie_name_age.sort_values()"
   ]
  },
  {
   "cell_type": "code",
   "execution_count": 85,
   "metadata": {},
   "outputs": [
    {
     "data": {
      "text/plain": [
       "Sr. Enzo Souza              90\n",
       "Davi Miguel Cardoso         90\n",
       "Dante Vargas                90\n",
       "Leonardo Almeida            90\n",
       "Maria Julia Almeida         90\n",
       "                            ..\n",
       "Dra. Aurora Gonçalves       17\n",
       "Luiz Gustavo Porto          17\n",
       "Bruna da Rocha              17\n",
       "Sra. Ana Vitória Moreira    17\n",
       "Luiz Felipe Ribeiro         17\n",
       "Length: 32561, dtype: int64"
      ]
     },
     "execution_count": 85,
     "metadata": {},
     "output_type": "execute_result"
    }
   ],
   "source": [
    "# Ordenando idades em ordem decrescente\n",
    "serie_name_age.sort_values(ascending=False)"
   ]
  },
  {
   "cell_type": "code",
   "execution_count": 86,
   "metadata": {},
   "outputs": [
    {
     "data": {
      "text/plain": [
       "Agatha Abreu      26\n",
       "Agatha Abreu      29\n",
       "Agatha Alves      35\n",
       "Agatha Alves      38\n",
       "Agatha Andrade    29\n",
       "                  ..\n",
       "Ísis da Luz       30\n",
       "Ísis da Mata      66\n",
       "Ísis da Mata      30\n",
       "Ísis da Paz       68\n",
       "Ísis da Paz       45\n",
       "Length: 32561, dtype: int64"
      ]
     },
     "execution_count": 86,
     "metadata": {},
     "output_type": "execute_result"
    }
   ],
   "source": [
    "# Ordenando os índices em ordem crescente\n",
    "serie_name_age.sort_index()"
   ]
  },
  {
   "cell_type": "code",
   "execution_count": 87,
   "metadata": {},
   "outputs": [
    {
     "data": {
      "text/plain": [
       "Ísis da Paz       45\n",
       "Ísis da Paz       68\n",
       "Ísis da Mata      66\n",
       "Ísis da Mata      30\n",
       "Ísis da Luz       30\n",
       "                  ..\n",
       "Agatha Andrade    29\n",
       "Agatha Alves      38\n",
       "Agatha Alves      35\n",
       "Agatha Abreu      26\n",
       "Agatha Abreu      29\n",
       "Length: 32561, dtype: int64"
      ]
     },
     "execution_count": 87,
     "metadata": {},
     "output_type": "execute_result"
    }
   ],
   "source": [
    "# Ordenando os índices em ordem decrescente\n",
    "serie_name_age.sort_index(ascending=False)"
   ]
  },
  {
   "cell_type": "code",
   "execution_count": 88,
   "metadata": {},
   "outputs": [
    {
     "data": {
      "text/plain": [
       "Sr. Enzo Souza          90\n",
       "Davi Miguel Cardoso     90\n",
       "Dante Vargas            90\n",
       "Leonardo Almeida        90\n",
       "Maria Julia Almeida     90\n",
       "Sabrina Rezende         90\n",
       "Marina Vasconcelos      90\n",
       "Ana Carolina Andrade    90\n",
       "João Miguel Melo        90\n",
       "Luna Marques            90\n",
       "Bruno Melo              90\n",
       "dtype: int64"
      ]
     },
     "execution_count": 88,
     "metadata": {},
     "output_type": "execute_result"
    }
   ],
   "source": [
    "# Retornando as dez pessoas com a maior idade da série\n",
    "serie_name_age.sort_values(ascending=False).iloc[0:11]"
   ]
  },
  {
   "cell_type": "markdown",
   "metadata": {},
   "source": [
    "### Contagem"
   ]
  },
  {
   "cell_type": "code",
   "execution_count": 89,
   "metadata": {},
   "outputs": [
    {
     "data": {
      "text/plain": [
       "32561"
      ]
     },
     "execution_count": 89,
     "metadata": {},
     "output_type": "execute_result"
    }
   ],
   "source": [
    "serie_name_age.size"
   ]
  },
  {
   "cell_type": "code",
   "execution_count": 90,
   "metadata": {},
   "outputs": [
    {
     "data": {
      "text/plain": [
       "36    898\n",
       "31    888\n",
       "34    886\n",
       "23    877\n",
       "35    876\n",
       "     ... \n",
       "83      6\n",
       "88      3\n",
       "85      3\n",
       "86      1\n",
       "87      1\n",
       "Name: count, Length: 73, dtype: int64"
      ]
     },
     "execution_count": 90,
     "metadata": {},
     "output_type": "execute_result"
    }
   ],
   "source": [
    "serie_name_age.value_counts()"
   ]
  },
  {
   "cell_type": "code",
   "execution_count": 91,
   "metadata": {},
   "outputs": [
    {
     "data": {
      "text/plain": [
       "36    0.027579\n",
       "31    0.027272\n",
       "34    0.027210\n",
       "23    0.026934\n",
       "35    0.026903\n",
       "        ...   \n",
       "83    0.000184\n",
       "88    0.000092\n",
       "85    0.000092\n",
       "86    0.000031\n",
       "87    0.000031\n",
       "Name: proportion, Length: 73, dtype: float64"
      ]
     },
     "execution_count": 91,
     "metadata": {},
     "output_type": "execute_result"
    }
   ],
   "source": [
    "# Porcentagem\n",
    "serie_name_age.value_counts(normalize=True, sort = True) # ordenando"
   ]
  },
  {
   "cell_type": "code",
   "execution_count": 92,
   "metadata": {},
   "outputs": [
    {
     "data": {
      "text/plain": [
       "(38.9, 46.2]      6163\n",
       "(31.6, 38.9]      6048\n",
       "(24.3, 31.6]      5890\n",
       "(16.926, 24.3]    5570\n",
       "(46.2, 53.5]      3967\n",
       "(53.5, 60.8]      2591\n",
       "(60.8, 68.1]      1595\n",
       "(68.1, 75.4]       496\n",
       "(75.4, 82.7]       174\n",
       "(82.7, 90.0]        67\n",
       "Name: count, dtype: int64"
      ]
     },
     "execution_count": 92,
     "metadata": {},
     "output_type": "execute_result"
    }
   ],
   "source": [
    "# Dividindo por faixas\n",
    "serie_name_age.value_counts(bins=10)"
   ]
  },
  {
   "cell_type": "markdown",
   "metadata": {},
   "source": [
    "### Filtragem"
   ]
  },
  {
   "cell_type": "code",
   "execution_count": 93,
   "metadata": {},
   "outputs": [
    {
     "data": {
      "text/plain": [
       "['Bahamas',\n",
       " 'Gana',\n",
       " 'Micronésia',\n",
       " 'Botsuana',\n",
       " 'Anguila',\n",
       " 'Guiné',\n",
       " 'Svalbard e Jan Mayen',\n",
       " 'Bahamas',\n",
       " 'Clipperton Island',\n",
       " 'Butão',\n",
       " 'Belize']"
      ]
     },
     "execution_count": 93,
     "metadata": {},
     "output_type": "execute_result"
    }
   ],
   "source": [
    "indices_paises = []\n",
    "for _ in range(len(serie_age)):\n",
    "    indices_paises.append(fake.country())\n",
    "\n",
    "indices_paises[0:11]"
   ]
  },
  {
   "cell_type": "code",
   "execution_count": 94,
   "metadata": {},
   "outputs": [
    {
     "data": {
      "text/plain": [
       "Bahamas       39\n",
       "Gana          50\n",
       "Micronésia    38\n",
       "Botsuana      53\n",
       "Anguila       28\n",
       "dtype: int64"
      ]
     },
     "execution_count": 94,
     "metadata": {},
     "output_type": "execute_result"
    }
   ],
   "source": [
    "serie_pais = pd.Series(serie_age.values, index=indices_paises)\n",
    "serie_pais.head()"
   ]
  },
  {
   "cell_type": "code",
   "execution_count": 95,
   "metadata": {},
   "outputs": [
    {
     "data": {
      "text/plain": [
       "Botsuana         53\n",
       "Bahamas          52\n",
       "Micronésia       54\n",
       "Eslovênia        59\n",
       "Jibuti           56\n",
       "                 ..\n",
       "Liechtenstein    72\n",
       "Domínica         65\n",
       "Senegal          53\n",
       "Guiné-Bissau     58\n",
       "Moldávia         52\n",
       "Length: 6460, dtype: int64"
      ]
     },
     "execution_count": 95,
     "metadata": {},
     "output_type": "execute_result"
    }
   ],
   "source": [
    "serie_pais.loc[serie_pais > 50]"
   ]
  },
  {
   "cell_type": "code",
   "execution_count": 96,
   "metadata": {},
   "outputs": [
    {
     "name": "stdout",
     "output_type": "stream",
     "text": [
      "Brasil    58\n",
      "Brasil    56\n",
      "Brasil    57\n",
      "Brasil    51\n",
      "Brasil    59\n",
      "Brasil    61\n",
      "Brasil    69\n",
      "Brasil    66\n",
      "Brasil    58\n",
      "Brasil    54\n",
      "Brasil    51\n",
      "Brasil    56\n",
      "Brasil    64\n",
      "Brasil    52\n",
      "Brasil    53\n",
      "Brasil    55\n",
      "Brasil    53\n",
      "Brasil    51\n",
      "Brasil    62\n",
      "Brasil    54\n",
      "Brasil    54\n",
      "Brasil    53\n",
      "Brasil    51\n",
      "Brasil    55\n",
      "Brasil    69\n",
      "Brasil    53\n",
      "Brasil    51\n",
      "Brasil    53\n",
      "Brasil    56\n",
      "Brasil    79\n",
      "Brasil    69\n",
      "Brasil    51\n",
      "Brasil    69\n",
      "Brasil    60\n",
      "dtype: int64\n",
      "34\n"
     ]
    }
   ],
   "source": [
    "print(serie_pais.loc[(serie_pais > 50) & (serie_pais.index == 'Brasil')])\n",
    "print(len(serie_pais.loc[(serie_pais > 50) & (serie_pais.index == 'Brasil')]))"
   ]
  },
  {
   "cell_type": "code",
   "execution_count": 97,
   "metadata": {},
   "outputs": [
    {
     "data": {
      "text/plain": [
       "array([False, False, False, ..., False, False, False], shape=(32561,))"
      ]
     },
     "execution_count": 97,
     "metadata": {},
     "output_type": "execute_result"
    }
   ],
   "source": [
    "serie_pais.index.isin([\"India\", \"Brasil\"])"
   ]
  },
  {
   "cell_type": "markdown",
   "metadata": {},
   "source": [
    "### Operações matemáticas"
   ]
  },
  {
   "cell_type": "code",
   "execution_count": 98,
   "metadata": {},
   "outputs": [
    {
     "data": {
      "text/plain": [
       "Bahamas         39\n",
       "Gana            50\n",
       "Micronésia      38\n",
       "Botsuana        53\n",
       "Anguila         28\n",
       "                ..\n",
       "Austrália       27\n",
       "Bermudas        40\n",
       "Guiné-Bissau    58\n",
       "São Marinho     22\n",
       "Moldávia        52\n",
       "Length: 32561, dtype: int64"
      ]
     },
     "execution_count": 98,
     "metadata": {},
     "output_type": "execute_result"
    }
   ],
   "source": [
    "serie_pais"
   ]
  },
  {
   "cell_type": "code",
   "execution_count": 99,
   "metadata": {},
   "outputs": [
    {
     "data": {
      "text/plain": [
       "Bahamas         41\n",
       "Gana            52\n",
       "Micronésia      40\n",
       "Botsuana        55\n",
       "Anguila         30\n",
       "                ..\n",
       "Austrália       29\n",
       "Bermudas        42\n",
       "Guiné-Bissau    60\n",
       "São Marinho     24\n",
       "Moldávia        54\n",
       "Length: 32561, dtype: int64"
      ]
     },
     "execution_count": 99,
     "metadata": {},
     "output_type": "execute_result"
    }
   ],
   "source": [
    "### Comando python\n",
    "serie_pais + 2"
   ]
  },
  {
   "cell_type": "code",
   "execution_count": 100,
   "metadata": {},
   "outputs": [
    {
     "data": {
      "text/plain": [
       "Bahamas         41\n",
       "Gana            52\n",
       "Micronésia      40\n",
       "Botsuana        55\n",
       "Anguila         30\n",
       "                ..\n",
       "Austrália       29\n",
       "Bermudas        42\n",
       "Guiné-Bissau    60\n",
       "São Marinho     24\n",
       "Moldávia        54\n",
       "Length: 32561, dtype: int64"
      ]
     },
     "execution_count": 100,
     "metadata": {},
     "output_type": "execute_result"
    }
   ],
   "source": [
    "### Comando pandas\n",
    "serie_pais.add(2)"
   ]
  },
  {
   "cell_type": "code",
   "execution_count": 101,
   "metadata": {},
   "outputs": [
    {
     "data": {
      "text/plain": [
       "Bahamas         37\n",
       "Gana            48\n",
       "Micronésia      36\n",
       "Botsuana        51\n",
       "Anguila         26\n",
       "                ..\n",
       "Austrália       25\n",
       "Bermudas        38\n",
       "Guiné-Bissau    56\n",
       "São Marinho     20\n",
       "Moldávia        50\n",
       "Length: 32561, dtype: int64"
      ]
     },
     "execution_count": 101,
     "metadata": {},
     "output_type": "execute_result"
    }
   ],
   "source": [
    "serie_pais.sub(2)"
   ]
  },
  {
   "cell_type": "code",
   "execution_count": 102,
   "metadata": {},
   "outputs": [
    {
     "data": {
      "text/plain": [
       "Bahamas          78\n",
       "Gana            100\n",
       "Micronésia       76\n",
       "Botsuana        106\n",
       "Anguila          56\n",
       "               ... \n",
       "Austrália        54\n",
       "Bermudas         80\n",
       "Guiné-Bissau    116\n",
       "São Marinho      44\n",
       "Moldávia        104\n",
       "Length: 32561, dtype: int64"
      ]
     },
     "execution_count": 102,
     "metadata": {},
     "output_type": "execute_result"
    }
   ],
   "source": [
    "serie_pais.mul(2)"
   ]
  },
  {
   "cell_type": "code",
   "execution_count": 103,
   "metadata": {},
   "outputs": [
    {
     "data": {
      "text/plain": [
       "Bahamas         19.5\n",
       "Gana            25.0\n",
       "Micronésia      19.0\n",
       "Botsuana        26.5\n",
       "Anguila         14.0\n",
       "                ... \n",
       "Austrália       13.5\n",
       "Bermudas        20.0\n",
       "Guiné-Bissau    29.0\n",
       "São Marinho     11.0\n",
       "Moldávia        26.0\n",
       "Length: 32561, dtype: float64"
      ]
     },
     "execution_count": 103,
     "metadata": {},
     "output_type": "execute_result"
    }
   ],
   "source": [
    "serie_pais.div(2)"
   ]
  },
  {
   "cell_type": "code",
   "execution_count": 104,
   "metadata": {},
   "outputs": [
    {
     "data": {
      "text/plain": [
       "(0    10\n",
       " 1    20\n",
       " 2    30\n",
       " dtype: int64,\n",
       " 0    1\n",
       " 1    2\n",
       " 2    3\n",
       " dtype: int64)"
      ]
     },
     "execution_count": 104,
     "metadata": {},
     "output_type": "execute_result"
    }
   ],
   "source": [
    "s1 = pd.Series([10, 20, 30])\n",
    "s2 = pd.Series([1, 2, 3])\n",
    "s1, s2"
   ]
  },
  {
   "cell_type": "code",
   "execution_count": 106,
   "metadata": {},
   "outputs": [
    {
     "data": {
      "text/plain": [
       "0    11\n",
       "1    22\n",
       "2    33\n",
       "dtype: int64"
      ]
     },
     "execution_count": 106,
     "metadata": {},
     "output_type": "execute_result"
    }
   ],
   "source": [
    "s1.add(s2)"
   ]
  },
  {
   "cell_type": "code",
   "execution_count": 107,
   "metadata": {},
   "outputs": [
    {
     "data": {
      "text/plain": [
       "0     9\n",
       "1    18\n",
       "2    27\n",
       "dtype: int64"
      ]
     },
     "execution_count": 107,
     "metadata": {},
     "output_type": "execute_result"
    }
   ],
   "source": [
    "s1.sub(s2)"
   ]
  },
  {
   "cell_type": "code",
   "execution_count": 108,
   "metadata": {},
   "outputs": [
    {
     "data": {
      "text/plain": [
       "0    20\n",
       "1    40\n",
       "2    60\n",
       "dtype: int64"
      ]
     },
     "execution_count": 108,
     "metadata": {},
     "output_type": "execute_result"
    }
   ],
   "source": [
    "s1.mul(2)"
   ]
  },
  {
   "cell_type": "code",
   "execution_count": 109,
   "metadata": {},
   "outputs": [
    {
     "data": {
      "text/plain": [
       "0     5.0\n",
       "1    10.0\n",
       "2    15.0\n",
       "dtype: float64"
      ]
     },
     "execution_count": 109,
     "metadata": {},
     "output_type": "execute_result"
    }
   ],
   "source": [
    "s1.div(2)"
   ]
  },
  {
   "cell_type": "code",
   "execution_count": null,
   "metadata": {},
   "outputs": [],
   "source": []
  }
 ],
 "metadata": {
  "kernelspec": {
   "display_name": ".venv",
   "language": "python",
   "name": "python3"
  },
  "language_info": {
   "codemirror_mode": {
    "name": "ipython",
    "version": 3
   },
   "file_extension": ".py",
   "mimetype": "text/x-python",
   "name": "python",
   "nbconvert_exporter": "python",
   "pygments_lexer": "ipython3",
   "version": "3.13.0"
  }
 },
 "nbformat": 4,
 "nbformat_minor": 2
}
