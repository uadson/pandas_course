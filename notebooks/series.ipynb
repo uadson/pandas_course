{
 "cells": [
  {
   "cell_type": "markdown",
   "metadata": {},
   "source": [
    "### Imports"
   ]
  },
  {
   "cell_type": "code",
   "execution_count": 340,
   "metadata": {},
   "outputs": [],
   "source": [
    "import pandas as pd\n",
    "import numpy as np\n",
    "import random\n",
    "from string import ascii_uppercase\n",
    "import os\n",
    "from faker import Faker"
   ]
  },
  {
   "cell_type": "markdown",
   "metadata": {},
   "source": [
    "### Series creation"
   ]
  },
  {
   "cell_type": "code",
   "execution_count": 341,
   "metadata": {},
   "outputs": [
    {
     "name": "stdout",
     "output_type": "stream",
     "text": [
      "[10, 20, 30, 40, 50, 60, 70, 80, 90, 100]\n"
     ]
    }
   ],
   "source": [
    "data = [num for num in range(10, 110, 10)]\n",
    "print(data)"
   ]
  },
  {
   "cell_type": "code",
   "execution_count": 342,
   "metadata": {},
   "outputs": [
    {
     "name": "stdout",
     "output_type": "stream",
     "text": [
      "0     10\n",
      "1     20\n",
      "2     30\n",
      "3     40\n",
      "4     50\n",
      "5     60\n",
      "6     70\n",
      "7     80\n",
      "8     90\n",
      "9    100\n",
      "dtype: int64\n"
     ]
    }
   ],
   "source": [
    "data_serie = pd.Series(data)\n",
    "print(data_serie)"
   ]
  },
  {
   "cell_type": "code",
   "execution_count": 343,
   "metadata": {},
   "outputs": [
    {
     "name": "stdout",
     "output_type": "stream",
     "text": [
      "<class 'pandas.core.series.Series'>\n"
     ]
    }
   ],
   "source": [
    "print(type(data_serie))"
   ]
  },
  {
   "cell_type": "code",
   "execution_count": 344,
   "metadata": {},
   "outputs": [
    {
     "name": "stdout",
     "output_type": "stream",
     "text": [
      "<class 'list'>\n",
      "A    10\n",
      "B    20\n",
      "C    30\n",
      "D    40\n",
      "E    50\n",
      "dtype: int64\n"
     ]
    }
   ],
   "source": [
    "int_array = [num for num in range(10, 60, 10)]\n",
    "print(type(int_array))\n",
    "indexes = ['A B C D E'.split(' ')]\n",
    "data_series = pd.Series(int_array, indexes)\n",
    "print(data_series)"
   ]
  },
  {
   "cell_type": "code",
   "execution_count": 345,
   "metadata": {},
   "outputs": [
    {
     "name": "stdout",
     "output_type": "stream",
     "text": [
      "[10 20 30 40 50]\n",
      "<class 'numpy.ndarray'>\n"
     ]
    }
   ],
   "source": [
    "np_array = np.array(int_array)\n",
    "print(np_array)\n",
    "print(type(np_array))"
   ]
  },
  {
   "cell_type": "code",
   "execution_count": 346,
   "metadata": {},
   "outputs": [
    {
     "name": "stdout",
     "output_type": "stream",
     "text": [
      "0    10\n",
      "1    20\n",
      "2    30\n",
      "3    40\n",
      "4    50\n",
      "dtype: int64\n"
     ]
    }
   ],
   "source": [
    "data_series = pd.Series(np_array)\n",
    "print(data_series)"
   ]
  },
  {
   "cell_type": "code",
   "execution_count": 347,
   "metadata": {},
   "outputs": [
    {
     "name": "stdout",
     "output_type": "stream",
     "text": [
      "Lines: (5,)\n",
      "Dimension: 1\n",
      "Size: 5\n"
     ]
    }
   ],
   "source": [
    "print(f\"Lines: {data_series.shape}\")\n",
    "print(f'Dimension: {data_series.ndim}')\n",
    "print(f'Size: {data_series.size}')"
   ]
  },
  {
   "cell_type": "code",
   "execution_count": 348,
   "metadata": {},
   "outputs": [
    {
     "name": "stdout",
     "output_type": "stream",
     "text": [
      "K    10\n",
      "V    20\n",
      "D    30\n",
      "R    40\n",
      "Z    50\n",
      "dtype: int64\n"
     ]
    }
   ],
   "source": [
    "data_series.index = [random.choice(ascii_uppercase) for _ in range(5)]\n",
    "print(data_series)"
   ]
  },
  {
   "cell_type": "code",
   "execution_count": 349,
   "metadata": {},
   "outputs": [
    {
     "name": "stdout",
     "output_type": "stream",
     "text": [
      "Values: [0.3274333  0.50488361 0.03222258 0.95845526 0.0082483  0.87273124\n",
      " 0.25247963 0.45962126 0.33102696 0.28826494]\n",
      "Indexes: [0 1 2 3 4 5 6 7 8 9]\n",
      "0    0.327433\n",
      "1    0.504884\n",
      "2    0.032223\n",
      "3    0.958455\n",
      "4    0.008248\n",
      "5    0.872731\n",
      "6    0.252480\n",
      "7    0.459621\n",
      "8    0.331027\n",
      "9    0.288265\n",
      "dtype: float64\n"
     ]
    }
   ],
   "source": [
    "values = np.random.random(10)\n",
    "indexes = np.arange(0, 10)\n",
    "\n",
    "print(f'Values: {values}')\n",
    "print(f'Indexes: {indexes}')\n",
    "\n",
    "data_series = pd.Series(values, indexes)\n",
    "\n",
    "print(data_series)"
   ]
  },
  {
   "cell_type": "code",
   "execution_count": 350,
   "metadata": {},
   "outputs": [
    {
     "name": "stdout",
     "output_type": "stream",
     "text": [
      "{'R': 1, 'D': 5, 'M': 10, 'U': 10, 'T': 1}\n",
      "R     1\n",
      "D     5\n",
      "M    10\n",
      "U    10\n",
      "T     1\n",
      "dtype: int64\n"
     ]
    }
   ],
   "source": [
    "dict_data = {random.choice(ascii_uppercase):random.randint(1, 10) for _ in range(5)}\n",
    "\n",
    "print(dict_data)\n",
    "\n",
    "data_series = pd.Series(dict_data)\n",
    "\n",
    "print(data_series)"
   ]
  },
  {
   "cell_type": "markdown",
   "metadata": {},
   "source": [
    "### Slicing"
   ]
  },
  {
   "cell_type": "code",
   "execution_count": 351,
   "metadata": {},
   "outputs": [
    {
     "name": "stdout",
     "output_type": "stream",
     "text": [
      "0    0.667298\n",
      "1    0.557160\n",
      "2    0.173417\n",
      "3    0.589933\n",
      "4    0.372122\n",
      "5    0.944333\n",
      "6    0.419220\n",
      "7    0.076310\n",
      "8    0.053263\n",
      "9    0.632059\n",
      "dtype: float64\n"
     ]
    }
   ],
   "source": [
    "data_serie = pd.Series(data=np.random.random(10))\n",
    "\n",
    "print(data_serie)"
   ]
  },
  {
   "cell_type": "code",
   "execution_count": 352,
   "metadata": {},
   "outputs": [
    {
     "data": {
      "text/plain": [
       "0    0.667298\n",
       "1    0.557160\n",
       "2    0.173417\n",
       "3    0.589933\n",
       "4    0.372122\n",
       "5    0.944333\n",
       "6    0.419220\n",
       "7    0.076310\n",
       "8    0.053263\n",
       "9    0.632059\n",
       "dtype: float64"
      ]
     },
     "execution_count": 352,
     "metadata": {},
     "output_type": "execute_result"
    }
   ],
   "source": [
    "data_serie[:]"
   ]
  },
  {
   "cell_type": "code",
   "execution_count": 353,
   "metadata": {},
   "outputs": [
    {
     "data": {
      "text/plain": [
       "9    0.632059\n",
       "dtype: float64"
      ]
     },
     "execution_count": 353,
     "metadata": {},
     "output_type": "execute_result"
    }
   ],
   "source": [
    "data_serie[-1::]"
   ]
  },
  {
   "cell_type": "code",
   "execution_count": 354,
   "metadata": {},
   "outputs": [
    {
     "data": {
      "text/plain": [
       "9    0.632059\n",
       "dtype: float64"
      ]
     },
     "execution_count": 354,
     "metadata": {},
     "output_type": "execute_result"
    }
   ],
   "source": [
    "data_serie[-1:]"
   ]
  },
  {
   "cell_type": "markdown",
   "metadata": {},
   "source": [
    "### Copying, converting and concatenating"
   ]
  },
  {
   "cell_type": "code",
   "execution_count": 355,
   "metadata": {},
   "outputs": [],
   "source": [
    "# Copy\n",
    "data_serie2 = data_serie.copy()"
   ]
  },
  {
   "cell_type": "code",
   "execution_count": 356,
   "metadata": {},
   "outputs": [
    {
     "data": {
      "text/plain": [
       "0    0.667298\n",
       "1    0.557160\n",
       "2    0.173417\n",
       "3    0.589933\n",
       "4    0.372122\n",
       "5    0.944333\n",
       "6    0.419220\n",
       "7    0.076310\n",
       "8    0.053263\n",
       "9    0.632059\n",
       "dtype: float64"
      ]
     },
     "execution_count": 356,
     "metadata": {},
     "output_type": "execute_result"
    }
   ],
   "source": [
    "data_serie2"
   ]
  },
  {
   "cell_type": "code",
   "execution_count": 357,
   "metadata": {},
   "outputs": [
    {
     "data": {
      "text/plain": [
       "dtype('float64')"
      ]
     },
     "execution_count": 357,
     "metadata": {},
     "output_type": "execute_result"
    }
   ],
   "source": [
    "# Convert from float\n",
    "data_serie2.dtype"
   ]
  },
  {
   "cell_type": "code",
   "execution_count": 358,
   "metadata": {},
   "outputs": [
    {
     "data": {
      "text/plain": [
       "0    0\n",
       "1    0\n",
       "2    0\n",
       "3    0\n",
       "4    0\n",
       "5    0\n",
       "6    0\n",
       "7    0\n",
       "8    0\n",
       "9    0\n",
       "dtype: int64"
      ]
     },
     "execution_count": 358,
     "metadata": {},
     "output_type": "execute_result"
    }
   ],
   "source": [
    "# To int\n",
    "data_serie3 = data_serie2.astype(int)\n",
    "data_serie3"
   ]
  },
  {
   "cell_type": "code",
   "execution_count": 359,
   "metadata": {},
   "outputs": [],
   "source": [
    "# Concat\n",
    "\n",
    "# Two dicts\n",
    "dic1 = {'João': 22, 'Alice': 34, 'Gustavo': 29, 'Pedro': 21}\n",
    "dic2 = {'Gustavo': 17, 'Alana': 30}\n",
    "\n",
    "# for to Series\n",
    "data_serie4 = pd.Series(data=dic1)\n",
    "data_serie5 = pd.Series(data=dic2)\n"
   ]
  },
  {
   "cell_type": "code",
   "execution_count": 360,
   "metadata": {},
   "outputs": [
    {
     "data": {
      "text/plain": [
       "João       22\n",
       "Alice      34\n",
       "Gustavo    29\n",
       "Pedro      21\n",
       "Gustavo    17\n",
       "Alana      30\n",
       "dtype: int64"
      ]
     },
     "execution_count": 360,
     "metadata": {},
     "output_type": "execute_result"
    }
   ],
   "source": [
    "# Concat two series\n",
    "data_serie6 = pd.concat([data_serie4, data_serie5])\n",
    "data_serie6"
   ]
  },
  {
   "cell_type": "markdown",
   "metadata": {},
   "source": [
    "### Acesso aos dados com iLoc\n",
    " - Acessar elementos pelo índice"
   ]
  },
  {
   "cell_type": "code",
   "execution_count": 361,
   "metadata": {},
   "outputs": [],
   "source": [
    "filename = 'census.csv'\n",
    "dataset = pd.read_csv(f\"{os.path.join(os.path.dirname(os.getcwd()), 'data', filename)}\")"
   ]
  },
  {
   "cell_type": "code",
   "execution_count": 362,
   "metadata": {},
   "outputs": [
    {
     "name": "stdout",
     "output_type": "stream",
     "text": [
      "<class 'pandas.core.frame.DataFrame'>\n"
     ]
    }
   ],
   "source": [
    "print(type(dataset))"
   ]
  },
  {
   "cell_type": "code",
   "execution_count": 363,
   "metadata": {},
   "outputs": [
    {
     "data": {
      "text/html": [
       "<div>\n",
       "<style scoped>\n",
       "    .dataframe tbody tr th:only-of-type {\n",
       "        vertical-align: middle;\n",
       "    }\n",
       "\n",
       "    .dataframe tbody tr th {\n",
       "        vertical-align: top;\n",
       "    }\n",
       "\n",
       "    .dataframe thead th {\n",
       "        text-align: right;\n",
       "    }\n",
       "</style>\n",
       "<table border=\"1\" class=\"dataframe\">\n",
       "  <thead>\n",
       "    <tr style=\"text-align: right;\">\n",
       "      <th></th>\n",
       "      <th>age</th>\n",
       "      <th>workclass</th>\n",
       "      <th>final-weight</th>\n",
       "      <th>education</th>\n",
       "      <th>education-num</th>\n",
       "      <th>marital-status</th>\n",
       "      <th>occupation</th>\n",
       "      <th>relationship</th>\n",
       "      <th>race</th>\n",
       "      <th>sex</th>\n",
       "      <th>capital-gain</th>\n",
       "      <th>capital-loos</th>\n",
       "      <th>hour-per-week</th>\n",
       "      <th>native-country</th>\n",
       "      <th>income</th>\n",
       "    </tr>\n",
       "  </thead>\n",
       "  <tbody>\n",
       "    <tr>\n",
       "      <th>0</th>\n",
       "      <td>39</td>\n",
       "      <td>State-gov</td>\n",
       "      <td>77516</td>\n",
       "      <td>Bachelors</td>\n",
       "      <td>13</td>\n",
       "      <td>Never-married</td>\n",
       "      <td>Adm-clerical</td>\n",
       "      <td>Not-in-family</td>\n",
       "      <td>White</td>\n",
       "      <td>Male</td>\n",
       "      <td>2174</td>\n",
       "      <td>0</td>\n",
       "      <td>40</td>\n",
       "      <td>United-States</td>\n",
       "      <td>&lt;=50K</td>\n",
       "    </tr>\n",
       "    <tr>\n",
       "      <th>1</th>\n",
       "      <td>50</td>\n",
       "      <td>Self-emp-not-inc</td>\n",
       "      <td>83311</td>\n",
       "      <td>Bachelors</td>\n",
       "      <td>13</td>\n",
       "      <td>Married-civ-spouse</td>\n",
       "      <td>Exec-managerial</td>\n",
       "      <td>Husband</td>\n",
       "      <td>White</td>\n",
       "      <td>Male</td>\n",
       "      <td>0</td>\n",
       "      <td>0</td>\n",
       "      <td>13</td>\n",
       "      <td>United-States</td>\n",
       "      <td>&lt;=50K</td>\n",
       "    </tr>\n",
       "    <tr>\n",
       "      <th>2</th>\n",
       "      <td>38</td>\n",
       "      <td>Private</td>\n",
       "      <td>215646</td>\n",
       "      <td>HS-grad</td>\n",
       "      <td>9</td>\n",
       "      <td>Divorced</td>\n",
       "      <td>Handlers-cleaners</td>\n",
       "      <td>Not-in-family</td>\n",
       "      <td>White</td>\n",
       "      <td>Male</td>\n",
       "      <td>0</td>\n",
       "      <td>0</td>\n",
       "      <td>40</td>\n",
       "      <td>United-States</td>\n",
       "      <td>&lt;=50K</td>\n",
       "    </tr>\n",
       "    <tr>\n",
       "      <th>3</th>\n",
       "      <td>53</td>\n",
       "      <td>Private</td>\n",
       "      <td>234721</td>\n",
       "      <td>11th</td>\n",
       "      <td>7</td>\n",
       "      <td>Married-civ-spouse</td>\n",
       "      <td>Handlers-cleaners</td>\n",
       "      <td>Husband</td>\n",
       "      <td>Black</td>\n",
       "      <td>Male</td>\n",
       "      <td>0</td>\n",
       "      <td>0</td>\n",
       "      <td>40</td>\n",
       "      <td>United-States</td>\n",
       "      <td>&lt;=50K</td>\n",
       "    </tr>\n",
       "    <tr>\n",
       "      <th>4</th>\n",
       "      <td>28</td>\n",
       "      <td>Private</td>\n",
       "      <td>338409</td>\n",
       "      <td>Bachelors</td>\n",
       "      <td>13</td>\n",
       "      <td>Married-civ-spouse</td>\n",
       "      <td>Prof-specialty</td>\n",
       "      <td>Wife</td>\n",
       "      <td>Black</td>\n",
       "      <td>Female</td>\n",
       "      <td>0</td>\n",
       "      <td>0</td>\n",
       "      <td>40</td>\n",
       "      <td>Cuba</td>\n",
       "      <td>&lt;=50K</td>\n",
       "    </tr>\n",
       "  </tbody>\n",
       "</table>\n",
       "</div>"
      ],
      "text/plain": [
       "   age          workclass  final-weight   education  education-num  \\\n",
       "0   39          State-gov         77516   Bachelors             13   \n",
       "1   50   Self-emp-not-inc         83311   Bachelors             13   \n",
       "2   38            Private        215646     HS-grad              9   \n",
       "3   53            Private        234721        11th              7   \n",
       "4   28            Private        338409   Bachelors             13   \n",
       "\n",
       "        marital-status          occupation    relationship    race      sex  \\\n",
       "0        Never-married        Adm-clerical   Not-in-family   White     Male   \n",
       "1   Married-civ-spouse     Exec-managerial         Husband   White     Male   \n",
       "2             Divorced   Handlers-cleaners   Not-in-family   White     Male   \n",
       "3   Married-civ-spouse   Handlers-cleaners         Husband   Black     Male   \n",
       "4   Married-civ-spouse      Prof-specialty            Wife   Black   Female   \n",
       "\n",
       "   capital-gain  capital-loos  hour-per-week  native-country  income  \n",
       "0          2174             0             40   United-States   <=50K  \n",
       "1             0             0             13   United-States   <=50K  \n",
       "2             0             0             40   United-States   <=50K  \n",
       "3             0             0             40   United-States   <=50K  \n",
       "4             0             0             40            Cuba   <=50K  "
      ]
     },
     "execution_count": 363,
     "metadata": {},
     "output_type": "execute_result"
    }
   ],
   "source": [
    "dataset.head()"
   ]
  },
  {
   "cell_type": "code",
   "execution_count": 364,
   "metadata": {},
   "outputs": [
    {
     "name": "stdout",
     "output_type": "stream",
     "text": [
      "0        39\n",
      "1        50\n",
      "2        38\n",
      "3        53\n",
      "4        28\n",
      "         ..\n",
      "32556    27\n",
      "32557    40\n",
      "32558    58\n",
      "32559    22\n",
      "32560    52\n",
      "Name: age, Length: 32561, dtype: int64\n",
      "<class 'pandas.core.series.Series'>\n",
      "[39 50 38 ... 58 22 52] <class 'numpy.ndarray'>\n"
     ]
    }
   ],
   "source": [
    "serie_age = dataset['age']\n",
    "print(serie_age)\n",
    "print(type(serie_age))\n",
    "print(serie_age.values, type(serie_age.values))"
   ]
  },
  {
   "cell_type": "markdown",
   "metadata": {},
   "source": []
  },
  {
   "cell_type": "code",
   "execution_count": 365,
   "metadata": {},
   "outputs": [
    {
     "name": "stdout",
     "output_type": "stream",
     "text": [
      "39\n",
      "45\n",
      "52\n"
     ]
    }
   ],
   "source": [
    "print(serie_age.iloc[0])\n",
    "print(serie_age.iloc[32])\n",
    "print(serie_age.iloc[-1])"
   ]
  },
  {
   "cell_type": "code",
   "execution_count": 366,
   "metadata": {},
   "outputs": [
    {
     "name": "stdout",
     "output_type": "stream",
     "text": [
      "2    38\n",
      "3    53\n",
      "4    28\n",
      "5    37\n",
      "6    49\n",
      "7    52\n",
      "8    31\n",
      "9    42\n",
      "Name: age, dtype: int64\n"
     ]
    }
   ],
   "source": [
    "print(serie_age.iloc[2:10])"
   ]
  },
  {
   "cell_type": "code",
   "execution_count": 367,
   "metadata": {},
   "outputs": [
    {
     "name": "stdout",
     "output_type": "stream",
     "text": [
      "38\n",
      "53\n",
      "28\n",
      "37\n",
      "49\n",
      "52\n",
      "31\n",
      "42\n"
     ]
    }
   ],
   "source": [
    "for i in serie_age.iloc[2:10]:\n",
    "    print(i)"
   ]
  },
  {
   "cell_type": "code",
   "execution_count": 368,
   "metadata": {},
   "outputs": [
    {
     "data": {
      "text/plain": [
       "[False, False, True, False, False, False, False, False]"
      ]
     },
     "execution_count": 368,
     "metadata": {},
     "output_type": "execute_result"
    }
   ],
   "source": [
    "menor_que_30 = list(map(lambda value: value < 30, serie_age.iloc[2:10]))\n",
    "menor_que_30"
   ]
  },
  {
   "cell_type": "code",
   "execution_count": 369,
   "metadata": {},
   "outputs": [
    {
     "data": {
      "text/plain": [
       "2     38\n",
       "10    37\n",
       "18    38\n",
       "Name: age, dtype: int64"
      ]
     },
     "execution_count": 369,
     "metadata": {},
     "output_type": "execute_result"
    }
   ],
   "source": [
    "# Pesquisando por índices\n",
    "serie_age.iloc[[2,10,18]]"
   ]
  },
  {
   "cell_type": "code",
   "execution_count": 370,
   "metadata": {},
   "outputs": [],
   "source": [
    "ages_list = []\n",
    "\n",
    "for age in serie_age.items():\n",
    "    # print(age)\n",
    "    # print(f\"Indice: {age[0]} - Idade: {age[1]}\")\n",
    "    if age[1] < 30:\n",
    "        # salvando as idades\n",
    "        # ages_list.append(age[1])\n",
    "        # salvando os índices\n",
    "        ages_list.append(age[0])"
   ]
  },
  {
   "cell_type": "code",
   "execution_count": 371,
   "metadata": {},
   "outputs": [
    {
     "name": "stdout",
     "output_type": "stream",
     "text": [
      "9711\n"
     ]
    },
    {
     "data": {
      "text/plain": [
       "4        28\n",
       "12       23\n",
       "16       25\n",
       "26       19\n",
       "30       23\n",
       "         ..\n",
       "32529    29\n",
       "32535    22\n",
       "32555    22\n",
       "32556    27\n",
       "32559    22\n",
       "Name: age, Length: 9711, dtype: int64"
      ]
     },
     "execution_count": 371,
     "metadata": {},
     "output_type": "execute_result"
    }
   ],
   "source": [
    "print(len(ages_list))\n",
    "\n",
    "serie_age.iloc[ages_list]"
   ]
  },
  {
   "cell_type": "markdown",
   "metadata": {},
   "source": [
    "### Acessando os dados com Loc\n",
    "- Acessar elementos com \"string\""
   ]
  },
  {
   "cell_type": "code",
   "execution_count": 372,
   "metadata": {},
   "outputs": [
    {
     "name": "stdout",
     "output_type": "stream",
     "text": [
      "['Ágatha Vasconcelos', 'Dra. Letícia Moura', 'Dr. Arthur Miguel Porto', 'Carlos Eduardo Campos', 'João Pedro Peixoto', 'Srta. Maria Julia Sampaio', 'Bernardo Fogaça', 'Rebeca Araújo', 'Ana Clara Freitas', 'Bella Sales', 'Cauê Santos']\n"
     ]
    }
   ],
   "source": [
    "fake = Faker('pt-BR')\n",
    "\n",
    "indexes_name = []\n",
    "\n",
    "for _ in range(len(serie_age)):\n",
    "    indexes_name.append(fake.name())\n",
    "    \n",
    "print(indexes_name[0:11])"
   ]
  },
  {
   "cell_type": "code",
   "execution_count": 373,
   "metadata": {},
   "outputs": [
    {
     "data": {
      "text/plain": [
       "Ágatha Vasconcelos           39\n",
       "Dra. Letícia Moura           50\n",
       "Dr. Arthur Miguel Porto      38\n",
       "Carlos Eduardo Campos        53\n",
       "João Pedro Peixoto           28\n",
       "Srta. Maria Julia Sampaio    37\n",
       "Bernardo Fogaça              49\n",
       "Rebeca Araújo                52\n",
       "Ana Clara Freitas            31\n",
       "Bella Sales                  42\n",
       "Cauê Santos                  37\n",
       "dtype: int64"
      ]
     },
     "execution_count": 373,
     "metadata": {},
     "output_type": "execute_result"
    }
   ],
   "source": [
    "serie_name_age = pd.Series(serie_age.values, index=indexes_name)\n",
    "serie_name_age[0:11]"
   ]
  },
  {
   "cell_type": "code",
   "execution_count": 374,
   "metadata": {},
   "outputs": [
    {
     "data": {
      "text/plain": [
       "np.int64(45)"
      ]
     },
     "execution_count": 374,
     "metadata": {},
     "output_type": "execute_result"
    }
   ],
   "source": [
    "serie_name_age[\"Antony Costa\"]"
   ]
  },
  {
   "cell_type": "code",
   "execution_count": 375,
   "metadata": {},
   "outputs": [
    {
     "data": {
      "text/plain": [
       "73"
      ]
     },
     "execution_count": 375,
     "metadata": {},
     "output_type": "execute_result"
    }
   ],
   "source": [
    "serie_name_age_filter = serie_name_age.drop_duplicates()\n",
    "serie_name_age_filter.size"
   ]
  },
  {
   "cell_type": "code",
   "execution_count": 376,
   "metadata": {},
   "outputs": [
    {
     "data": {
      "text/plain": [
       "Ágatha Vasconcelos         39\n",
       "Dra. Letícia Moura         50\n",
       "Dr. Arthur Miguel Porto    38\n",
       "Carlos Eduardo Campos      53\n",
       "João Pedro Peixoto         28\n",
       "                           ..\n",
       "Milena Jesus               83\n",
       "Caio da Conceição          84\n",
       "José Miguel da Mota        85\n",
       "Léo Barros                 86\n",
       "Pedro Henrique Melo        87\n",
       "Length: 73, dtype: int64"
      ]
     },
     "execution_count": 376,
     "metadata": {},
     "output_type": "execute_result"
    }
   ],
   "source": [
    "serie_name_age_filter"
   ]
  },
  {
   "cell_type": "code",
   "execution_count": 377,
   "metadata": {},
   "outputs": [
    {
     "data": {
      "text/plain": [
       "'Ágatha Vasconcelos'"
      ]
     },
     "execution_count": 377,
     "metadata": {},
     "output_type": "execute_result"
    }
   ],
   "source": [
    "serie_name_age_filter.index[0]"
   ]
  },
  {
   "cell_type": "code",
   "execution_count": 378,
   "metadata": {},
   "outputs": [
    {
     "name": "stdout",
     "output_type": "stream",
     "text": [
      "Sem LOC\n",
      "Dra. Letícia Moura         50\n",
      "Dr. Arthur Miguel Porto    38\n",
      "dtype: int64\n",
      "\n",
      "Com LOC\n",
      "Ágatha Vasconcelos         39\n",
      "Dra. Letícia Moura         50\n",
      "Dr. Arthur Miguel Porto    38\n",
      "Carlos Eduardo Campos      53\n",
      "João Pedro Peixoto         28\n",
      "dtype: int64\n",
      "\n",
      "Lista\n",
      "Ágatha Vasconcelos         39\n",
      "Dra. Letícia Moura         50\n",
      "Dr. Arthur Miguel Porto    38\n",
      "Carlos Eduardo Campos      53\n",
      "João Pedro Peixoto         28\n",
      "dtype: int64\n",
      "\n",
      "Tamanho\n",
      "2\n"
     ]
    }
   ],
   "source": [
    "print(\"Sem LOC\")\n",
    "print(serie_name_age_filter[1:3])\n",
    "print()\n",
    "print(\"Com LOC\")\n",
    "print(serie_name_age_filter.loc[serie_name_age_filter.index[0]:serie_name_age_filter.index[4]])\n",
    "print()\n",
    "print(\"Lista\")\n",
    "print(serie_name_age_filter.loc[serie_name_age_filter.index[0]:serie_name_age_filter.index[4]])\n",
    "print()\n",
    "print(\"Tamanho\")\n",
    "print(len(serie_name_age_filter[1:3]))"
   ]
  },
  {
   "cell_type": "code",
   "execution_count": 379,
   "metadata": {},
   "outputs": [
    {
     "data": {
      "text/plain": [
       "0     39\n",
       "1     50\n",
       "2     38\n",
       "3     53\n",
       "4     28\n",
       "      ..\n",
       "68    83\n",
       "69    84\n",
       "70    85\n",
       "71    86\n",
       "72    87\n",
       "Length: 73, dtype: int64"
      ]
     },
     "execution_count": 379,
     "metadata": {},
     "output_type": "execute_result"
    }
   ],
   "source": [
    "reset_index = serie_name_age_filter.copy()\n",
    "reset_index.reset_index(drop=True, inplace=True)\n",
    "reset_index"
   ]
  },
  {
   "cell_type": "code",
   "execution_count": 380,
   "metadata": {},
   "outputs": [
    {
     "data": {
      "text/plain": [
       "RangeIndex(start=0, stop=73, step=1)"
      ]
     },
     "execution_count": 380,
     "metadata": {},
     "output_type": "execute_result"
    }
   ],
   "source": [
    "reset_index.index"
   ]
  },
  {
   "cell_type": "markdown",
   "metadata": {},
   "source": [
    "### Ordenação"
   ]
  },
  {
   "cell_type": "code",
   "execution_count": 381,
   "metadata": {},
   "outputs": [
    {
     "data": {
      "text/plain": [
       "Daniela Pereira              17\n",
       "Dr. Ravi Lucca Sales         17\n",
       "Murilo Cassiano              17\n",
       "Esther Rios                  17\n",
       "Maria Cecília Albuquerque    17\n",
       "                             ..\n",
       "Mariane da Mota              90\n",
       "Dra. Maria Alice Novaes      90\n",
       "Pedro Lucas Farias           90\n",
       "João Miguel Machado          90\n",
       "Thiago Sá                    90\n",
       "Length: 32561, dtype: int64"
      ]
     },
     "execution_count": 381,
     "metadata": {},
     "output_type": "execute_result"
    }
   ],
   "source": [
    "# Ordenando idades em ordem crescente\n",
    "serie_name_age.sort_values()"
   ]
  },
  {
   "cell_type": "code",
   "execution_count": 382,
   "metadata": {},
   "outputs": [
    {
     "data": {
      "text/plain": [
       "Leandro Marques                90\n",
       "Yuri da Rocha                  90\n",
       "Dr. Nicolas Mendes             90\n",
       "Aurora Pimenta                 90\n",
       "Larissa Farias                 90\n",
       "                               ..\n",
       "Isabella Barbosa               17\n",
       "João Lucas Almeida             17\n",
       "Agatha das Neves               17\n",
       "Yasmin Martins                 17\n",
       "Gustavo Henrique Cavalcanti    17\n",
       "Length: 32561, dtype: int64"
      ]
     },
     "execution_count": 382,
     "metadata": {},
     "output_type": "execute_result"
    }
   ],
   "source": [
    "# Ordenando idades em ordem decrescente\n",
    "serie_name_age.sort_values(ascending=False)"
   ]
  },
  {
   "cell_type": "code",
   "execution_count": 383,
   "metadata": {},
   "outputs": [
    {
     "data": {
      "text/plain": [
       "Agatha Abreu          20\n",
       "Agatha Abreu          20\n",
       "Agatha Abreu          61\n",
       "Agatha Albuquerque    40\n",
       "Agatha Albuquerque    22\n",
       "                      ..\n",
       "Ísis da Costa         35\n",
       "Ísis da Cunha         54\n",
       "Ísis da Luz           45\n",
       "Ísis da Rocha         53\n",
       "Ísis da Rocha         27\n",
       "Length: 32561, dtype: int64"
      ]
     },
     "execution_count": 383,
     "metadata": {},
     "output_type": "execute_result"
    }
   ],
   "source": [
    "# Ordenando os índices em ordem crescente\n",
    "serie_name_age.sort_index()"
   ]
  },
  {
   "cell_type": "code",
   "execution_count": 384,
   "metadata": {},
   "outputs": [
    {
     "data": {
      "text/plain": [
       "Ísis da Rocha         53\n",
       "Ísis da Rocha         27\n",
       "Ísis da Luz           45\n",
       "Ísis da Cunha         54\n",
       "Ísis da Costa         35\n",
       "                      ..\n",
       "Agatha Albuquerque    22\n",
       "Agatha Albuquerque    40\n",
       "Agatha Abreu          20\n",
       "Agatha Abreu          20\n",
       "Agatha Abreu          61\n",
       "Length: 32561, dtype: int64"
      ]
     },
     "execution_count": 384,
     "metadata": {},
     "output_type": "execute_result"
    }
   ],
   "source": [
    "# Ordenando os índices em ordem decrescente\n",
    "serie_name_age.sort_index(ascending=False)"
   ]
  },
  {
   "cell_type": "code",
   "execution_count": 385,
   "metadata": {},
   "outputs": [
    {
     "data": {
      "text/plain": [
       "Leandro Marques         90\n",
       "Yuri da Rocha           90\n",
       "Dr. Nicolas Mendes      90\n",
       "Aurora Pimenta          90\n",
       "Larissa Farias          90\n",
       "Enzo Gabriel Andrade    90\n",
       "Mateus Câmara           90\n",
       "Enrico Ferreira         90\n",
       "Miguel Sales            90\n",
       "Mariane da Mota         90\n",
       "Maria Fernanda Melo     90\n",
       "dtype: int64"
      ]
     },
     "execution_count": 385,
     "metadata": {},
     "output_type": "execute_result"
    }
   ],
   "source": [
    "# Retornando as dez pessoas com a maior idade da série\n",
    "serie_name_age.sort_values(ascending=False).iloc[0:11]"
   ]
  },
  {
   "cell_type": "markdown",
   "metadata": {},
   "source": [
    "### Contagem"
   ]
  },
  {
   "cell_type": "code",
   "execution_count": 386,
   "metadata": {},
   "outputs": [
    {
     "data": {
      "text/plain": [
       "32561"
      ]
     },
     "execution_count": 386,
     "metadata": {},
     "output_type": "execute_result"
    }
   ],
   "source": [
    "serie_name_age.size"
   ]
  },
  {
   "cell_type": "code",
   "execution_count": 387,
   "metadata": {},
   "outputs": [
    {
     "data": {
      "text/plain": [
       "36    898\n",
       "31    888\n",
       "34    886\n",
       "23    877\n",
       "35    876\n",
       "     ... \n",
       "83      6\n",
       "88      3\n",
       "85      3\n",
       "86      1\n",
       "87      1\n",
       "Name: count, Length: 73, dtype: int64"
      ]
     },
     "execution_count": 387,
     "metadata": {},
     "output_type": "execute_result"
    }
   ],
   "source": [
    "serie_name_age.value_counts()"
   ]
  },
  {
   "cell_type": "code",
   "execution_count": 388,
   "metadata": {},
   "outputs": [
    {
     "data": {
      "text/plain": [
       "36    0.027579\n",
       "31    0.027272\n",
       "34    0.027210\n",
       "23    0.026934\n",
       "35    0.026903\n",
       "        ...   \n",
       "83    0.000184\n",
       "88    0.000092\n",
       "85    0.000092\n",
       "86    0.000031\n",
       "87    0.000031\n",
       "Name: proportion, Length: 73, dtype: float64"
      ]
     },
     "execution_count": 388,
     "metadata": {},
     "output_type": "execute_result"
    }
   ],
   "source": [
    "# Porcentagem\n",
    "serie_name_age.value_counts(normalize=True, sort = True) # ordenando"
   ]
  },
  {
   "cell_type": "code",
   "execution_count": 389,
   "metadata": {},
   "outputs": [
    {
     "data": {
      "text/plain": [
       "(38.9, 46.2]      6163\n",
       "(31.6, 38.9]      6048\n",
       "(24.3, 31.6]      5890\n",
       "(16.926, 24.3]    5570\n",
       "(46.2, 53.5]      3967\n",
       "(53.5, 60.8]      2591\n",
       "(60.8, 68.1]      1595\n",
       "(68.1, 75.4]       496\n",
       "(75.4, 82.7]       174\n",
       "(82.7, 90.0]        67\n",
       "Name: count, dtype: int64"
      ]
     },
     "execution_count": 389,
     "metadata": {},
     "output_type": "execute_result"
    }
   ],
   "source": [
    "# Dividindo por faixas\n",
    "serie_name_age.value_counts(bins=10)"
   ]
  },
  {
   "cell_type": "markdown",
   "metadata": {},
   "source": [
    "### Filtragem"
   ]
  },
  {
   "cell_type": "code",
   "execution_count": 390,
   "metadata": {},
   "outputs": [
    {
     "data": {
      "text/plain": [
       "['Guernsey',\n",
       " 'Geórgia do Sul e Sandwich do Sul',\n",
       " 'Suazilândia',\n",
       " 'Vaticano',\n",
       " 'Libéria',\n",
       " 'Timor Leste',\n",
       " 'Navassa Island',\n",
       " 'Israel',\n",
       " 'Guam',\n",
       " 'Coreia do Sul',\n",
       " 'Letônia']"
      ]
     },
     "execution_count": 390,
     "metadata": {},
     "output_type": "execute_result"
    }
   ],
   "source": [
    "indices_paises = []\n",
    "for _ in range(len(serie_age)):\n",
    "    indices_paises.append(fake.country())\n",
    "\n",
    "indices_paises[0:11]"
   ]
  },
  {
   "cell_type": "code",
   "execution_count": 391,
   "metadata": {},
   "outputs": [
    {
     "data": {
      "text/plain": [
       "Guernsey                            39\n",
       "Geórgia do Sul e Sandwich do Sul    50\n",
       "Suazilândia                         38\n",
       "Vaticano                            53\n",
       "Libéria                             28\n",
       "dtype: int64"
      ]
     },
     "execution_count": 391,
     "metadata": {},
     "output_type": "execute_result"
    }
   ],
   "source": [
    "serie_pais = pd.Series(serie_age.values, index=indices_paises)\n",
    "serie_pais.head()"
   ]
  },
  {
   "cell_type": "code",
   "execution_count": 392,
   "metadata": {},
   "outputs": [
    {
     "data": {
      "text/plain": [
       "Vaticano           53\n",
       "Israel             52\n",
       "Lesoto             54\n",
       "Congo-Kinshasa     59\n",
       "Alemanha           56\n",
       "                   ..\n",
       "Samoa Americana    72\n",
       "Taiwan             65\n",
       "Marrocos           53\n",
       "Suazilândia        58\n",
       "Moçambique         52\n",
       "Length: 6460, dtype: int64"
      ]
     },
     "execution_count": 392,
     "metadata": {},
     "output_type": "execute_result"
    }
   ],
   "source": [
    "serie_pais.loc[serie_pais > 50]"
   ]
  },
  {
   "cell_type": "code",
   "execution_count": 393,
   "metadata": {},
   "outputs": [
    {
     "name": "stdout",
     "output_type": "stream",
     "text": [
      "Brasil    52\n",
      "Brasil    53\n",
      "Brasil    61\n",
      "Brasil    57\n",
      "Brasil    56\n",
      "Brasil    61\n",
      "Brasil    70\n",
      "Brasil    51\n",
      "Brasil    56\n",
      "Brasil    78\n",
      "Brasil    55\n",
      "Brasil    58\n",
      "Brasil    58\n",
      "Brasil    68\n",
      "Brasil    61\n",
      "Brasil    62\n",
      "Brasil    68\n",
      "Brasil    55\n",
      "Brasil    51\n",
      "Brasil    57\n",
      "Brasil    63\n",
      "Brasil    51\n",
      "Brasil    65\n",
      "Brasil    56\n",
      "Brasil    61\n",
      "Brasil    62\n",
      "Brasil    66\n",
      "Brasil    55\n",
      "Brasil    72\n",
      "Brasil    51\n",
      "Brasil    51\n",
      "Brasil    63\n",
      "dtype: int64\n",
      "32\n"
     ]
    }
   ],
   "source": [
    "print(serie_pais.loc[(serie_pais > 50) & (serie_pais.index == 'Brasil')])\n",
    "print(len(serie_pais.loc[(serie_pais > 50) & (serie_pais.index == 'Brasil')]))"
   ]
  },
  {
   "cell_type": "code",
   "execution_count": 394,
   "metadata": {},
   "outputs": [
    {
     "data": {
      "text/plain": [
       "array([False, False, False, ..., False, False, False], shape=(32561,))"
      ]
     },
     "execution_count": 394,
     "metadata": {},
     "output_type": "execute_result"
    }
   ],
   "source": [
    "serie_pais.index.isin([\"India\", \"Brasil\"])"
   ]
  },
  {
   "cell_type": "markdown",
   "metadata": {},
   "source": [
    "### Operações matemáticas"
   ]
  },
  {
   "cell_type": "code",
   "execution_count": 395,
   "metadata": {},
   "outputs": [
    {
     "data": {
      "text/plain": [
       "Guernsey                            39\n",
       "Geórgia do Sul e Sandwich do Sul    50\n",
       "Suazilândia                         38\n",
       "Vaticano                            53\n",
       "Libéria                             28\n",
       "                                    ..\n",
       "Liechtenstein                       27\n",
       "Bósnia e Herzegovina                40\n",
       "Suazilândia                         58\n",
       "Guam                                22\n",
       "Moçambique                          52\n",
       "Length: 32561, dtype: int64"
      ]
     },
     "execution_count": 395,
     "metadata": {},
     "output_type": "execute_result"
    }
   ],
   "source": [
    "serie_pais"
   ]
  },
  {
   "cell_type": "code",
   "execution_count": 396,
   "metadata": {},
   "outputs": [
    {
     "data": {
      "text/plain": [
       "Guernsey                            41\n",
       "Geórgia do Sul e Sandwich do Sul    52\n",
       "Suazilândia                         40\n",
       "Vaticano                            55\n",
       "Libéria                             30\n",
       "                                    ..\n",
       "Liechtenstein                       29\n",
       "Bósnia e Herzegovina                42\n",
       "Suazilândia                         60\n",
       "Guam                                24\n",
       "Moçambique                          54\n",
       "Length: 32561, dtype: int64"
      ]
     },
     "execution_count": 396,
     "metadata": {},
     "output_type": "execute_result"
    }
   ],
   "source": [
    "### Comando python\n",
    "serie_pais + 2"
   ]
  },
  {
   "cell_type": "code",
   "execution_count": 397,
   "metadata": {},
   "outputs": [
    {
     "data": {
      "text/plain": [
       "Guernsey                            41\n",
       "Geórgia do Sul e Sandwich do Sul    52\n",
       "Suazilândia                         40\n",
       "Vaticano                            55\n",
       "Libéria                             30\n",
       "                                    ..\n",
       "Liechtenstein                       29\n",
       "Bósnia e Herzegovina                42\n",
       "Suazilândia                         60\n",
       "Guam                                24\n",
       "Moçambique                          54\n",
       "Length: 32561, dtype: int64"
      ]
     },
     "execution_count": 397,
     "metadata": {},
     "output_type": "execute_result"
    }
   ],
   "source": [
    "### Comando pandas\n",
    "serie_pais.add(2)"
   ]
  },
  {
   "cell_type": "code",
   "execution_count": 398,
   "metadata": {},
   "outputs": [
    {
     "data": {
      "text/plain": [
       "Guernsey                            37\n",
       "Geórgia do Sul e Sandwich do Sul    48\n",
       "Suazilândia                         36\n",
       "Vaticano                            51\n",
       "Libéria                             26\n",
       "                                    ..\n",
       "Liechtenstein                       25\n",
       "Bósnia e Herzegovina                38\n",
       "Suazilândia                         56\n",
       "Guam                                20\n",
       "Moçambique                          50\n",
       "Length: 32561, dtype: int64"
      ]
     },
     "execution_count": 398,
     "metadata": {},
     "output_type": "execute_result"
    }
   ],
   "source": [
    "serie_pais.sub(2)"
   ]
  },
  {
   "cell_type": "code",
   "execution_count": 399,
   "metadata": {},
   "outputs": [
    {
     "data": {
      "text/plain": [
       "Guernsey                             78\n",
       "Geórgia do Sul e Sandwich do Sul    100\n",
       "Suazilândia                          76\n",
       "Vaticano                            106\n",
       "Libéria                              56\n",
       "                                   ... \n",
       "Liechtenstein                        54\n",
       "Bósnia e Herzegovina                 80\n",
       "Suazilândia                         116\n",
       "Guam                                 44\n",
       "Moçambique                          104\n",
       "Length: 32561, dtype: int64"
      ]
     },
     "execution_count": 399,
     "metadata": {},
     "output_type": "execute_result"
    }
   ],
   "source": [
    "serie_pais.mul(2)"
   ]
  },
  {
   "cell_type": "code",
   "execution_count": 400,
   "metadata": {},
   "outputs": [
    {
     "data": {
      "text/plain": [
       "Guernsey                            19.5\n",
       "Geórgia do Sul e Sandwich do Sul    25.0\n",
       "Suazilândia                         19.0\n",
       "Vaticano                            26.5\n",
       "Libéria                             14.0\n",
       "                                    ... \n",
       "Liechtenstein                       13.5\n",
       "Bósnia e Herzegovina                20.0\n",
       "Suazilândia                         29.0\n",
       "Guam                                11.0\n",
       "Moçambique                          26.0\n",
       "Length: 32561, dtype: float64"
      ]
     },
     "execution_count": 400,
     "metadata": {},
     "output_type": "execute_result"
    }
   ],
   "source": [
    "serie_pais.div(2)"
   ]
  },
  {
   "cell_type": "code",
   "execution_count": 401,
   "metadata": {},
   "outputs": [
    {
     "data": {
      "text/plain": [
       "(0    10\n",
       " 1    20\n",
       " 2    30\n",
       " dtype: int64,\n",
       " 0    1\n",
       " 1    2\n",
       " 2    3\n",
       " dtype: int64)"
      ]
     },
     "execution_count": 401,
     "metadata": {},
     "output_type": "execute_result"
    }
   ],
   "source": [
    "s1 = pd.Series([10, 20, 30])\n",
    "s2 = pd.Series([1, 2, 3])\n",
    "s1, s2"
   ]
  },
  {
   "cell_type": "code",
   "execution_count": 402,
   "metadata": {},
   "outputs": [
    {
     "data": {
      "text/plain": [
       "0    11\n",
       "1    22\n",
       "2    33\n",
       "dtype: int64"
      ]
     },
     "execution_count": 402,
     "metadata": {},
     "output_type": "execute_result"
    }
   ],
   "source": [
    "s1.add(s2)"
   ]
  },
  {
   "cell_type": "code",
   "execution_count": 403,
   "metadata": {},
   "outputs": [
    {
     "data": {
      "text/plain": [
       "0     9\n",
       "1    18\n",
       "2    27\n",
       "dtype: int64"
      ]
     },
     "execution_count": 403,
     "metadata": {},
     "output_type": "execute_result"
    }
   ],
   "source": [
    "s1.sub(s2)"
   ]
  },
  {
   "cell_type": "code",
   "execution_count": 404,
   "metadata": {},
   "outputs": [
    {
     "data": {
      "text/plain": [
       "0    20\n",
       "1    40\n",
       "2    60\n",
       "dtype: int64"
      ]
     },
     "execution_count": 404,
     "metadata": {},
     "output_type": "execute_result"
    }
   ],
   "source": [
    "s1.mul(2)"
   ]
  },
  {
   "cell_type": "code",
   "execution_count": 405,
   "metadata": {},
   "outputs": [
    {
     "data": {
      "text/plain": [
       "0     5.0\n",
       "1    10.0\n",
       "2    15.0\n",
       "dtype: float64"
      ]
     },
     "execution_count": 405,
     "metadata": {},
     "output_type": "execute_result"
    }
   ],
   "source": [
    "s1.div(2)"
   ]
  },
  {
   "cell_type": "markdown",
   "metadata": {},
   "source": [
    "### Operações com String"
   ]
  },
  {
   "cell_type": "code",
   "execution_count": 406,
   "metadata": {},
   "outputs": [
    {
     "data": {
      "text/plain": [
       "0                                Guernsey\n",
       "1        Geórgia do Sul e Sandwich do Sul\n",
       "2                             Suazilândia\n",
       "3                                Vaticano\n",
       "4                                 Libéria\n",
       "                       ...               \n",
       "32556                       Liechtenstein\n",
       "32557                Bósnia e Herzegovina\n",
       "32558                         Suazilândia\n",
       "32559                                Guam\n",
       "32560                          Moçambique\n",
       "Length: 32561, dtype: object"
      ]
     },
     "execution_count": 406,
     "metadata": {},
     "output_type": "execute_result"
    }
   ],
   "source": [
    "serie_pais_index = serie_pais.index.to_series()\n",
    "serie_pais_index.reset_index(drop = True, inplace=True)\n",
    "serie_pais_index"
   ]
  },
  {
   "cell_type": "code",
   "execution_count": 407,
   "metadata": {},
   "outputs": [
    {
     "data": {
      "text/plain": [
       "0        False\n",
       "1        False\n",
       "2        False\n",
       "3        False\n",
       "4        False\n",
       "         ...  \n",
       "32556    False\n",
       "32557    False\n",
       "32558    False\n",
       "32559    False\n",
       "32560    False\n",
       "Length: 32561, dtype: bool"
      ]
     },
     "execution_count": 407,
     "metadata": {},
     "output_type": "execute_result"
    }
   ],
   "source": [
    "serie_pais_index.str.contains(\"ido\")"
   ]
  },
  {
   "cell_type": "code",
   "execution_count": 408,
   "metadata": {},
   "outputs": [
    {
     "data": {
      "text/plain": [
       "0                                GUERNSEY\n",
       "1        GEÓRGIA DO SUL E SANDWICH DO SUL\n",
       "2                             SUAZILÂNDIA\n",
       "3                                VATICANO\n",
       "4                                 LIBÉRIA\n",
       "                       ...               \n",
       "32556                       LIECHTENSTEIN\n",
       "32557                BÓSNIA E HERZEGOVINA\n",
       "32558                         SUAZILÂNDIA\n",
       "32559                                GUAM\n",
       "32560                          MOÇAMBIQUE\n",
       "Length: 32561, dtype: object"
      ]
     },
     "execution_count": 408,
     "metadata": {},
     "output_type": "execute_result"
    }
   ],
   "source": [
    "serie_pais_index.str.upper()"
   ]
  },
  {
   "cell_type": "code",
   "execution_count": 409,
   "metadata": {},
   "outputs": [
    {
     "data": {
      "text/plain": [
       "0                                guernsey\n",
       "1        geórgia do sul e sandwich do sul\n",
       "2                             suazilândia\n",
       "3                                vaticano\n",
       "4                                 libéria\n",
       "                       ...               \n",
       "32556                       liechtenstein\n",
       "32557                bósnia e herzegovina\n",
       "32558                         suazilândia\n",
       "32559                                guam\n",
       "32560                          moçambique\n",
       "Length: 32561, dtype: object"
      ]
     },
     "execution_count": 409,
     "metadata": {},
     "output_type": "execute_result"
    }
   ],
   "source": [
    "serie_pais_index.str.lower()"
   ]
  },
  {
   "cell_type": "code",
   "execution_count": 410,
   "metadata": {},
   "outputs": [
    {
     "data": {
      "text/plain": [
       "0                               Guernsey\n",
       "1        Geórgia do Sul e Sandwich do Su\n",
       "2                             Suazilândi\n",
       "3                               Vaticano\n",
       "4                                 Libéri\n",
       "                      ...               \n",
       "32556                      Liechtenstein\n",
       "32557                Bósnia e Herzegovin\n",
       "32558                         Suazilândi\n",
       "32559                               Guam\n",
       "32560                         Moçambique\n",
       "Length: 32561, dtype: object"
      ]
     },
     "execution_count": 410,
     "metadata": {},
     "output_type": "execute_result"
    }
   ],
   "source": [
    "serie_pais_index.str.strip(\"Ilhas\")"
   ]
  },
  {
   "cell_type": "code",
   "execution_count": 411,
   "metadata": {},
   "outputs": [
    {
     "data": {
      "text/html": [
       "<div>\n",
       "<style scoped>\n",
       "    .dataframe tbody tr th:only-of-type {\n",
       "        vertical-align: middle;\n",
       "    }\n",
       "\n",
       "    .dataframe tbody tr th {\n",
       "        vertical-align: top;\n",
       "    }\n",
       "\n",
       "    .dataframe thead th {\n",
       "        text-align: right;\n",
       "    }\n",
       "</style>\n",
       "<table border=\"1\" class=\"dataframe\">\n",
       "  <thead>\n",
       "    <tr style=\"text-align: right;\">\n",
       "      <th></th>\n",
       "      <th>0</th>\n",
       "      <th>1</th>\n",
       "      <th>2</th>\n",
       "      <th>3</th>\n",
       "      <th>4</th>\n",
       "      <th>5</th>\n",
       "      <th>6</th>\n",
       "    </tr>\n",
       "  </thead>\n",
       "  <tbody>\n",
       "    <tr>\n",
       "      <th>0</th>\n",
       "      <td>Guernsey</td>\n",
       "      <td>None</td>\n",
       "      <td>None</td>\n",
       "      <td>None</td>\n",
       "      <td>None</td>\n",
       "      <td>None</td>\n",
       "      <td>None</td>\n",
       "    </tr>\n",
       "    <tr>\n",
       "      <th>1</th>\n",
       "      <td>Geórgia</td>\n",
       "      <td>do</td>\n",
       "      <td>Sul</td>\n",
       "      <td>e</td>\n",
       "      <td>Sandwich</td>\n",
       "      <td>do</td>\n",
       "      <td>Sul</td>\n",
       "    </tr>\n",
       "    <tr>\n",
       "      <th>2</th>\n",
       "      <td>Suazilândia</td>\n",
       "      <td>None</td>\n",
       "      <td>None</td>\n",
       "      <td>None</td>\n",
       "      <td>None</td>\n",
       "      <td>None</td>\n",
       "      <td>None</td>\n",
       "    </tr>\n",
       "    <tr>\n",
       "      <th>3</th>\n",
       "      <td>Vaticano</td>\n",
       "      <td>None</td>\n",
       "      <td>None</td>\n",
       "      <td>None</td>\n",
       "      <td>None</td>\n",
       "      <td>None</td>\n",
       "      <td>None</td>\n",
       "    </tr>\n",
       "    <tr>\n",
       "      <th>4</th>\n",
       "      <td>Libéria</td>\n",
       "      <td>None</td>\n",
       "      <td>None</td>\n",
       "      <td>None</td>\n",
       "      <td>None</td>\n",
       "      <td>None</td>\n",
       "      <td>None</td>\n",
       "    </tr>\n",
       "    <tr>\n",
       "      <th>...</th>\n",
       "      <td>...</td>\n",
       "      <td>...</td>\n",
       "      <td>...</td>\n",
       "      <td>...</td>\n",
       "      <td>...</td>\n",
       "      <td>...</td>\n",
       "      <td>...</td>\n",
       "    </tr>\n",
       "    <tr>\n",
       "      <th>32556</th>\n",
       "      <td>Liechtenstein</td>\n",
       "      <td>None</td>\n",
       "      <td>None</td>\n",
       "      <td>None</td>\n",
       "      <td>None</td>\n",
       "      <td>None</td>\n",
       "      <td>None</td>\n",
       "    </tr>\n",
       "    <tr>\n",
       "      <th>32557</th>\n",
       "      <td>Bósnia</td>\n",
       "      <td>e</td>\n",
       "      <td>Herzegovina</td>\n",
       "      <td>None</td>\n",
       "      <td>None</td>\n",
       "      <td>None</td>\n",
       "      <td>None</td>\n",
       "    </tr>\n",
       "    <tr>\n",
       "      <th>32558</th>\n",
       "      <td>Suazilândia</td>\n",
       "      <td>None</td>\n",
       "      <td>None</td>\n",
       "      <td>None</td>\n",
       "      <td>None</td>\n",
       "      <td>None</td>\n",
       "      <td>None</td>\n",
       "    </tr>\n",
       "    <tr>\n",
       "      <th>32559</th>\n",
       "      <td>Guam</td>\n",
       "      <td>None</td>\n",
       "      <td>None</td>\n",
       "      <td>None</td>\n",
       "      <td>None</td>\n",
       "      <td>None</td>\n",
       "      <td>None</td>\n",
       "    </tr>\n",
       "    <tr>\n",
       "      <th>32560</th>\n",
       "      <td>Moçambique</td>\n",
       "      <td>None</td>\n",
       "      <td>None</td>\n",
       "      <td>None</td>\n",
       "      <td>None</td>\n",
       "      <td>None</td>\n",
       "      <td>None</td>\n",
       "    </tr>\n",
       "  </tbody>\n",
       "</table>\n",
       "<p>32561 rows × 7 columns</p>\n",
       "</div>"
      ],
      "text/plain": [
       "                   0     1            2     3         4     5     6\n",
       "0           Guernsey  None         None  None      None  None  None\n",
       "1            Geórgia    do          Sul     e  Sandwich    do   Sul\n",
       "2        Suazilândia  None         None  None      None  None  None\n",
       "3           Vaticano  None         None  None      None  None  None\n",
       "4            Libéria  None         None  None      None  None  None\n",
       "...              ...   ...          ...   ...       ...   ...   ...\n",
       "32556  Liechtenstein  None         None  None      None  None  None\n",
       "32557         Bósnia     e  Herzegovina  None      None  None  None\n",
       "32558    Suazilândia  None         None  None      None  None  None\n",
       "32559           Guam  None         None  None      None  None  None\n",
       "32560     Moçambique  None         None  None      None  None  None\n",
       "\n",
       "[32561 rows x 7 columns]"
      ]
     },
     "execution_count": 411,
     "metadata": {},
     "output_type": "execute_result"
    }
   ],
   "source": [
    "serie_pais_index.str.split(' ', expand=True)"
   ]
  },
  {
   "cell_type": "code",
   "execution_count": 412,
   "metadata": {},
   "outputs": [
    {
     "data": {
      "text/plain": [
       "0        Guern\n",
       "1        Geórg\n",
       "2        Suazi\n",
       "3        Vatic\n",
       "4        Libér\n",
       "         ...  \n",
       "32556    Liech\n",
       "32557    Bósni\n",
       "32558    Suazi\n",
       "32559     Guam\n",
       "32560    Moçam\n",
       "Length: 32561, dtype: object"
      ]
     },
     "execution_count": 412,
     "metadata": {},
     "output_type": "execute_result"
    }
   ],
   "source": [
    "serie_pais_index.str[0:5]"
   ]
  },
  {
   "cell_type": "markdown",
   "metadata": {},
   "source": [
    "### Agrupamento Numérico"
   ]
  },
  {
   "cell_type": "code",
   "execution_count": 413,
   "metadata": {},
   "outputs": [
    {
     "data": {
      "text/plain": [
       "Guernsey                            39\n",
       "Geórgia do Sul e Sandwich do Sul    50\n",
       "Suazilândia                         38\n",
       "Vaticano                            53\n",
       "Libéria                             28\n",
       "                                    ..\n",
       "Liechtenstein                       27\n",
       "Bósnia e Herzegovina                40\n",
       "Suazilândia                         58\n",
       "Guam                                22\n",
       "Moçambique                          52\n",
       "Length: 32561, dtype: int64"
      ]
     },
     "execution_count": 413,
     "metadata": {},
     "output_type": "execute_result"
    }
   ],
   "source": [
    "serie_pais"
   ]
  },
  {
   "cell_type": "code",
   "execution_count": 414,
   "metadata": {},
   "outputs": [
    {
     "data": {
      "text/plain": [
       "np.int64(1256257)"
      ]
     },
     "execution_count": 414,
     "metadata": {},
     "output_type": "execute_result"
    }
   ],
   "source": [
    "serie_pais.sum()"
   ]
  },
  {
   "cell_type": "code",
   "execution_count": 415,
   "metadata": {},
   "outputs": [
    {
     "data": {
      "text/plain": [
       "np.float64(38.58164675532078)"
      ]
     },
     "execution_count": 415,
     "metadata": {},
     "output_type": "execute_result"
    }
   ],
   "source": [
    "serie_pais.mean()"
   ]
  },
  {
   "cell_type": "code",
   "execution_count": 416,
   "metadata": {},
   "outputs": [
    {
     "data": {
      "text/plain": [
       "np.float64(37.0)"
      ]
     },
     "execution_count": 416,
     "metadata": {},
     "output_type": "execute_result"
    }
   ],
   "source": [
    "serie_pais.median()"
   ]
  },
  {
   "cell_type": "code",
   "execution_count": 417,
   "metadata": {},
   "outputs": [
    {
     "data": {
      "text/plain": [
       "np.int64(32561)"
      ]
     },
     "execution_count": 417,
     "metadata": {},
     "output_type": "execute_result"
    }
   ],
   "source": [
    "serie_pais.count()"
   ]
  },
  {
   "cell_type": "code",
   "execution_count": 418,
   "metadata": {},
   "outputs": [
    {
     "data": {
      "text/plain": [
       "np.float64(13.640432553581341)"
      ]
     },
     "execution_count": 418,
     "metadata": {},
     "output_type": "execute_result"
    }
   ],
   "source": [
    "serie_pais.std()"
   ]
  },
  {
   "cell_type": "code",
   "execution_count": 419,
   "metadata": {},
   "outputs": [
    {
     "data": {
      "text/plain": [
       "np.float64(186.0614002488016)"
      ]
     },
     "execution_count": 419,
     "metadata": {},
     "output_type": "execute_result"
    }
   ],
   "source": [
    "serie_pais.var()"
   ]
  },
  {
   "cell_type": "code",
   "execution_count": 420,
   "metadata": {},
   "outputs": [
    {
     "data": {
      "text/plain": [
       "np.float64(40.25373134328358)"
      ]
     },
     "execution_count": 420,
     "metadata": {},
     "output_type": "execute_result"
    }
   ],
   "source": [
    "serie_pais.loc[\"Brasil\"].mean()"
   ]
  },
  {
   "cell_type": "code",
   "execution_count": 421,
   "metadata": {},
   "outputs": [
    {
     "data": {
      "text/plain": [
       "np.float64(40.03703703703704)"
      ]
     },
     "execution_count": 421,
     "metadata": {},
     "output_type": "execute_result"
    }
   ],
   "source": [
    "serie_pais.loc[\"Índia\"].mean()"
   ]
  },
  {
   "cell_type": "code",
   "execution_count": 422,
   "metadata": {},
   "outputs": [
    {
     "data": {
      "text/plain": [
       "0.25    28.0\n",
       "0.50    37.0\n",
       "0.75    48.0\n",
       "1.00    90.0\n",
       "dtype: float64"
      ]
     },
     "execution_count": 422,
     "metadata": {},
     "output_type": "execute_result"
    }
   ],
   "source": [
    "serie_pais.quantile([0.25, 0.50, 0.75, 1])"
   ]
  },
  {
   "cell_type": "markdown",
   "metadata": {},
   "source": [
    "### Agrupamento Categórico"
   ]
  },
  {
   "cell_type": "code",
   "execution_count": 423,
   "metadata": {},
   "outputs": [
    {
     "data": {
      "text/plain": [
       "0                                Guernsey\n",
       "1        Geórgia do Sul e Sandwich do Sul\n",
       "2                             Suazilândia\n",
       "3                                Vaticano\n",
       "4                                 Libéria\n",
       "                       ...               \n",
       "32556                       Liechtenstein\n",
       "32557                Bósnia e Herzegovina\n",
       "32558                         Suazilândia\n",
       "32559                                Guam\n",
       "32560                          Moçambique\n",
       "Length: 32561, dtype: object"
      ]
     },
     "execution_count": 423,
     "metadata": {},
     "output_type": "execute_result"
    }
   ],
   "source": [
    "serie_pais_index"
   ]
  },
  {
   "cell_type": "code",
   "execution_count": 424,
   "metadata": {},
   "outputs": [
    {
     "data": {
      "text/plain": [
       "Costa Rica         269\n",
       "Egito              263\n",
       "Cuba               260\n",
       "Dinamarca          257\n",
       "Costa do Marfim    250\n",
       "                  ... \n",
       "Países Baixos      102\n",
       "Congo-Kinshasa     100\n",
       "Guiné               98\n",
       "Serra Leoa          97\n",
       "Bolívia             97\n",
       "Name: count, Length: 247, dtype: int64"
      ]
     },
     "execution_count": 424,
     "metadata": {},
     "output_type": "execute_result"
    }
   ],
   "source": [
    "serie_pais_index.value_counts()"
   ]
  },
  {
   "cell_type": "code",
   "execution_count": 425,
   "metadata": {},
   "outputs": [
    {
     "data": {
      "text/plain": [
       "Costa Rica         0.008261\n",
       "Egito              0.008077\n",
       "Cuba               0.007985\n",
       "Dinamarca          0.007893\n",
       "Costa do Marfim    0.007678\n",
       "                     ...   \n",
       "Países Baixos      0.003133\n",
       "Congo-Kinshasa     0.003071\n",
       "Guiné              0.003010\n",
       "Serra Leoa         0.002979\n",
       "Bolívia            0.002979\n",
       "Name: proportion, Length: 247, dtype: float64"
      ]
     },
     "execution_count": 425,
     "metadata": {},
     "output_type": "execute_result"
    }
   ],
   "source": [
    "serie_pais_index.value_counts(normalize=True)"
   ]
  },
  {
   "cell_type": "code",
   "execution_count": 426,
   "metadata": {},
   "outputs": [
    {
     "data": {
      "text/plain": [
       "array(['Guernsey', 'Geórgia do Sul e Sandwich do Sul', 'Suazilândia',\n",
       "       'Vaticano', 'Libéria', 'Timor Leste', 'Navassa Island', 'Israel',\n",
       "       'Guam', 'Coreia do Sul', 'Letônia', 'Dhekelia', 'Butão', 'Equador',\n",
       "       'Grécia', 'Albânia', 'Tuvalu', 'Brunei', 'Islândia', 'Lesoto',\n",
       "       'São Marinho', 'Antígua e Barbuda', 'Congo-Kinshasa', 'Alemanha',\n",
       "       'Bélgica', 'Nova Caledónia', 'Coreia do Norte', 'Ilhas Cook',\n",
       "       'Sudão', 'Moldávia', 'Seicheles', 'União Europeia', 'Monserrate',\n",
       "       'Noruega', 'Gâmbia', 'Ilhas dos Cocos', 'Kuwait', 'Liechtenstein',\n",
       "       'Níger', 'Jordânia', 'Suriname', 'Hong Kong', 'Trindade e Tobago',\n",
       "       'São Cristóvão e Neves', 'Salvador',\n",
       "       'Territórios Austrais Franceses', 'Zimbábue', 'Dinamarca',\n",
       "       'Clipperton Island', 'Antilhas Holandesas', 'Armênia', 'Catar',\n",
       "       'Maldivas', 'Jersey', 'Cazaquistão', 'Estados Unidos', 'China',\n",
       "       'Bermudas', 'Palau', 'Ilhas Caiman', 'Filipinas', 'Montenegro',\n",
       "       'Uganda', 'Canadá', 'Itália', 'Bangladesh', 'Ilhas Marshall',\n",
       "       'Polônia', 'Gana', 'Venezuela', 'Cabo Verde',\n",
       "       'Ilhas Virgens Britânicas', 'Coral Sea Islands', 'Portugal',\n",
       "       'Costa do Marfim', 'Chile', 'Ilhas Falkland', 'Paquistão', 'Benim',\n",
       "       'Somália', 'Irlanda', 'Eslovênia', 'Argélia', 'Áustria', 'Sérvia',\n",
       "       'Líbia', 'Antártica', 'Bahamas', 'Ilha de Man', 'Iêmen', 'Ucrânia',\n",
       "       'Namíbia', 'Haiti', 'França', 'Jamaica', 'Turquia', 'Ilha Bouvet',\n",
       "       'Ruanda', 'Iraque', 'Honduras', 'Papua-Nova Guiné', 'Mongólia',\n",
       "       'Quênia', 'Malásia', 'Mauritânia', 'Samoa', 'Vanuatu', 'Tokelau',\n",
       "       'Camarões', 'Aruba', 'São Pedro e Miquelon', 'Finlândia',\n",
       "       'Comores', 'Burquina Faso', 'Botsuana', 'Tanzânia', 'Cuba',\n",
       "       'Jan Mayen', 'Congo-Brazzaville', 'Guiana', 'Turquemenistão',\n",
       "       'Índia', 'Egito', 'Guiné', 'Camboja', 'Ilhas Salomão',\n",
       "       'Ilha Norfolk', 'Moçambique', 'Eritreia', 'Belize', 'Nepal',\n",
       "       'Nigéria', 'Paraguai', 'Roménia', 'Marianas do Norte', 'Croácia',\n",
       "       'Bulgária', 'Território Britânico do Oceano Índico',\n",
       "       'Samoa Americana', 'Nauru', 'Micronésia', 'Fiji', 'Akrotiri',\n",
       "       'Argentina', 'Domínica', 'São Tomé e Príncipe', 'Geórgia',\n",
       "       'África do Sul', 'Barbados', 'Quirguizistão', 'Guiné-Bissau',\n",
       "       'Ashmore and Cartier Islands', 'Hungria', 'Reino Unido', 'Peru',\n",
       "       'Luxemburgo', 'Usbequistão', 'Senegal', 'Macau', 'Brasil',\n",
       "       'Madagascar', 'Serra Leoa', 'Wallis e Futuna', 'Jibuti', 'Tonga',\n",
       "       'Vietnam', 'Guatemala', 'Ilhas Turcas e Caicos', 'Indonésia',\n",
       "       'Pitcairn', 'Mali', 'Porto Rico', 'Líbano', 'Quiribáti',\n",
       "       'Costa Rica', 'Togo', 'Anguila', 'Mônaco', 'Niue', 'Malta',\n",
       "       'Suécia', 'Arábia Saudita', 'República Checa', 'Rússia', 'Etiópia',\n",
       "       'Laos', 'Macedônia do Norte', 'Angola', 'Ilha Wake',\n",
       "       'Bielorrússia', 'Zâmbia', 'Groenlândia', 'Faroé', 'Iran',\n",
       "       'Afeganistão', 'Birmânia', 'Mayotte', 'Chipre',\n",
       "       'Ilhas Virgens Americanas', 'Paracel Islands', 'Lituânia',\n",
       "       'Austrália', 'Bósnia e Herzegovina', 'Ilhas Heard e McDonald',\n",
       "       'Gabão', 'Sara Ocidental', 'Azerbaijão',\n",
       "       'São Vicente e Granadinas', 'Granada', 'Tajiquistão', 'Tailândia',\n",
       "       'Uruguai', 'Estônia', 'República Dominicana', 'Polinésia Francesa',\n",
       "       'Marrocos', 'Nova Zelândia', 'México', 'Burundi', 'Taiwan',\n",
       "       'Chade', 'Santa Helena', 'Emirados Árabes Unidos', 'Eslováquia',\n",
       "       'Malávi', 'Sri Lanka', 'Nicarágua', 'Suíça', 'Andorra',\n",
       "       'Gibraltar', 'Santa Lúcia', 'República Centro-Africana',\n",
       "       'Maurícia', 'Svalbard e Jan Mayen', 'Síria', 'Guiné Equatorial',\n",
       "       'Barein', 'Omã', 'Singapura', 'Espanha', 'Japão', 'Bolívia',\n",
       "       'Colômbia', 'Tunísia', 'Ilha do Natal', 'Panamá', 'Países Baixos'],\n",
       "      dtype=object)"
      ]
     },
     "execution_count": 426,
     "metadata": {},
     "output_type": "execute_result"
    }
   ],
   "source": [
    "serie_pais_index.unique()"
   ]
  },
  {
   "cell_type": "code",
   "execution_count": 427,
   "metadata": {},
   "outputs": [
    {
     "data": {
      "text/plain": [
       "247"
      ]
     },
     "execution_count": 427,
     "metadata": {},
     "output_type": "execute_result"
    }
   ],
   "source": [
    "serie_pais_index.nunique()"
   ]
  },
  {
   "cell_type": "markdown",
   "metadata": {},
   "source": [
    "### Valores faltantes"
   ]
  },
  {
   "cell_type": "code",
   "execution_count": 428,
   "metadata": {},
   "outputs": [
    {
     "data": {
      "text/plain": [
       "0     1.0\n",
       "1     2.0\n",
       "2     3.0\n",
       "3     NaN\n",
       "4     5.0\n",
       "5     6.0\n",
       "6     NaN\n",
       "7     7.0\n",
       "8     8.0\n",
       "9     NaN\n",
       "10    NaN\n",
       "dtype: float64"
      ]
     },
     "execution_count": 428,
     "metadata": {},
     "output_type": "execute_result"
    }
   ],
   "source": [
    "serie_faltante = pd.Series([1, 2, 3, np.nan, 5, 6, np.nan, 7, 8, np.nan, np.nan])\n",
    "serie_faltante"
   ]
  },
  {
   "cell_type": "code",
   "execution_count": 429,
   "metadata": {},
   "outputs": [
    {
     "data": {
      "text/plain": [
       "0     False\n",
       "1     False\n",
       "2     False\n",
       "3      True\n",
       "4     False\n",
       "5     False\n",
       "6      True\n",
       "7     False\n",
       "8     False\n",
       "9      True\n",
       "10     True\n",
       "dtype: bool"
      ]
     },
     "execution_count": 429,
     "metadata": {},
     "output_type": "execute_result"
    }
   ],
   "source": [
    "serie_faltante.isna()"
   ]
  },
  {
   "cell_type": "code",
   "execution_count": 430,
   "metadata": {},
   "outputs": [
    {
     "data": {
      "text/plain": [
       "np.int64(4)"
      ]
     },
     "execution_count": 430,
     "metadata": {},
     "output_type": "execute_result"
    }
   ],
   "source": [
    "serie_faltante.isna().sum()"
   ]
  },
  {
   "cell_type": "code",
   "execution_count": 431,
   "metadata": {},
   "outputs": [
    {
     "data": {
      "text/plain": [
       "1.0    1\n",
       "2.0    1\n",
       "3.0    1\n",
       "5.0    1\n",
       "6.0    1\n",
       "7.0    1\n",
       "8.0    1\n",
       "Name: count, dtype: int64"
      ]
     },
     "execution_count": 431,
     "metadata": {},
     "output_type": "execute_result"
    }
   ],
   "source": [
    "serie_faltante.value_counts()"
   ]
  },
  {
   "cell_type": "code",
   "execution_count": 432,
   "metadata": {},
   "outputs": [
    {
     "data": {
      "text/plain": [
       "NaN    4\n",
       "1.0    1\n",
       "2.0    1\n",
       "3.0    1\n",
       "5.0    1\n",
       "6.0    1\n",
       "7.0    1\n",
       "8.0    1\n",
       "Name: count, dtype: int64"
      ]
     },
     "execution_count": 432,
     "metadata": {},
     "output_type": "execute_result"
    }
   ],
   "source": [
    "serie_faltante.value_counts(dropna=False)"
   ]
  },
  {
   "cell_type": "code",
   "execution_count": 433,
   "metadata": {},
   "outputs": [
    {
     "data": {
      "text/plain": [
       "0     1.0\n",
       "1     2.0\n",
       "2     3.0\n",
       "3     0.0\n",
       "4     5.0\n",
       "5     6.0\n",
       "6     0.0\n",
       "7     7.0\n",
       "8     8.0\n",
       "9     0.0\n",
       "10    0.0\n",
       "dtype: float64"
      ]
     },
     "execution_count": 433,
     "metadata": {},
     "output_type": "execute_result"
    }
   ],
   "source": [
    "serie_faltante.fillna(0)"
   ]
  },
  {
   "cell_type": "code",
   "execution_count": 434,
   "metadata": {},
   "outputs": [
    {
     "data": {
      "text/plain": [
       "0    1.0\n",
       "1    2.0\n",
       "2    3.0\n",
       "4    5.0\n",
       "5    6.0\n",
       "7    7.0\n",
       "8    8.0\n",
       "dtype: float64"
      ]
     },
     "execution_count": 434,
     "metadata": {},
     "output_type": "execute_result"
    }
   ],
   "source": [
    "serie_faltante.dropna()"
   ]
  },
  {
   "cell_type": "code",
   "execution_count": 435,
   "metadata": {},
   "outputs": [
    {
     "data": {
      "text/plain": [
       "0     1.000000\n",
       "1     2.000000\n",
       "2     3.000000\n",
       "3     4.571429\n",
       "4     5.000000\n",
       "5     6.000000\n",
       "6     4.571429\n",
       "7     7.000000\n",
       "8     8.000000\n",
       "9     4.571429\n",
       "10    4.571429\n",
       "dtype: float64"
      ]
     },
     "execution_count": 435,
     "metadata": {},
     "output_type": "execute_result"
    }
   ],
   "source": [
    "serie_faltante.fillna(serie_faltante.mean())"
   ]
  },
  {
   "cell_type": "code",
   "execution_count": 436,
   "metadata": {},
   "outputs": [
    {
     "data": {
      "text/plain": [
       "0      Maça\n",
       "1    Banana\n",
       "2     Arroz\n",
       "3    Feijão\n",
       "4    Feijão\n",
       "5       NaN\n",
       "6       NaN\n",
       "7    Batata\n",
       "dtype: object"
      ]
     },
     "execution_count": 436,
     "metadata": {},
     "output_type": "execute_result"
    }
   ],
   "source": [
    "serie_faltante_s = pd.Series([\n",
    "    \"Maça\", \"Banana\", \"Arroz\", \"Feijão\", \"Feijão\", np.nan, np.nan, \"Batata\"\n",
    "])\n",
    "serie_faltante_s"
   ]
  },
  {
   "cell_type": "code",
   "execution_count": 437,
   "metadata": {},
   "outputs": [
    {
     "data": {
      "text/plain": [
       "np.int64(2)"
      ]
     },
     "execution_count": 437,
     "metadata": {},
     "output_type": "execute_result"
    }
   ],
   "source": [
    "serie_faltante_s.isna().sum()"
   ]
  },
  {
   "cell_type": "code",
   "execution_count": 438,
   "metadata": {},
   "outputs": [
    {
     "data": {
      "text/plain": [
       "0             Maça\n",
       "1           Banana\n",
       "2            Arroz\n",
       "3           Feijão\n",
       "4           Feijão\n",
       "5    Não informado\n",
       "6    Não informado\n",
       "7           Batata\n",
       "dtype: object"
      ]
     },
     "execution_count": 438,
     "metadata": {},
     "output_type": "execute_result"
    }
   ],
   "source": [
    "serie_faltante_s.fillna(\"Não informado\")"
   ]
  },
  {
   "cell_type": "code",
   "execution_count": 439,
   "metadata": {},
   "outputs": [
    {
     "data": {
      "text/plain": [
       "0    Feijão\n",
       "dtype: object"
      ]
     },
     "execution_count": 439,
     "metadata": {},
     "output_type": "execute_result"
    }
   ],
   "source": [
    "serie_faltante_s.mode()"
   ]
  },
  {
   "cell_type": "code",
   "execution_count": 440,
   "metadata": {},
   "outputs": [
    {
     "data": {
      "text/plain": [
       "'Feijão'"
      ]
     },
     "execution_count": 440,
     "metadata": {},
     "output_type": "execute_result"
    }
   ],
   "source": [
    "serie_faltante_s.mode().iloc[0]"
   ]
  },
  {
   "cell_type": "code",
   "execution_count": 441,
   "metadata": {},
   "outputs": [
    {
     "data": {
      "text/plain": [
       "0      Maça\n",
       "1    Banana\n",
       "2     Arroz\n",
       "3    Feijão\n",
       "4    Feijão\n",
       "5    Feijão\n",
       "6    Feijão\n",
       "7    Batata\n",
       "dtype: object"
      ]
     },
     "execution_count": 441,
     "metadata": {},
     "output_type": "execute_result"
    }
   ],
   "source": [
    "serie_faltante_s.fillna(serie_faltante_s.mode().iloc[0])"
   ]
  },
  {
   "cell_type": "markdown",
   "metadata": {},
   "source": [
    "### Funções"
   ]
  },
  {
   "cell_type": "code",
   "execution_count": 442,
   "metadata": {},
   "outputs": [
    {
     "data": {
      "text/plain": [
       "0        39\n",
       "1        50\n",
       "2        38\n",
       "3        53\n",
       "4        28\n",
       "         ..\n",
       "32556    27\n",
       "32557    40\n",
       "32558    58\n",
       "32559    22\n",
       "32560    52\n",
       "Name: age, Length: 32561, dtype: int64"
      ]
     },
     "execution_count": 442,
     "metadata": {},
     "output_type": "execute_result"
    }
   ],
   "source": [
    "serie_age"
   ]
  },
  {
   "cell_type": "code",
   "execution_count": 443,
   "metadata": {},
   "outputs": [
    {
     "data": {
      "text/plain": [
       "106      17\n",
       "209      17\n",
       "262      17\n",
       "271      17\n",
       "335      17\n",
       "         ..\n",
       "31772    17\n",
       "31864    17\n",
       "31959    17\n",
       "32282    17\n",
       "32447    17\n",
       "Name: age, Length: 395, dtype: int64"
      ]
     },
     "execution_count": 443,
     "metadata": {},
     "output_type": "execute_result"
    }
   ],
   "source": [
    "serie_age.loc[serie_age < 18]"
   ]
  },
  {
   "cell_type": "code",
   "execution_count": 444,
   "metadata": {},
   "outputs": [],
   "source": [
    "# 1ª Opção\n",
    "# def corrige_idade(idade):\n",
    "#     if idade < 18:\n",
    "#         idade = 18\n",
    "#     return idade\n",
    "\n",
    "# serie_age = serie_age.apply(corrige_idade)\n",
    "# serie_age.loc[serie_age < 18]\n",
    "\n"
   ]
  },
  {
   "cell_type": "code",
   "execution_count": 447,
   "metadata": {},
   "outputs": [
    {
     "data": {
      "text/plain": [
       "51       18\n",
       "78       18\n",
       "80       18\n",
       "106      18\n",
       "168      18\n",
       "         ..\n",
       "32345    18\n",
       "32392    18\n",
       "32443    18\n",
       "32447    18\n",
       "32496    18\n",
       "Name: age, Length: 945, dtype: int64"
      ]
     },
     "execution_count": 447,
     "metadata": {},
     "output_type": "execute_result"
    }
   ],
   "source": [
    "# 2ª Opção\n",
    "serie_age = serie_age.apply(lambda idade: 18 if idade < 18 else idade)\n",
    "serie_age.loc[serie_age == 18]"
   ]
  },
  {
   "cell_type": "code",
   "execution_count": 448,
   "metadata": {},
   "outputs": [
    {
     "data": {
      "text/plain": [
       "51       17\n",
       "78       17\n",
       "80       17\n",
       "106      17\n",
       "168      17\n",
       "         ..\n",
       "32345    17\n",
       "32392    17\n",
       "32443    17\n",
       "32447    17\n",
       "32496    17\n",
       "Name: age, Length: 945, dtype: int64"
      ]
     },
     "execution_count": 448,
     "metadata": {},
     "output_type": "execute_result"
    }
   ],
   "source": [
    "serie_age = serie_age.apply(lambda idade: 17 if idade == 18 else idade)\n",
    "serie_age.loc[serie_age < 18]"
   ]
  },
  {
   "cell_type": "code",
   "execution_count": 449,
   "metadata": {},
   "outputs": [
    {
     "data": {
      "text/plain": [
       "0     39\n",
       "1     50\n",
       "2     38\n",
       "3     53\n",
       "4     28\n",
       "5     37\n",
       "6     49\n",
       "7     52\n",
       "8     31\n",
       "9     42\n",
       "10    37\n",
       "Name: age, dtype: int64"
      ]
     },
     "execution_count": 449,
     "metadata": {},
     "output_type": "execute_result"
    }
   ],
   "source": [
    "serie_age2 = serie_age.iloc[0:11]\n",
    "serie_age2"
   ]
  },
  {
   "cell_type": "code",
   "execution_count": 451,
   "metadata": {},
   "outputs": [
    {
     "data": {
      "text/plain": [
       "0     39\n",
       "1     15\n",
       "2     38\n",
       "3     15\n",
       "4     28\n",
       "5     37\n",
       "6     15\n",
       "7     15\n",
       "8     31\n",
       "9     15\n",
       "10    37\n",
       "Name: age, dtype: int64"
      ]
     },
     "execution_count": 451,
     "metadata": {},
     "output_type": "execute_result"
    }
   ],
   "source": [
    "serie_age2.where(serie_age2 < 40, 15)"
   ]
  },
  {
   "cell_type": "code",
   "execution_count": null,
   "metadata": {},
   "outputs": [],
   "source": []
  }
 ],
 "metadata": {
  "kernelspec": {
   "display_name": "Python 3 (ipykernel)",
   "language": "python",
   "name": "python3"
  },
  "language_info": {
   "codemirror_mode": {
    "name": "ipython",
    "version": 3
   },
   "file_extension": ".py",
   "mimetype": "text/x-python",
   "name": "python",
   "nbconvert_exporter": "python",
   "pygments_lexer": "ipython3",
   "version": "3.13.1"
  }
 },
 "nbformat": 4,
 "nbformat_minor": 4
}
