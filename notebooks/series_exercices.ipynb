{
 "cells": [
  {
   "cell_type": "code",
   "execution_count": 1,
   "id": "297ca0ce-8075-4f8f-a018-57b33caeea15",
   "metadata": {},
   "outputs": [],
   "source": [
    "import os\n",
    "import pandas as pd\n",
    "import numpy as np"
   ]
  },
  {
   "cell_type": "code",
   "execution_count": 2,
   "id": "630f160a-4fff-4a4e-a059-78e350cae606",
   "metadata": {},
   "outputs": [
    {
     "name": "stdout",
     "output_type": "stream",
     "text": [
      "2.2.3\n",
      "2.2.1\n"
     ]
    }
   ],
   "source": [
    "print(pd.__version__)\n",
    "print(np.__version__)"
   ]
  },
  {
   "cell_type": "code",
   "execution_count": 3,
   "id": "54fe5c2f-7aa4-4b7b-99c0-24ed816adfb8",
   "metadata": {},
   "outputs": [
    {
     "data": {
      "text/html": [
       "<div>\n",
       "<style scoped>\n",
       "    .dataframe tbody tr th:only-of-type {\n",
       "        vertical-align: middle;\n",
       "    }\n",
       "\n",
       "    .dataframe tbody tr th {\n",
       "        vertical-align: top;\n",
       "    }\n",
       "\n",
       "    .dataframe thead th {\n",
       "        text-align: right;\n",
       "    }\n",
       "</style>\n",
       "<table border=\"1\" class=\"dataframe\">\n",
       "  <thead>\n",
       "    <tr style=\"text-align: right;\">\n",
       "      <th></th>\n",
       "      <th>Month</th>\n",
       "      <th>#Passengers</th>\n",
       "    </tr>\n",
       "  </thead>\n",
       "  <tbody>\n",
       "    <tr>\n",
       "      <th>0</th>\n",
       "      <td>1949-01</td>\n",
       "      <td>112</td>\n",
       "    </tr>\n",
       "    <tr>\n",
       "      <th>1</th>\n",
       "      <td>1949-02</td>\n",
       "      <td>118</td>\n",
       "    </tr>\n",
       "    <tr>\n",
       "      <th>2</th>\n",
       "      <td>1949-03</td>\n",
       "      <td>132</td>\n",
       "    </tr>\n",
       "    <tr>\n",
       "      <th>3</th>\n",
       "      <td>1949-04</td>\n",
       "      <td>129</td>\n",
       "    </tr>\n",
       "    <tr>\n",
       "      <th>4</th>\n",
       "      <td>1949-05</td>\n",
       "      <td>121</td>\n",
       "    </tr>\n",
       "    <tr>\n",
       "      <th>...</th>\n",
       "      <td>...</td>\n",
       "      <td>...</td>\n",
       "    </tr>\n",
       "    <tr>\n",
       "      <th>139</th>\n",
       "      <td>1960-08</td>\n",
       "      <td>606</td>\n",
       "    </tr>\n",
       "    <tr>\n",
       "      <th>140</th>\n",
       "      <td>1960-09</td>\n",
       "      <td>508</td>\n",
       "    </tr>\n",
       "    <tr>\n",
       "      <th>141</th>\n",
       "      <td>1960-10</td>\n",
       "      <td>461</td>\n",
       "    </tr>\n",
       "    <tr>\n",
       "      <th>142</th>\n",
       "      <td>1960-11</td>\n",
       "      <td>390</td>\n",
       "    </tr>\n",
       "    <tr>\n",
       "      <th>143</th>\n",
       "      <td>1960-12</td>\n",
       "      <td>432</td>\n",
       "    </tr>\n",
       "  </tbody>\n",
       "</table>\n",
       "<p>144 rows × 2 columns</p>\n",
       "</div>"
      ],
      "text/plain": [
       "       Month  #Passengers\n",
       "0    1949-01          112\n",
       "1    1949-02          118\n",
       "2    1949-03          132\n",
       "3    1949-04          129\n",
       "4    1949-05          121\n",
       "..       ...          ...\n",
       "139  1960-08          606\n",
       "140  1960-09          508\n",
       "141  1960-10          461\n",
       "142  1960-11          390\n",
       "143  1960-12          432\n",
       "\n",
       "[144 rows x 2 columns]"
      ]
     },
     "execution_count": 3,
     "metadata": {},
     "output_type": "execute_result"
    }
   ],
   "source": [
    "# Carregando os dados\n",
    "dataset = pd.read_csv(f\"{os.path.join(os.path.dirname(os.getcwd()), 'data', 'AirPassengers.csv')}\")\n",
    "dataset"
   ]
  },
  {
   "cell_type": "code",
   "execution_count": 18,
   "id": "ec9dfc25-0a28-4bc8-b695-21c72f5570e5",
   "metadata": {},
   "outputs": [
    {
     "data": {
      "text/plain": [
       "Month\n",
       "1949-01    112\n",
       "1949-02    118\n",
       "1949-03    132\n",
       "1949-04    129\n",
       "1949-05    121\n",
       "          ... \n",
       "1960-08    606\n",
       "1960-09    508\n",
       "1960-10    461\n",
       "1960-11    390\n",
       "1960-12    432\n",
       "Length: 144, dtype: int64"
      ]
     },
     "execution_count": 18,
     "metadata": {},
     "output_type": "execute_result"
    }
   ],
   "source": [
    "# Criando uma série\n",
    "serie = pd.Series(np.array(dataset[\"#Passengers\"]), index = dataset[\"Month\"])\n",
    "serie"
   ]
  },
  {
   "cell_type": "code",
   "execution_count": 19,
   "id": "4c805e43-ab45-47dd-892b-8d4bc6543e00",
   "metadata": {},
   "outputs": [
    {
     "name": "stdout",
     "output_type": "stream",
     "text": [
      "<class 'pandas.core.series.Series'>\n"
     ]
    }
   ],
   "source": [
    "# Tipo\n",
    "print(type(serie))"
   ]
  },
  {
   "cell_type": "code",
   "execution_count": 20,
   "id": "00658449-45c1-48a6-9f20-62eaee93a2a5",
   "metadata": {},
   "outputs": [
    {
     "name": "stdout",
     "output_type": "stream",
     "text": [
      "Index(['1949-01', '1949-02', '1949-03', '1949-04', '1949-05', '1949-06',\n",
      "       '1949-07', '1949-08', '1949-09', '1949-10',\n",
      "       ...\n",
      "       '1960-03', '1960-04', '1960-05', '1960-06', '1960-07', '1960-08',\n",
      "       '1960-09', '1960-10', '1960-11', '1960-12'],\n",
      "      dtype='object', name='Month', length=144)\n"
     ]
    }
   ],
   "source": [
    "# Índices\n",
    "print(serie.index)"
   ]
  },
  {
   "cell_type": "code",
   "execution_count": 22,
   "id": "0c70b8e5-cda1-464d-8a96-84f6eb57dc5f",
   "metadata": {},
   "outputs": [
    {
     "name": "stdout",
     "output_type": "stream",
     "text": [
      "int64\n"
     ]
    }
   ],
   "source": [
    "# Tipo de dado\n",
    "print(serie.dtype)"
   ]
  },
  {
   "cell_type": "code",
   "execution_count": 24,
   "id": "1c1c4a95-ab06-4b71-91f3-4aaa73cc3dfd",
   "metadata": {},
   "outputs": [
    {
     "name": "stdout",
     "output_type": "stream",
     "text": [
      "1\n"
     ]
    }
   ],
   "source": [
    "# Número de dimensões\n",
    "print(serie.ndim)"
   ]
  },
  {
   "cell_type": "code",
   "execution_count": 25,
   "id": "48392073-f928-48e9-b55f-2a90ab1cd30f",
   "metadata": {},
   "outputs": [
    {
     "data": {
      "text/plain": [
       "144"
      ]
     },
     "execution_count": 25,
     "metadata": {},
     "output_type": "execute_result"
    }
   ],
   "source": [
    "# Tamanho da série\n",
    "print(serie.size)"
   ]
  },
  {
   "cell_type": "code",
   "execution_count": 26,
   "id": "13715bfb-f718-42c5-8302-cc18574f1e9a",
   "metadata": {},
   "outputs": [
    {
     "name": "stdout",
     "output_type": "stream",
     "text": [
      "Month\n",
      "1949-01    112\n",
      "1949-02    118\n",
      "1949-03    132\n",
      "1949-04    129\n",
      "1949-05    121\n",
      "dtype: int64\n"
     ]
    }
   ],
   "source": [
    "# Listando os cinco primeiros elementos\n",
    "print(serie.head())"
   ]
  },
  {
   "cell_type": "code",
   "execution_count": 27,
   "id": "34133bb8-2b87-4f00-b35c-b86f3e5220c4",
   "metadata": {},
   "outputs": [
    {
     "name": "stdout",
     "output_type": "stream",
     "text": [
      "Month\n",
      "1960-08    606\n",
      "1960-09    508\n",
      "1960-10    461\n",
      "1960-11    390\n",
      "1960-12    432\n",
      "dtype: int64\n"
     ]
    }
   ],
   "source": [
    "# Listando os cinco últimos elementos\n",
    "print(serie.tail())"
   ]
  },
  {
   "cell_type": "code",
   "execution_count": 30,
   "id": "8e88d050-f29d-40a4-82d4-f078769ef59c",
   "metadata": {},
   "outputs": [
    {
     "name": "stdout",
     "output_type": "stream",
     "text": [
      "112\n"
     ]
    }
   ],
   "source": [
    "# Buscando valor da primeira coluna na primeira linha\n",
    "print(serie.iloc[0])"
   ]
  },
  {
   "cell_type": "code",
   "execution_count": 31,
   "id": "60a0f16c-3427-4ca2-8532-6fb4b2c48a38",
   "metadata": {},
   "outputs": [
    {
     "name": "stdout",
     "output_type": "stream",
     "text": [
      "Month\n",
      "1949-01    112\n",
      "1949-02    118\n",
      "1949-03    132\n",
      "1949-04    129\n",
      "dtype: int64\n"
     ]
    }
   ],
   "source": [
    "# Buscando valor da primeira coluna nas 4 primeiras linhas\n",
    "print(serie.iloc[0:4])"
   ]
  },
  {
   "cell_type": "code",
   "execution_count": 32,
   "id": "0baf6716-7f1b-44eb-8fce-6d434db27297",
   "metadata": {},
   "outputs": [
    {
     "name": "stdout",
     "output_type": "stream",
     "text": [
      "432\n"
     ]
    }
   ],
   "source": [
    "# Buscando o último valor da primeira coluna na última linha\n",
    "print(serie.iloc[-1])"
   ]
  },
  {
   "cell_type": "code",
   "execution_count": 34,
   "id": "e10394b5-94e9-4335-ad70-0c9550dbf813",
   "metadata": {},
   "outputs": [
    {
     "name": "stdout",
     "output_type": "stream",
     "text": [
      "606\n"
     ]
    }
   ],
   "source": [
    "# Pesquisando valores por índices\n",
    "print(serie.loc[\"1960-08\"])"
   ]
  },
  {
   "cell_type": "code",
   "execution_count": 35,
   "id": "9ebb755e-69f1-478f-96e6-b64abf999f7d",
   "metadata": {},
   "outputs": [
    {
     "name": "stdout",
     "output_type": "stream",
     "text": [
      "Month\n",
      "1960-08    606\n",
      "1960-09    508\n",
      "1960-10    461\n",
      "1960-11    390\n",
      "1960-12    432\n",
      "dtype: int64\n"
     ]
    }
   ],
   "source": [
    "# Pesquisando uma lista de valores por índices\n",
    "print(serie.loc[\"1960-08\":\"1960-12\"])"
   ]
  },
  {
   "cell_type": "code",
   "execution_count": 36,
   "id": "e77d973f-4f4c-4e42-b503-1298b17bb95b",
   "metadata": {},
   "outputs": [
    {
     "name": "stdout",
     "output_type": "stream",
     "text": [
      "Month\n",
      "1949-11    104\n",
      "1949-01    112\n",
      "1950-11    114\n",
      "1950-01    115\n",
      "1949-12    118\n",
      "          ... \n",
      "1960-06    535\n",
      "1959-07    548\n",
      "1959-08    559\n",
      "1960-08    606\n",
      "1960-07    622\n",
      "Length: 144, dtype: int64\n"
     ]
    }
   ],
   "source": [
    "# Ordenando valores (ordem crescente)\n",
    "print(serie.sort_values())"
   ]
  },
  {
   "cell_type": "code",
   "execution_count": 37,
   "id": "cb6a233a-3bc1-406e-9fbe-b939935439c1",
   "metadata": {},
   "outputs": [
    {
     "name": "stdout",
     "output_type": "stream",
     "text": [
      "Month\n",
      "1960-07    622\n",
      "1960-08    606\n",
      "1959-08    559\n",
      "1959-07    548\n",
      "1960-06    535\n",
      "          ... \n",
      "1949-12    118\n",
      "1950-01    115\n",
      "1950-11    114\n",
      "1949-01    112\n",
      "1949-11    104\n",
      "Length: 144, dtype: int64\n"
     ]
    }
   ],
   "source": [
    "# Ordenando valores (ordem decrescente)\n",
    "print(serie.sort_values(ascending=False))"
   ]
  },
  {
   "cell_type": "code",
   "execution_count": 40,
   "id": "f03bcc2d-5ec1-44e6-aa76-bcd829071125",
   "metadata": {},
   "outputs": [
    {
     "name": "stdout",
     "output_type": "stream",
     "text": [
      "Month\n",
      "1949-01    112\n",
      "1949-02    118\n",
      "1949-03    132\n",
      "1949-04    129\n",
      "1949-05    121\n",
      "          ... \n",
      "1960-08    606\n",
      "1960-09    508\n",
      "1960-10    461\n",
      "1960-11    390\n",
      "1960-12    432\n",
      "Length: 144, dtype: int64\n"
     ]
    }
   ],
   "source": [
    "# Ordenando índices (Ordem crescente)\n",
    "print(serie.sort_index())"
   ]
  },
  {
   "cell_type": "code",
   "execution_count": 41,
   "id": "ea9df215-a4b6-4f98-b9f2-110bb82585ff",
   "metadata": {},
   "outputs": [
    {
     "name": "stdout",
     "output_type": "stream",
     "text": [
      "Month\n",
      "1960-12    432\n",
      "1960-11    390\n",
      "1960-10    461\n",
      "1960-09    508\n",
      "1960-08    606\n",
      "          ... \n",
      "1949-05    121\n",
      "1949-04    129\n",
      "1949-03    132\n",
      "1949-02    118\n",
      "1949-01    112\n",
      "Length: 144, dtype: int64\n"
     ]
    }
   ],
   "source": [
    "# Ordenando índices (Ordem decrescente)\n",
    "print(serie.sort_index(ascending=False))"
   ]
  },
  {
   "cell_type": "code",
   "execution_count": 43,
   "id": "6a50032b-38b0-4948-989e-fdb78f700fe1",
   "metadata": {},
   "outputs": [
    {
     "name": "stdout",
     "output_type": "stream",
     "text": [
      "229    3\n",
      "118    2\n",
      "170    2\n",
      "148    2\n",
      "178    2\n",
      "      ..\n",
      "622    1\n",
      "606    1\n",
      "508    1\n",
      "390    1\n",
      "432    1\n",
      "Name: count, Length: 118, dtype: int64\n"
     ]
    }
   ],
   "source": [
    "# Contagem dos valores\n",
    "print(serie.value_counts())"
   ]
  },
  {
   "cell_type": "code",
   "execution_count": 44,
   "id": "299e2f07-cadb-42d2-939b-51b2af3c2ab6",
   "metadata": {},
   "outputs": [
    {
     "name": "stdout",
     "output_type": "stream",
     "text": [
      "Month\n",
      "1954-07    302\n",
      "1955-06    315\n",
      "1955-07    364\n",
      "1955-08    347\n",
      "1955-09    312\n",
      "          ... \n",
      "1960-08    606\n",
      "1960-09    508\n",
      "1960-10    461\n",
      "1960-11    390\n",
      "1960-12    432\n",
      "Length: 62, dtype: int64\n"
     ]
    }
   ],
   "source": [
    "# Filtrando índices e valores a partir de determinadas condições\n",
    "print(serie.loc[serie > 300])"
   ]
  },
  {
   "cell_type": "code",
   "execution_count": 45,
   "id": "07b0faf8-8e19-4ff9-bb03-f62f8cd920a5",
   "metadata": {},
   "outputs": [
    {
     "name": "stdout",
     "output_type": "stream",
     "text": [
      "Month\n",
      "1954-07    302\n",
      "dtype: int64\n"
     ]
    }
   ],
   "source": [
    "print(serie.loc[serie.index == \"1954-07\"])"
   ]
  },
  {
   "cell_type": "code",
   "execution_count": 46,
   "id": "e8f34e45-ba1b-49a9-91c8-3281c2feb1d6",
   "metadata": {},
   "outputs": [
    {
     "name": "stdout",
     "output_type": "stream",
     "text": [
      "Month\n",
      "1949-01    112\n",
      "1949-02    118\n",
      "1949-03    132\n",
      "1949-04    129\n",
      "1949-05    121\n",
      "1949-06    135\n",
      "1949-07    148\n",
      "1949-08    148\n",
      "1949-09    136\n",
      "1949-10    119\n",
      "1949-11    104\n",
      "1949-12    118\n",
      "1950-01    115\n",
      "1950-02    126\n",
      "1950-03    141\n",
      "1950-04    135\n",
      "1950-05    125\n",
      "1950-06    149\n",
      "1950-07    170\n",
      "dtype: int64\n"
     ]
    }
   ],
   "source": [
    "print(serie.loc[serie.index < \"1950-08\"])"
   ]
  },
  {
   "cell_type": "code",
   "execution_count": 52,
   "id": "471479c7-9d36-4033-af96-bc50853cbf6e",
   "metadata": {},
   "outputs": [
    {
     "name": "stdout",
     "output_type": "stream",
     "text": [
      "Month\n",
      "1949-02    118\n",
      "1949-03    132\n",
      "1949-04    129\n",
      "1949-05    121\n",
      "1949-06    135\n",
      "1949-07    148\n",
      "1949-08    148\n",
      "1949-09    136\n",
      "1949-10    119\n",
      "1949-11    104\n",
      "1949-12    118\n",
      "dtype: int64\n"
     ]
    }
   ],
   "source": [
    "print(serie.loc[(serie.index > \"1949-01\") & (serie.index < \"1950-01\")])"
   ]
  },
  {
   "cell_type": "code",
   "execution_count": 54,
   "id": "b179b458-6a05-46fa-bcff-18ce82c72f85",
   "metadata": {},
   "outputs": [
    {
     "data": {
      "text/plain": [
       "np.int64(40363)"
      ]
     },
     "execution_count": 54,
     "metadata": {},
     "output_type": "execute_result"
    }
   ],
   "source": [
    "# Somatório\n",
    "serie.sum()"
   ]
  },
  {
   "cell_type": "code",
   "execution_count": 55,
   "id": "7ba79d19-301e-4b57-b55b-92046576cbcf",
   "metadata": {},
   "outputs": [
    {
     "data": {
      "text/plain": [
       "np.float64(280.2986111111111)"
      ]
     },
     "execution_count": 55,
     "metadata": {},
     "output_type": "execute_result"
    }
   ],
   "source": [
    "# Média\n",
    "serie.mean()"
   ]
  },
  {
   "cell_type": "code",
   "execution_count": 56,
   "id": "740e69ca-93f5-45e7-8aea-83a304a98a6e",
   "metadata": {},
   "outputs": [
    {
     "data": {
      "text/plain": [
       "np.int64(104)"
      ]
     },
     "execution_count": 56,
     "metadata": {},
     "output_type": "execute_result"
    }
   ],
   "source": [
    "# Menor valor\n",
    "serie.min()"
   ]
  },
  {
   "cell_type": "code",
   "execution_count": 57,
   "id": "d3100cc5-a262-47ca-a765-302277935978",
   "metadata": {},
   "outputs": [
    {
     "data": {
      "text/plain": [
       "np.int64(622)"
      ]
     },
     "execution_count": 57,
     "metadata": {},
     "output_type": "execute_result"
    }
   ],
   "source": [
    "# Maior valor\n",
    "serie.max()"
   ]
  },
  {
   "cell_type": "code",
   "execution_count": 58,
   "id": "ed7244f9-edc5-495a-9206-a5c4ac6aa13b",
   "metadata": {},
   "outputs": [
    {
     "data": {
      "text/plain": [
       "np.int64(1520)"
      ]
     },
     "execution_count": 58,
     "metadata": {},
     "output_type": "execute_result"
    }
   ],
   "source": [
    "# Filtro + Somatório\n",
    "serie.loc[(serie.index >= \"1949-01\") & (serie.index < \"1950-01\")].sum()"
   ]
  },
  {
   "cell_type": "code",
   "execution_count": 59,
   "id": "8ec263c9-f400-4671-873c-8f7901e70f97",
   "metadata": {},
   "outputs": [
    {
     "data": {
      "text/plain": [
       "Index(['1949-01', '1949-02', '1949-03', '1949-04', '1949-05', '1949-06',\n",
       "       '1949-07', '1949-08', '1949-09', '1949-10',\n",
       "       ...\n",
       "       '1960-03', '1960-04', '1960-05', '1960-06', '1960-07', '1960-08',\n",
       "       '1960-09', '1960-10', '1960-11', '1960-12'],\n",
       "      dtype='object', name='Month', length=144)"
      ]
     },
     "execution_count": 59,
     "metadata": {},
     "output_type": "execute_result"
    }
   ],
   "source": [
    "# Retornando valores sem duplicações\n",
    "serie.index.unique()"
   ]
  },
  {
   "cell_type": "code",
   "execution_count": 60,
   "id": "2495ef23-2ea4-458e-9ea3-34378fb145b8",
   "metadata": {},
   "outputs": [
    {
     "data": {
      "text/plain": [
       "np.int64(0)"
      ]
     },
     "execution_count": 60,
     "metadata": {},
     "output_type": "execute_result"
    }
   ],
   "source": [
    "# Somatório de valores nulos\n",
    "serie.isna().sum()"
   ]
  },
  {
   "cell_type": "code",
   "execution_count": 61,
   "id": "17a49560-4210-4338-88c5-821c8f886a01",
   "metadata": {},
   "outputs": [
    {
     "data": {
      "text/plain": [
       "Month\n",
       "1949-01    112\n",
       "1949-02    118\n",
       "1949-03    132\n",
       "1949-04    129\n",
       "1949-05    121\n",
       "          ... \n",
       "1960-08    606\n",
       "1960-09    508\n",
       "1960-10    461\n",
       "1960-11    390\n",
       "1960-12    432\n",
       "Length: 144, dtype: int64"
      ]
     },
     "execution_count": 61,
     "metadata": {},
     "output_type": "execute_result"
    }
   ],
   "source": [
    "serie"
   ]
  },
  {
   "cell_type": "code",
   "execution_count": 67,
   "id": "f3055084-1f32-46ed-802b-7d5c3d6e2521",
   "metadata": {},
   "outputs": [
    {
     "name": "stdout",
     "output_type": "stream",
     "text": [
      "Dias: Index([1, 1, 1, 1, 1, 1, 1, 1, 1, 1,\n",
      "       ...\n",
      "       1, 1, 1, 1, 1, 1, 1, 1, 1, 1],\n",
      "      dtype='int32', name='Month', length=144)\n",
      "Mêses: Index([ 1,  2,  3,  4,  5,  6,  7,  8,  9, 10,\n",
      "       ...\n",
      "        3,  4,  5,  6,  7,  8,  9, 10, 11, 12],\n",
      "      dtype='int32', name='Month', length=144)\n",
      "Anos: Index([1949, 1949, 1949, 1949, 1949, 1949, 1949, 1949, 1949, 1949,\n",
      "       ...\n",
      "       1960, 1960, 1960, 1960, 1960, 1960, 1960, 1960, 1960, 1960],\n",
      "      dtype='int32', name='Month', length=144)\n"
     ]
    }
   ],
   "source": [
    "# Como os índices são dadas, é possível extrair dia, mês e ano\n",
    "print(f\"Dias: {pd.DatetimeIndex(serie.index).day}\")\n",
    "print(f\"Mêses: {pd.DatetimeIndex(serie.index).month}\")\n",
    "print(f\"Anos: {pd.DatetimeIndex(serie.index).year}\")"
   ]
  },
  {
   "cell_type": "code",
   "execution_count": 70,
   "id": "7ae6daae-b130-422b-a7ca-4b1345e8d78f",
   "metadata": {},
   "outputs": [
    {
     "data": {
      "text/plain": [
       "np.int64(4216)"
      ]
     },
     "execution_count": 70,
     "metadata": {},
     "output_type": "execute_result"
    }
   ],
   "source": [
    "# Pode-se realizar cálculos como o somatórios de todos os índices que fazem referência ao mês 7 (julho)\n",
    "serie.loc[(pd.DatetimeIndex(serie.index).month == 7)].sum()"
   ]
  },
  {
   "cell_type": "code",
   "execution_count": 71,
   "id": "8538c86b-bc95-466d-8546-61f198ee86f1",
   "metadata": {},
   "outputs": [
    {
     "data": {
      "text/plain": [
       "np.int64(1676)"
      ]
     },
     "execution_count": 71,
     "metadata": {},
     "output_type": "execute_result"
    }
   ],
   "source": [
    "# Pode-se realizar cálculos como o somatórios de todos os índices que fazem referência ao ano de 1950\n",
    "serie.loc[(pd.DatetimeIndex(serie.index).year == 1950)].sum()"
   ]
  },
  {
   "cell_type": "code",
   "execution_count": null,
   "id": "f0ba9cc1-efe5-4a73-8465-ed6f5e78212e",
   "metadata": {},
   "outputs": [],
   "source": []
  }
 ],
 "metadata": {
  "kernelspec": {
   "display_name": "Python 3 (ipykernel)",
   "language": "python",
   "name": "python3"
  },
  "language_info": {
   "codemirror_mode": {
    "name": "ipython",
    "version": 3
   },
   "file_extension": ".py",
   "mimetype": "text/x-python",
   "name": "python",
   "nbconvert_exporter": "python",
   "pygments_lexer": "ipython3",
   "version": "3.13.0"
  }
 },
 "nbformat": 4,
 "nbformat_minor": 5
}
